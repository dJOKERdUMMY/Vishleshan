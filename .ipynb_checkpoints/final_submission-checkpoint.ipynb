{
 "cells": [
  {
   "cell_type": "markdown",
   "metadata": {},
   "source": [
    "* Importing necessary modules to perform Data Analysis\n",
    "* Importing necessary python modules<br>\n",
    "* Pandas is useful for visualising the the dataset in a tabular format and provides proper handling of data.<br>\n",
    "* Numpy is an extremely module for all numerical process in statistical methods<br>\n",
    "* Random seed is introduced to make output stable across different devices and it also allows NP complexity handling.<br>\n",
    "* Matplotlib is a plotting library and helps plot 2D and 3D figures and plots of the data.<br>\n",
    "* Seaborn is an extra toppings on the Matplotlib for making the plot look more beautiful.<br>"
   ]
  },
  {
   "cell_type": "code",
   "execution_count": 1,
   "metadata": {},
   "outputs": [],
   "source": [
    "#importing pandas to visualise the dataset in tabular format\n",
    "import pandas as pd\n",
    "import numpy as np\n",
    "#introducing stable analysis through random seed\n",
    "np.random.seed(42)\n",
    "#importing matplotlib and seaborn for data visualisation\n",
    "import matplotlib.pyplot as plt\n",
    "import matplotlib\n",
    "import seaborn as sns\n",
    "%matplotlib inline\n",
    "plt.rcParams['axes.labelsize'] = 15\n",
    "plt.rcParams['xtick.labelsize'] = 12\n",
    "plt.rcParams['ytick.labelsize'] = 12\n",
    "sns.set()\n",
    "#importing time function to create animated behaviour\n",
    "import time\n",
    "#importing regExp for data cleaning\n",
    "import re\n",
    "from numpy import NaN"
   ]
  },
  {
   "cell_type": "code",
   "execution_count": 2,
   "metadata": {},
   "outputs": [
    {
     "data": {
      "text/html": [
       "<div>\n",
       "<style scoped>\n",
       "    .dataframe tbody tr th:only-of-type {\n",
       "        vertical-align: middle;\n",
       "    }\n",
       "\n",
       "    .dataframe tbody tr th {\n",
       "        vertical-align: top;\n",
       "    }\n",
       "\n",
       "    .dataframe thead th {\n",
       "        text-align: right;\n",
       "    }\n",
       "</style>\n",
       "<table border=\"1\" class=\"dataframe\">\n",
       "  <thead>\n",
       "    <tr style=\"text-align: right;\">\n",
       "      <th></th>\n",
       "      <th>id</th>\n",
       "      <th>alcohol_consumption</th>\n",
       "      <th>location_class</th>\n",
       "      <th>workstatus</th>\n",
       "      <th>score</th>\n",
       "      <th>divorce</th>\n",
       "      <th>widowed</th>\n",
       "      <th>education</th>\n",
       "      <th>residence_region</th>\n",
       "      <th>babies</th>\n",
       "      <th>preteen</th>\n",
       "      <th>teens</th>\n",
       "      <th>income</th>\n",
       "      <th>engagement_religion</th>\n",
       "      <th>x1</th>\n",
       "      <th>tvhours</th>\n",
       "      <th>gender</th>\n",
       "      <th>response</th>\n",
       "    </tr>\n",
       "  </thead>\n",
       "  <tbody>\n",
       "    <tr>\n",
       "      <th>0</th>\n",
       "      <td>citzen10002</td>\n",
       "      <td>2 - 3 times a month</td>\n",
       "      <td>C</td>\n",
       "      <td>working fulltime</td>\n",
       "      <td>36.0</td>\n",
       "      <td>NaN</td>\n",
       "      <td>NaN</td>\n",
       "      <td>13.0</td>\n",
       "      <td>south atlantic</td>\n",
       "      <td>0.0</td>\n",
       "      <td>0.0</td>\n",
       "      <td>0.0</td>\n",
       "      <td>$20000 - 24999</td>\n",
       "      <td>sevrl times a yr</td>\n",
       "      <td>2</td>\n",
       "      <td>4.0</td>\n",
       "      <td>1</td>\n",
       "      <td>Pretty Happy</td>\n",
       "    </tr>\n",
       "    <tr>\n",
       "      <th>1</th>\n",
       "      <td>citzen10003</td>\n",
       "      <td>Occassional</td>\n",
       "      <td>B</td>\n",
       "      <td>working fulltime</td>\n",
       "      <td>66.0</td>\n",
       "      <td>NaN</td>\n",
       "      <td>no</td>\n",
       "      <td>19.0</td>\n",
       "      <td>south atlantic</td>\n",
       "      <td>0.0</td>\n",
       "      <td>0.0</td>\n",
       "      <td>0.0</td>\n",
       "      <td>$25000 or more</td>\n",
       "      <td>once a month</td>\n",
       "      <td>3</td>\n",
       "      <td>8.0</td>\n",
       "      <td>1</td>\n",
       "      <td>Very Happy</td>\n",
       "    </tr>\n",
       "    <tr>\n",
       "      <th>2</th>\n",
       "      <td>citzen10005</td>\n",
       "      <td>Once a week</td>\n",
       "      <td>F</td>\n",
       "      <td>working parttime</td>\n",
       "      <td>27.0</td>\n",
       "      <td>no</td>\n",
       "      <td>no</td>\n",
       "      <td>9.0</td>\n",
       "      <td>w. nor. central</td>\n",
       "      <td>0.0</td>\n",
       "      <td>0.0</td>\n",
       "      <td>0.0</td>\n",
       "      <td>$20000 - 24999</td>\n",
       "      <td>never</td>\n",
       "      <td>2</td>\n",
       "      <td>5.0</td>\n",
       "      <td>0</td>\n",
       "      <td>Pretty Happy</td>\n",
       "    </tr>\n",
       "    <tr>\n",
       "      <th>3</th>\n",
       "      <td>citzen10006</td>\n",
       "      <td>NaN</td>\n",
       "      <td>D</td>\n",
       "      <td>retired</td>\n",
       "      <td>30.0</td>\n",
       "      <td>no</td>\n",
       "      <td>no</td>\n",
       "      <td>7.0</td>\n",
       "      <td>new england</td>\n",
       "      <td>1.0</td>\n",
       "      <td>0.0</td>\n",
       "      <td>0.0</td>\n",
       "      <td>NaN</td>\n",
       "      <td>sevrl times a yr</td>\n",
       "      <td>2</td>\n",
       "      <td>NaN</td>\n",
       "      <td>0</td>\n",
       "      <td>Not Happy</td>\n",
       "    </tr>\n",
       "    <tr>\n",
       "      <th>4</th>\n",
       "      <td>citzen10009</td>\n",
       "      <td>Once a week</td>\n",
       "      <td>D</td>\n",
       "      <td>retired</td>\n",
       "      <td>35.0</td>\n",
       "      <td>no</td>\n",
       "      <td>NaN</td>\n",
       "      <td>6.0</td>\n",
       "      <td>south atlantic</td>\n",
       "      <td>0.0</td>\n",
       "      <td>0.0</td>\n",
       "      <td>0.0</td>\n",
       "      <td>$10000 - 14999</td>\n",
       "      <td>once a year</td>\n",
       "      <td>1</td>\n",
       "      <td>NaN</td>\n",
       "      <td>0</td>\n",
       "      <td>Pretty Happy</td>\n",
       "    </tr>\n",
       "  </tbody>\n",
       "</table>\n",
       "</div>"
      ],
      "text/plain": [
       "            id  alcohol_consumption location_class        workstatus  score  \\\n",
       "0  citzen10002  2 - 3 times a month              C  working fulltime   36.0   \n",
       "1  citzen10003          Occassional              B  working fulltime   66.0   \n",
       "2  citzen10005          Once a week              F  working parttime   27.0   \n",
       "3  citzen10006                  NaN              D           retired   30.0   \n",
       "4  citzen10009          Once a week              D           retired   35.0   \n",
       "\n",
       "  divorce widowed  education residence_region  babies  preteen  teens  \\\n",
       "0     NaN     NaN       13.0   south atlantic     0.0      0.0    0.0   \n",
       "1     NaN      no       19.0   south atlantic     0.0      0.0    0.0   \n",
       "2      no      no        9.0  w. nor. central     0.0      0.0    0.0   \n",
       "3      no      no        7.0      new england     1.0      0.0    0.0   \n",
       "4      no     NaN        6.0   south atlantic     0.0      0.0    0.0   \n",
       "\n",
       "           income engagement_religion  x1  tvhours  gender      response  \n",
       "0  $20000 - 24999    sevrl times a yr   2      4.0       1  Pretty Happy  \n",
       "1  $25000 or more        once a month   3      8.0       1    Very Happy  \n",
       "2  $20000 - 24999               never   2      5.0       0  Pretty Happy  \n",
       "3             NaN    sevrl times a yr   2      NaN       0     Not Happy  \n",
       "4  $10000 - 14999         once a year   1      NaN       0  Pretty Happy  "
      ]
     },
     "execution_count": 2,
     "metadata": {},
     "output_type": "execute_result"
    }
   ],
   "source": [
    "#reading the .csv training data\n",
    "df = pd.read_csv(\"train.csv\")\n",
    "#the first five rows of the dataset\n",
    "df.head()"
   ]
  },
  {
   "cell_type": "markdown",
   "metadata": {},
   "source": [
    "Defining function data_detail( ) to see the brief detail of the data and the data-type of each column"
   ]
  },
  {
   "cell_type": "code",
   "execution_count": 3,
   "metadata": {
    "collapsed": true
   },
   "outputs": [],
   "source": [
    "def data_detail(daf):\n",
    "    cols = daf.columns.values\n",
    "    print ('The training data has {0} rows and {1} columns'.format(daf.shape[0],daf.shape[1]))\n",
    "    time.sleep(2)\n",
    "    print(\"\\nThe columns in the dataset are : \\n\",end=\"\")\n",
    "    print(cols)\n",
    "    time.sleep(2)\n",
    "    if daf.duplicated(subset=\"id\").sum() == 0:\n",
    "        print(\"\\nAll ID values are unique .\")\n",
    "    print(\"===========================================================\")\n",
    "    print('\\n',daf.info(),'\\n')\n",
    "    time.sleep(2)\n",
    "    value_cols = np.delete(cols,0)\n",
    "    print(\"\\nAll kinds of values in each columns are :\")\n",
    "    for col in value_cols:\n",
    "        print(\"===========================================================\")\n",
    "        print(daf[col].value_counts(dropna=False))"
   ]
  },
  {
   "cell_type": "markdown",
   "metadata": {},
   "source": [
    "Defining function missing_data( ) to find the total amount of missing data in column.<br>\n",
    "It always helps to know the amount of data values missing so that we can either process it or remove it from our analysis ."
   ]
  },
  {
   "cell_type": "code",
   "execution_count": 4,
   "metadata": {
    "collapsed": true
   },
   "outputs": [],
   "source": [
    "def missing_data(daf):\n",
    "    print(\"The percentage of missing values in the dataset is :\")\n",
    "    miss = daf.isnull().sum()/len(daf)\n",
    "    miss = miss[miss > 0]\n",
    "    miss.sort_values(inplace=True)\n",
    "    print(miss)\n",
    "    time.sleep(2)\n",
    "    print(\"\\nGraphical visualisation of missing values :\")\n",
    "    #visualising missing values\n",
    "    miss = miss.to_frame()\n",
    "    miss.columns = ['count']\n",
    "    miss.index.names = ['Name']\n",
    "    miss['Name'] = miss.index\n",
    "\n",
    "    #plot the missing value count\n",
    "    plt.figure(figsize=(15,5))\n",
    "    sns.set(style=\"whitegrid\", color_codes=True)\n",
    "    sns.barplot(x = 'Name', y = 'count', data=miss)\n",
    "    plt.xticks(rotation = 90)\n",
    "    sns.plt.show()"
   ]
  },
  {
   "cell_type": "markdown",
   "metadata": {},
   "source": [
    "Let's now look at the training data details."
   ]
  },
  {
   "cell_type": "code",
   "execution_count": 5,
   "metadata": {},
   "outputs": [
    {
     "name": "stdout",
     "output_type": "stream",
     "text": [
      "The training data has 7252 rows and 18 columns\n",
      "\n",
      "The columns in the dataset are : \n",
      "['id' 'alcohol_consumption' 'location_class' 'workstatus' 'score' 'divorce'\n",
      " 'widowed' 'education' 'residence_region' 'babies' 'preteen' 'teens'\n",
      " 'income' 'engagement_religion' 'x1' 'tvhours' 'gender' 'response']\n",
      "\n",
      "All ID values are unique .\n",
      "===========================================================\n",
      "<class 'pandas.core.frame.DataFrame'>\n",
      "RangeIndex: 7252 entries, 0 to 7251\n",
      "Data columns (total 18 columns):\n",
      "id                     7252 non-null object\n",
      "alcohol_consumption    6870 non-null object\n",
      "location_class         7085 non-null object\n",
      "workstatus             7250 non-null object\n",
      "score                  6895 non-null float64\n",
      "divorce                4156 non-null object\n",
      "widowed                4535 non-null object\n",
      "education              7117 non-null float64\n",
      "residence_region       7252 non-null object\n",
      "babies                 7205 non-null float64\n",
      "preteen                7205 non-null float64\n",
      "teens                  7212 non-null float64\n",
      "income                 6391 non-null object\n",
      "engagement_religion    7133 non-null object\n",
      "x1                     7252 non-null int64\n",
      "tvhours                4970 non-null float64\n",
      "gender                 7252 non-null int64\n",
      "response               7252 non-null object\n",
      "dtypes: float64(6), int64(2), object(10)\n",
      "memory usage: 1019.9+ KB\n",
      "\n",
      " None \n",
      "\n",
      "\n",
      "All kinds of values in each columns are :\n",
      "===========================================================\n",
      "Once a week                 1126\n",
      "2 - 3 times a month         1096\n",
      "Occassional                 1073\n",
      "Once a month                1045\n",
      "Rarely                      1042\n",
      "Never                        986\n",
      "Multiple times in a week     502\n",
      "NaN                          382\n",
      "Name: alcohol_consumption, dtype: int64\n",
      "===========================================================\n",
      "G      1253\n",
      "A      1234\n",
      "B      1185\n",
      "C      1157\n",
      "D      1151\n",
      "F       567\n",
      "E       538\n",
      "NaN     167\n",
      "Name: location_class, dtype: int64\n",
      "===========================================================\n",
      "working fulltime    3863\n",
      "retired             1066\n",
      "keeping house        802\n",
      "working parttime     778\n",
      "school               230\n",
      "unempl, laid off     187\n",
      "other                182\n",
      "temp not working     142\n",
      "NaN                    2\n",
      "Name: workstatus, dtype: int64\n",
      "===========================================================\n",
      " 51.0    551\n",
      "NaN      357\n",
      " 36.0    317\n",
      " 42.0    295\n",
      " 47.0    277\n",
      " 46.0    253\n",
      " 30.0    241\n",
      " 64.0    241\n",
      " 66.0    240\n",
      " 32.0    238\n",
      " 29.0    219\n",
      " 44.0    215\n",
      " 49.0    206\n",
      " 40.0    198\n",
      " 35.0    194\n",
      " 28.0    189\n",
      " 39.0    186\n",
      " 22.0    181\n",
      " 34.0    171\n",
      " 31.0    170\n",
      " 33.0    156\n",
      " 60.0    136\n",
      " 23.0    128\n",
      " 43.0    120\n",
      " 74.0    118\n",
      " 65.0    113\n",
      " 61.0    103\n",
      " 24.0     95\n",
      " 45.0     91\n",
      " 41.0     89\n",
      " 52.0     87\n",
      " 48.0     78\n",
      " 57.0     76\n",
      " 69.0     73\n",
      " 50.0     71\n",
      " 59.0     70\n",
      " 27.0     61\n",
      " 25.0     59\n",
      " 38.0     57\n",
      " 54.0     56\n",
      " 53.0     52\n",
      " 21.0     39\n",
      " 20.0     37\n",
      " 75.0     36\n",
      " 17.0     34\n",
      " 86.0     30\n",
      " 55.0     29\n",
      " 73.0     29\n",
      " 37.0     29\n",
      " 63.0     25\n",
      " 62.0     23\n",
      " 68.0     22\n",
      " 58.0     20\n",
      " 71.0     18\n",
      " 56.0     16\n",
      " 72.0     14\n",
      " 19.0     14\n",
      " 70.0      4\n",
      " 26.0      4\n",
      " 67.0      1\n",
      "Name: score, dtype: int64\n",
      "===========================================================\n",
      "no     3104\n",
      "NaN    3096\n",
      "yes    1052\n",
      "Name: divorce, dtype: int64\n",
      "===========================================================\n",
      "no     4361\n",
      "NaN    2717\n",
      "yes     174\n",
      "Name: widowed, dtype: int64\n",
      "===========================================================\n",
      " 12.0    2023\n",
      " 16.0    1055\n",
      " 14.0     918\n",
      " 13.0     703\n",
      " 11.0     370\n",
      " 15.0     344\n",
      " 18.0     311\n",
      " 17.0     266\n",
      " 10.0     242\n",
      " 8.0      207\n",
      " 20.0     188\n",
      " 9.0      184\n",
      "NaN       135\n",
      " 19.0     105\n",
      " 6.0       59\n",
      " 7.0       44\n",
      " 5.0       28\n",
      " 4.0       22\n",
      " 3.0       22\n",
      " 2.0       17\n",
      " 0.0        7\n",
      " 1.0        2\n",
      "Name: education, dtype: int64\n",
      "===========================================================\n",
      "e. nor. central    1341\n",
      "south atlantic     1135\n",
      "middle atlantic    1115\n",
      "pacific             706\n",
      "w. sou. central     693\n",
      "w. nor. central     571\n",
      "foreign             519\n",
      "e. sou. central     501\n",
      "mountain            346\n",
      "new england         325\n",
      "Name: residence_region, dtype: int64\n",
      "===========================================================\n",
      " 0.0    6088\n",
      " 1.0     790\n",
      " 2.0     270\n",
      " 3.0      49\n",
      "NaN       47\n",
      " 4.0       8\n",
      "Name: babies, dtype: int64\n",
      "===========================================================\n",
      " 0.0    5913\n",
      " 1.0     826\n",
      " 2.0     370\n",
      " 3.0      74\n",
      "NaN       47\n",
      " 4.0      18\n",
      " 5.0       3\n",
      " 6.0       1\n",
      "Name: preteen, dtype: int64\n",
      "===========================================================\n",
      " 0.0    6183\n",
      " 1.0     772\n",
      " 2.0     228\n",
      "NaN       40\n",
      " 3.0      25\n",
      " 4.0       4\n",
      "Name: teens, dtype: int64\n",
      "===========================================================\n",
      "$25000 or more    4123\n",
      "NaN                861\n",
      "$20000 - 24999     563\n",
      "$10000 - 14999     535\n",
      "$15000 - 19999     453\n",
      "$8000 to 9999      167\n",
      "$5000 to 5999      101\n",
      "$7000 to 7999       97\n",
      "lt $1000            80\n",
      "$6000 to 6999       77\n",
      "$1000 to 2999       74\n",
      "$3000 to 3999       61\n",
      "$4000 to 4999       60\n",
      "Name: income, dtype: int64\n",
      "===========================================================\n",
      "never               1341\n",
      "every week          1233\n",
      "once a year          949\n",
      "sevrl times a yr     886\n",
      "2-3x a month         660\n",
      "more thn once wk     576\n",
      "lt once a year       562\n",
      "once a month         515\n",
      "nrly every week      411\n",
      "NaN                  119\n",
      "Name: engagement_religion, dtype: int64\n",
      "===========================================================\n",
      "1    3065\n",
      "2    2466\n",
      "3    1721\n",
      "Name: x1, dtype: int64\n",
      "===========================================================\n",
      "NaN      2282\n",
      " 2.0     1369\n",
      " 1.0     1044\n",
      " 3.0      915\n",
      " 4.0      640\n",
      " 5.0      304\n",
      " 0.0      231\n",
      " 6.0      216\n",
      " 8.0       92\n",
      " 7.0       41\n",
      " 10.0      40\n",
      " 12.0      32\n",
      " 15.0      11\n",
      " 14.0      10\n",
      " 24.0       5\n",
      " 9.0        4\n",
      " 13.0       3\n",
      " 11.0       3\n",
      " 20.0       3\n",
      " 18.0       2\n",
      " 16.0       2\n",
      " 22.0       2\n",
      " 21.0       1\n",
      "Name: tvhours, dtype: int64\n",
      "===========================================================\n",
      "1    4082\n",
      "0    3170\n",
      "Name: gender, dtype: int64\n",
      "===========================================================\n",
      "Pretty Happy    4142\n",
      "Very Happy      2203\n",
      "Not Happy        907\n",
      "Name: response, dtype: int64\n"
     ]
    }
   ],
   "source": [
    "#calling function data_details()\n",
    "data_detail(df)"
   ]
  },
  {
   "cell_type": "markdown",
   "metadata": {},
   "source": [
    "Finding the amount of missing data in each columns."
   ]
  },
  {
   "cell_type": "code",
   "execution_count": 6,
   "metadata": {},
   "outputs": [
    {
     "name": "stdout",
     "output_type": "stream",
     "text": [
      "The percentage of missing values in the dataset is :\n",
      "workstatus             0.000276\n",
      "teens                  0.005516\n",
      "babies                 0.006481\n",
      "preteen                0.006481\n",
      "engagement_religion    0.016409\n",
      "education              0.018616\n",
      "location_class         0.023028\n",
      "score                  0.049228\n",
      "alcohol_consumption    0.052675\n",
      "income                 0.118726\n",
      "tvhours                0.314672\n",
      "widowed                0.374655\n",
      "divorce                0.426917\n",
      "dtype: float64\n",
      "\n",
      "Graphical visualisation of missing values :\n"
     ]
    },
    {
     "data": {
      "image/png": "[encoded data removed]",
      "text/plain": [
       "<matplotlib.figure.Figure at 0x7fbbffe63748>"
      ]
     },
     "metadata": {},
     "output_type": "display_data"
    }
   ],
   "source": [
    "#calling function missing_data() to see the amount of missing data in each column\n",
    "missing_data(df)"
   ]
  },
  {
   "cell_type": "markdown",
   "metadata": {},
   "source": [
    "From the above visualisation and table it seems that the columns teens , babies , preteens , engagement_reigion , education , location_class , score , alcohol_consumption can easily be handled. <br>\n",
    "However , for the columns income , tvhours , widowed , divorce we need to come up something to either fix them or delete them from the DataFrame."
   ]
  },
  {
   "cell_type": "markdown",
   "metadata": {},
   "source": [
    "# Feature Engineering\n",
    "\n",
    "## 1. Income\n",
    "* The column has 861 missing values.<br>\n",
    "* The data-type of the column is str<br>\n",
    "* We first need to categorise the income range before analysing it.<br>\n",
    "* So we define a function fix_and_plot_income( ) to modify the columns.<br>"
   ]
  },
  {
   "cell_type": "code",
   "execution_count": 7,
   "metadata": {
    "collapsed": true
   },
   "outputs": [],
   "source": [
    "#defining function to categorise the income data between range $0 to $30000\n",
    "def fix_income_data(daf):\n",
    "    daf['income'].replace('lt $1000', 1000 ,inplace=True)\n",
    "    daf['income'].replace('$1000 to 2999', 3000 ,inplace=True)\n",
    "    daf['income'].replace('$3000 to 3999', 4000 ,inplace=True)\n",
    "    daf['income'].replace('$4000 to 4999', 5000 ,inplace=True)\n",
    "    daf['income'].replace('$5000 to 5999', 6000 ,inplace=True)\n",
    "    daf['income'].replace('$6000 to 6999', 7000 ,inplace=True)\n",
    "    daf['income'].replace('$7000 to 7999', 8000 ,inplace=True)\n",
    "    daf['income'].replace('$8000 to 9999', 10000 ,inplace=True)\n",
    "    daf['income'].replace('$10000 - 14999', 15000 ,inplace=True)\n",
    "    daf['income'].replace('$15000 - 19999', 20000 ,inplace=True)\n",
    "    daf['income'].replace('$20000 - 24999', 25000 ,inplace=True)\n",
    "    daf['income'].replace('$25000 or more', 30000 ,inplace=True)\n",
    "    daf.loc[daf['income'].isnull() , 'income'] = 30000\n",
    "    print(\"\\nIncome data has been cleaned.\\n\")\n",
    "    return daf\n",
    "\n",
    "def plot_response_vs_income(daf):\n",
    "    groups = daf.groupby(\"response\")['income']\n",
    "    fig, ax = plt.subplots(figsize=(15,8))\n",
    "    for k, v in groups:\n",
    "        v.hist(label=k, alpha=.5, ax=ax)\n",
    "    ax.legend()\n",
    "    plt.title(\"Response vs Income plot.\",loc='left')\n",
    "    plt.xlabel(\"Income of People\")\n",
    "    plt.ylabel(\"Number of People\")\n",
    "    plt.plot()"
   ]
  },
  {
   "cell_type": "markdown",
   "metadata": {},
   "source": [
    "Categorising and cleaning the income column in training data."
   ]
  },
  {
   "cell_type": "code",
   "execution_count": 8,
   "metadata": {},
   "outputs": [
    {
     "name": "stdout",
     "output_type": "stream",
     "text": [
      "\n",
      "Income data has been cleaned.\n",
      "\n"
     ]
    },
    {
     "data": {
      "image/png": "[encoded data removed]",
      "text/plain": [
       "<matplotlib.figure.Figure at 0x7fbbffeb0b00>"
      ]
     },
     "metadata": {},
     "output_type": "display_data"
    }
   ],
   "source": [
    "#calling the function fix_and_plot_income_data()\n",
    "df = fix_income_data(df)\n",
    "plot_response_vs_income(df)"
   ]
  },
  {
   "cell_type": "markdown",
   "metadata": {},
   "source": [
    "It seems that most of the data belongs to the people who have high income and this may effect our process.<br>\n",
    "So we need to analyse it carefully and make sure of Accuracy and Efficiency errors later."
   ]
  },
  {
   "cell_type": "markdown",
   "metadata": {},
   "source": [
    "## 2. Preteen , Teen , Babies\n",
    "* The data-type of the column is numpy.float64<br>\n",
    "* We are combining the count of the kids in house to define a new column named kids<br>\n",
    "* We have also substituted the NaN value with 0 to account for the missing value<br>\n",
    "* So we define a function , create_kids_column( ) to modify the columns.<br>"
   ]
  },
  {
   "cell_type": "code",
   "execution_count": 9,
   "metadata": {
    "collapsed": true
   },
   "outputs": [],
   "source": [
    "'''def create_kids_column(daf):\n",
    "    daf['kids'] = 0\n",
    "    daf.teens.fillna(0,inplace=True)\n",
    "    daf.babies.fillna(0,inplace=True)\n",
    "    daf.preteen.fillna(0,inplace=True)\n",
    "    daf['kids'] = daf.babies + daf.preteen + daf.teens\n",
    "    print(\"Kids column created\")\n",
    "    daf.drop(['preteen', 'teens', 'babies'], axis=1, inplace=True)\n",
    "    return daf\n",
    "#calling create_kids_column()\n",
    "df = create_kids_column(df)'''\n",
    "\n",
    "def fix_kids_column(daf):\n",
    "    daf.teens.fillna(daf.teens.median(),inplace=True)\n",
    "    daf.preteen.fillna(daf.preteen.median(),inplace=True)\n",
    "    daf.babies.fillna(daf.babies.median(),inplace=True)\n",
    "    return daf\n",
    "\n",
    "df = fix_kids_column(df)"
   ]
  },
  {
   "cell_type": "markdown",
   "metadata": {},
   "source": [
    "## 3. Engagement_Religion\n",
    "<ul>\n",
    "<li>The data-type of this column are str\n",
    "<li>We are combining the same kind of values together in this column like 2-3x a month and more thn once wk\n",
    "<li>We have now defined a function , fix_religion_data( ) to modify the columns.\n",
    "</ul>"
   ]
  },
  {
   "cell_type": "code",
   "execution_count": 10,
   "metadata": {},
   "outputs": [
    {
     "name": "stdout",
     "output_type": "stream",
     "text": [
      "Religion column has been cleaned.\n",
      "\n"
     ]
    }
   ],
   "source": [
    "def fix_religion_data(daf):\n",
    "    daf['engagement_religion'].replace('never', 0 ,inplace=True)\n",
    "    daf['engagement_religion'].replace('lt once a year', 1 ,inplace=True)\n",
    "    daf['engagement_religion'].replace('once a year', 2 ,inplace=True)\n",
    "    daf['engagement_religion'].replace('sevrl times a yr', 3 ,inplace=True)\n",
    "    daf['engagement_religion'].replace('once a month', 4 ,inplace=True)\n",
    "    daf['engagement_religion'].replace('every week', 5 ,inplace=True)\n",
    "    daf['engagement_religion'].replace('2-3x a month', 6 ,inplace=True)\n",
    "    daf['engagement_religion'].replace('nrly every week' , 7 ,inplace=True)\n",
    "    daf['engagement_religion'].replace('more thn once wk', 8 ,inplace=True)\n",
    "    daf.engagement_religion.fillna(0,inplace=True)\n",
    "    print(\"Religion column has been cleaned.\\n\")\n",
    "    return daf\n",
    "\n",
    "#calling function to clean religion data\n",
    "df = fix_religion_data(df)"
   ]
  },
  {
   "cell_type": "markdown",
   "metadata": {},
   "source": [
    "## 4. Score  ( ignored because later I had to scale the column )\n",
    "<ul>\n",
    "<li>The data-type of the column is numpy.float64\n",
    "<li>We are changing the whole score to discrete form\n",
    "<li>A function discr_score( ) is defined to modify the score data.\n",
    "</ul>"
   ]
  },
  {
   "cell_type": "code",
   "execution_count": null,
   "metadata": {},
   "outputs": [],
   "source": [
    "'''def discr_score(df):\n",
    "    df.loc[ df['score'] <= 20 , 'score']= -1\n",
    "    df.loc[(df['score'] > 20) & (df['score'] <= 40), 'score'] = -0.5\n",
    "    df.loc[(df['score'] > 40) & (df['score'] <= 60), 'score'] = 0\n",
    "    df.loc[(df['score'] > 60) & (df['score'] <= 80), 'score'] = 0.5\n",
    "    df.loc[ df['score'] > 80, 'score'] = 1\n",
    "    df.loc[df['score'].isnull() , 'score'] = 0\n",
    "    return df\n",
    "#calling discr_score() function\n",
    "df = discr_score(df)'''"
   ]
  },
  {
   "cell_type": "markdown",
   "metadata": {},
   "source": [
    "## 5. Education ( ignored because later I had to scale the column )\n",
    "<ul>\n",
    "<li>The data-type of the column is numpy.float64\n",
    "<li>We are changing the whole education score to discrete form\n",
    "<li>A function fix_edu_data( ) is defined to modify the score data.\n",
    "</ul>"
   ]
  },
  {
   "cell_type": "code",
   "execution_count": null,
   "metadata": {},
   "outputs": [],
   "source": [
    "'''def fix_edu_data(df):\n",
    "    df.loc[ df['education'] <= 4 , 'education']= -1\n",
    "    df.loc[(df['education'] > 4) & (df['education'] <= 8), 'education'] = -0.5\n",
    "    df.loc[(df['education'] > 8) & (df['education'] <= 12), 'education'] = 0\n",
    "    df.loc[(df['education'] > 12) & (df['education'] <= 16), 'education'] = 0.5\n",
    "    df.loc[(df['education'] > 16) & (df['education'] <= 20), 'education'] = 0.5\n",
    "    return df\n",
    "#calling fix_edu_data()\n",
    "df = fix_edu_data(df)'''"
   ]
  },
  {
   "cell_type": "markdown",
   "metadata": {},
   "source": [
    "## 6. Alcohol_consumption\n",
    "<ul>\n",
    "<li>The data-type of the column is str\n",
    "<li>Smaller intake of alcohol consumption was marked 0\n",
    "<li>The values were grouped together to decrease the column parameters to avoid overfitting\n",
    "</ul>"
   ]
  },
  {
   "cell_type": "code",
   "execution_count": 13,
   "metadata": {},
   "outputs": [
    {
     "name": "stdout",
     "output_type": "stream",
     "text": [
      "Alhocol column modified\n"
     ]
    }
   ],
   "source": [
    "def fix_alcohol_data(daf):\n",
    "    daf['alcohol_consumption'].replace('Once a month', 2 ,inplace=True)\n",
    "    daf['alcohol_consumption'].replace('Rarely', 1 ,inplace=True)\n",
    "    daf['alcohol_consumption'].replace('Never', 0 ,inplace=True)\n",
    "    daf['alcohol_consumption'].replace('Once a week', 5 ,inplace=True)\n",
    "    daf['alcohol_consumption'].replace('2 - 3 times a month', 4 ,inplace=True)\n",
    "    daf['alcohol_consumption'].replace('Occassional', 3 ,inplace=True)\n",
    "    daf['alcohol_consumption'].replace('Multiple times in a week', 6 ,inplace=True)\n",
    "    daf.alcohol_consumption.fillna(0,inplace=True)\n",
    "    print(\"Alhocol column modified\")\n",
    "    return daf\n",
    "#calling fix_alcohol_data()\n",
    "df = fix_alcohol_data(df)"
   ]
  },
  {
   "cell_type": "markdown",
   "metadata": {},
   "source": [
    "## 7. TV\n",
    "<ul>\n",
    "<li>The data-type of the column is numpy.float64\n",
    "<li>The tv hour was found to be negatively effecting the income which in turn was a major cause for response parameter\n",
    "</ul>"
   ]
  },
  {
   "cell_type": "code",
   "execution_count": 14,
   "metadata": {},
   "outputs": [
    {
     "name": "stdout",
     "output_type": "stream",
     "text": [
      "Co-relation between income and tvhours -0.195644597331\n"
     ]
    },
    {
     "data": {
      "text/plain": [
       "[]"
      ]
     },
     "execution_count": 14,
     "metadata": {},
     "output_type": "execute_result"
    },
    {
     "data": {
      "image/png": "[encoded data removed]",
      "text/plain": [
       "<matplotlib.figure.Figure at 0x7fbbf7b61208>"
      ]
     },
     "metadata": {},
     "output_type": "display_data"
    }
   ],
   "source": [
    "print('Co-relation between income and tvhours',df.tvhours.corr(df.income))\n",
    "df.groupby('income').tvhours.median().plot(figsize=(15,5))\n",
    "plt.plot()"
   ]
  },
  {
   "cell_type": "markdown",
   "metadata": {},
   "source": [
    "We have used the median because the dataframe has more values of those who have high income ,is the data has skewed characteristic."
   ]
  },
  {
   "cell_type": "code",
   "execution_count": 15,
   "metadata": {},
   "outputs": [
    {
     "name": "stdout",
     "output_type": "stream",
     "text": [
      "TV data column fixed\n"
     ]
    }
   ],
   "source": [
    "def fix_tv_data(daf):\n",
    "    daf.tvhours.fillna(daf.tvhours.median(),inplace=True)\n",
    "    print(\"TV data column fixed\")\n",
    "    return daf\n",
    "\n",
    "#calling the fix_tv_data() function\n",
    "df = fix_tv_data(df)"
   ]
  },
  {
   "cell_type": "markdown",
   "metadata": {},
   "source": [
    "## 8. Score\n",
    "<ul>\n",
    "<li>The data-type of the column is numpy.float64"
   ]
  },
  {
   "cell_type": "code",
   "execution_count": 16,
   "metadata": {},
   "outputs": [
    {
     "name": "stdout",
     "output_type": "stream",
     "text": [
      "Score data column fixed\n"
     ]
    }
   ],
   "source": [
    "def fix_score_data(daf):\n",
    "    daf.score.fillna(daf.score.median(),inplace=True)\n",
    "    print(\"Score data column fixed\")\n",
    "    return daf\n",
    "\n",
    "#calling the fix_tv_data() function\n",
    "df = fix_score_data(df)"
   ]
  },
  {
   "cell_type": "code",
   "execution_count": 17,
   "metadata": {
    "scrolled": true
   },
   "outputs": [
    {
     "data": {
      "image/png": "[encoded data removed]",
      "text/plain": [
       "<matplotlib.figure.Figure at 0x7fbbf7d959e8>"
      ]
     },
     "metadata": {},
     "output_type": "display_data"
    }
   ],
   "source": [
    "plt.figure(figsize=(20,20))\n",
    "\n",
    "plt.subplot(3,2,1)\n",
    "df.groupby('response').score.median().plot()\n",
    "\n",
    "plt.subplot(3,2,2)\n",
    "df.groupby('tvhours').score.median().plot()\n",
    "\n",
    "plt.subplot(3,2,3)\n",
    "df.groupby('income').score.median().plot()\n",
    "\n",
    "plt.subplot(3,2,4)\n",
    "df.groupby('alcohol_consumption').score.mean().plot()\n",
    "\n",
    "plt.subplot(3,2,5)\n",
    "df.groupby('education').score.median().plot()\n",
    "\n",
    "\n",
    "plt.subplot(3,2,6)\n",
    "df.groupby('x1').score.mean().plot()\n",
    "\n",
    "plt.figsize=(10,10)\n",
    "plt.show()"
   ]
  },
  {
   "cell_type": "markdown",
   "metadata": {},
   "source": [
    "## 9. Education\n",
    "<ul>\n",
    "<li>The data-type of the column is numpy.float64"
   ]
  },
  {
   "cell_type": "code",
   "execution_count": 18,
   "metadata": {},
   "outputs": [
    {
     "data": {
      "image/png": "[encoded data removed]",
      "text/plain": [
       "<matplotlib.figure.Figure at 0x7fbbf7deac88>"
      ]
     },
     "metadata": {},
     "output_type": "display_data"
    }
   ],
   "source": [
    "plt.figure(figsize=(20,20))\n",
    "\n",
    "plt.subplot(3,2,1)\n",
    "df.groupby('response').education.median().plot()\n",
    "\n",
    "plt.subplot(3,2,2)\n",
    "df.groupby('tvhours').education.mean().plot()\n",
    "\n",
    "plt.subplot(3,2,3)\n",
    "df.groupby('income').education.median().plot()\n",
    "\n",
    "plt.subplot(3,2,4)\n",
    "df.groupby('alcohol_consumption').education.mean().plot()\n",
    "\n",
    "plt.subplot(3,2,5)\n",
    "df.groupby('score').education.median().plot()\n",
    "\n",
    "\n",
    "plt.subplot(3,2,6)\n",
    "df.groupby('x1').education.mean().plot()\n",
    "\n",
    "plt.figsize=(10,10)\n",
    "plt.show()"
   ]
  },
  {
   "cell_type": "code",
   "execution_count": 19,
   "metadata": {},
   "outputs": [
    {
     "data": {
      "text/plain": [
       "<matplotlib.axes._subplots.AxesSubplot at 0x7fbbf7afacf8>"
      ]
     },
     "execution_count": 19,
     "metadata": {},
     "output_type": "execute_result"
    },
    {
     "data": {
      "image/png": "[encoded data removed]",
      "text/plain": [
       "<matplotlib.figure.Figure at 0x7fbbf7e9a4e0>"
      ]
     },
     "metadata": {},
     "output_type": "display_data"
    }
   ],
   "source": [
    "plt.figure(figsize=(15,5))\n",
    "df.education.value_counts().plot(kind='bar')"
   ]
  },
  {
   "cell_type": "code",
   "execution_count": 20,
   "metadata": {},
   "outputs": [
    {
     "name": "stdout",
     "output_type": "stream",
     "text": [
      "Education data column fixed\n"
     ]
    }
   ],
   "source": [
    "def fix_edu_data(daf):\n",
    "    daf.education.fillna(daf.education.median(),inplace=True)\n",
    "    print(\"Education data column fixed\")\n",
    "    return daf\n",
    "\n",
    "#calling the fix_tv_data() function\n",
    "df = fix_edu_data(df)"
   ]
  },
  {
   "cell_type": "markdown",
   "metadata": {},
   "source": [
    "## 10. Divorce and Widowed\n",
    "<ul>\n",
    "    <li>The data-type of the column is str</li>\n",
    "    <li>The NULL values were all set to 0 because we cannot establish any relation between widowed,divorce columns with another columns.</li>"
   ]
  },
  {
   "cell_type": "code",
   "execution_count": 21,
   "metadata": {},
   "outputs": [
    {
     "name": "stdout",
     "output_type": "stream",
     "text": [
      "Divorce data column modified.\n",
      "Widowed data column modified.\n"
     ]
    }
   ],
   "source": [
    "def fix_divorce_widow_data(daf):\n",
    "    daf['divorce'].replace('no', 0 ,inplace=True)\n",
    "    daf['divorce'].replace('yes', 1 ,inplace=True)\n",
    "    daf.divorce.fillna(0,inplace=True)\n",
    "    print(\"Divorce data column modified.\")\n",
    "    daf['widowed'].replace('no', 0 ,inplace=True)\n",
    "    daf['widowed'].replace('yes', 1 ,inplace=True)\n",
    "    daf.widowed.fillna(0,inplace=True)\n",
    "    print(\"Widowed data column modified.\")\n",
    "    return daf\n",
    "    \n",
    "#calling the above function\n",
    "df = fix_divorce_widow_data(df)"
   ]
  },
  {
   "cell_type": "markdown",
   "metadata": {},
   "source": [
    "## 11. Work Status\n",
    "<ul>\n",
    "<li>The data-type of the column is str"
   ]
  },
  {
   "cell_type": "code",
   "execution_count": 22,
   "metadata": {},
   "outputs": [
    {
     "name": "stdout",
     "output_type": "stream",
     "text": [
      "Work Status column modified\n"
     ]
    }
   ],
   "source": [
    "def fix_work_status(daf):\n",
    "    daf.workstatus.fillna(0,inplace=True)\n",
    "    daf['workstatus'].replace('temp not working', 0 ,inplace=True)\n",
    "    daf['workstatus'].replace('unempl, laid off', 0 ,inplace=True)\n",
    "    daf['workstatus'].replace('school', 0 ,inplace=True)\n",
    "    daf['workstatus'].replace('retired', 1 ,inplace=True)\n",
    "    daf['workstatus'].replace('keeping house', 2 ,inplace=True)\n",
    "    daf['workstatus'].replace('other', 3 ,inplace=True)\n",
    "    daf['workstatus'].replace('working parttime', 4 ,inplace=True)\n",
    "    daf['workstatus'].replace('working fulltime', 5 ,inplace=True)\n",
    "    print(\"Work Status column modified\")\n",
    "    return daf\n",
    "\n",
    "#function call to fix_work_status()\n",
    "df = fix_work_status(df)"
   ]
  },
  {
   "cell_type": "markdown",
   "metadata": {},
   "source": [
    "## 12. Residence region \n",
    "<ul>\n",
    "<li>The data-type of the column is str"
   ]
  },
  {
   "cell_type": "code",
   "execution_count": 23,
   "metadata": {},
   "outputs": [
    {
     "name": "stdout",
     "output_type": "stream",
     "text": [
      "Region column modified.\n"
     ]
    }
   ],
   "source": [
    "def fix_region_data(daf):\n",
    "    daf['residence_region'].replace('new england', 0 ,inplace=True)\n",
    "    daf['residence_region'].replace('mountain', 1 ,inplace=True)\n",
    "    daf['residence_region'].replace('e. sou. central', 2 ,inplace=True)\n",
    "    daf['residence_region'].replace('foreign', 3 ,inplace=True)\n",
    "    daf['residence_region'].replace('w. nor. central', 4 ,inplace=True)\n",
    "    daf['residence_region'].replace('w. sou. central', 5 ,inplace=True)\n",
    "    daf['residence_region'].replace('pacific', 6 ,inplace=True)\n",
    "    daf['residence_region'].replace('middle atlantic', 7 ,inplace=True)\n",
    "    daf['residence_region'].replace('south atlantic', 8 ,inplace=True)\n",
    "    daf['residence_region'].replace('e. nor. central', 9 ,inplace=True)\n",
    "    print(\"Region column modified.\")\n",
    "    return daf\n",
    "\n",
    "#calling above function\n",
    "df = fix_region_data(df)"
   ]
  },
  {
   "cell_type": "markdown",
   "metadata": {},
   "source": [
    "## 13.Location class \n",
    "<ul>\n",
    "<li>The data-type of the column is str"
   ]
  },
  {
   "cell_type": "code",
   "execution_count": 24,
   "metadata": {},
   "outputs": [
    {
     "name": "stdout",
     "output_type": "stream",
     "text": [
      "Location_class column modified.\n"
     ]
    }
   ],
   "source": [
    "def fix_location_data(daf):\n",
    "    daf['location_class'].replace('A', 0 ,inplace=True)\n",
    "    daf['location_class'].replace('B', 1 ,inplace=True)\n",
    "    daf['location_class'].replace('C', 2 ,inplace=True)\n",
    "    daf['location_class'].replace('D', 3 ,inplace=True)\n",
    "    daf['location_class'].replace('E', 4 ,inplace=True)\n",
    "    daf['location_class'].replace('F', 5 ,inplace=True)\n",
    "    daf['location_class'].replace('G', 6 ,inplace=True)\n",
    "    daf.location_class.fillna(7,inplace=True)\n",
    "    print(\"Location_class column modified.\")\n",
    "    return daf\n",
    "\n",
    "#calling above function\n",
    "df = fix_location_data(df)"
   ]
  },
  {
   "cell_type": "markdown",
   "metadata": {},
   "source": [
    "## 14. Response\n",
    "<ul>\n",
    "    <li>The data-type of the column is str</li>\n",
    "    <li>We first need to categorise the response before analysing it.</li>\n",
    "    <li>So we define a function fix_response_data( ) to modify the columns.</li>"
   ]
  },
  {
   "cell_type": "code",
   "execution_count": 25,
   "metadata": {},
   "outputs": [
    {
     "name": "stdout",
     "output_type": "stream",
     "text": [
      "Categorising the response column.\n"
     ]
    }
   ],
   "source": [
    "#defining function to clean the response column\n",
    "def fix_response_data(daf):\n",
    "    print(\"Categorising the response column.\")\n",
    "    daf['response'].replace('Very Happy', 1 ,inplace=True)\n",
    "    daf['response'].replace('Pretty Happy', 0 ,inplace=True)\n",
    "    daf['response'].replace('Not Happy', -1 ,inplace=True)\n",
    "    return daf\n",
    "\n",
    "#calling the fix_response_data()\n",
    "df = fix_response_data(df)"
   ]
  },
  {
   "cell_type": "markdown",
   "metadata": {},
   "source": [
    "## 15. Changing data type of all columns\n",
    "<ul>\n",
    "<li>The data-type of the columns are changed from  float to int"
   ]
  },
  {
   "cell_type": "code",
   "execution_count": 26,
   "metadata": {},
   "outputs": [
    {
     "name": "stdout",
     "output_type": "stream",
     "text": [
      "Data types of column changed\n"
     ]
    }
   ],
   "source": [
    "def change_dtype_cols(daf):\n",
    "    daf[['alcohol_consumption', 'location_class', 'workstatus',\n",
    "       'score', 'divorce', 'widowed', 'education', 'residence_region',\n",
    "       'babies', 'preteen', 'teens', 'income', 'engagement_religion', 'x1',\n",
    "       'tvhours']] = daf[['alcohol_consumption', 'location_class', 'workstatus',\n",
    "       'score', 'divorce', 'widowed', 'education', 'residence_region',\n",
    "       'babies', 'preteen', 'teens', 'income', 'engagement_religion', 'x1',\n",
    "       'tvhours']].astype(int) \n",
    "    print(\"Data types of column changed\")\n",
    "    return daf\n",
    "\n",
    "#changing data-type of all columns from float to int\n",
    "df = change_dtype_cols(df)"
   ]
  },
  {
   "cell_type": "markdown",
   "metadata": {},
   "source": [
    "## 16. Data Preprocessing\n",
    "<ul>\n",
    "<li>We can see that Age, Fare are measured on different scales, so we need to do Feature Scaling first before we proceed with predictions."
   ]
  },
  {
   "cell_type": "code",
   "execution_count": 27,
   "metadata": {},
   "outputs": [
    {
     "name": "stdout",
     "output_type": "stream",
     "text": [
      "Preprocessing complete.\n"
     ]
    }
   ],
   "source": [
    "#preprocessing the data\n",
    "from sklearn import preprocessing\n",
    "def preprocess_data(daf):\n",
    "    std_scale = preprocessing.StandardScaler().fit(daf[['alcohol_consumption', 'location_class', 'workstatus',\n",
    "       'score', 'divorce', 'widowed', 'education', 'residence_region',\n",
    "       'babies', 'preteen', 'teens', 'income', 'engagement_religion', 'x1',\n",
    "       'tvhours']])\n",
    "    daf[['alcohol_consumption', 'location_class', 'workstatus',\n",
    "       'score', 'divorce', 'widowed', 'education', 'residence_region',\n",
    "       'babies', 'preteen', 'teens', 'income', 'engagement_religion', 'x1',\n",
    "       'tvhours']] = std_scale.transform(daf[['alcohol_consumption', 'location_class', 'workstatus',\n",
    "       'score', 'divorce', 'widowed', 'education', 'residence_region',\n",
    "       'babies', 'preteen', 'teens', 'income', 'engagement_religion', 'x1',\n",
    "       'tvhours']])\n",
    "    print(\"Preprocessing complete.\")\n",
    "    return daf\n",
    "\n",
    "df = preprocess_data(df)"
   ]
  },
  {
   "cell_type": "markdown",
   "metadata": {},
   "source": [
    "## 17. The co-relation plot"
   ]
  },
  {
   "cell_type": "code",
   "execution_count": 28,
   "metadata": {},
   "outputs": [
    {
     "name": "stdout",
     "output_type": "stream",
     "text": [
      "There are 17 numeric and 1 categorical columns in train data\n",
      "response               1.000000\n",
      "income                 0.176785\n",
      "education              0.114099\n",
      "engagement_religion    0.106906\n",
      "score                  0.103953\n",
      "x1                     0.076703\n",
      "divorce                0.073337\n",
      "workstatus             0.067055\n",
      "widowed                0.014166\n",
      "preteen                0.011402\n",
      "babies                 0.010241\n",
      "gender                -0.009924\n",
      "residence_region      -0.013227\n",
      "teens                 -0.014201\n",
      "location_class        -0.015364\n",
      "Name: response, dtype: float64 \n",
      "\n"
     ]
    },
    {
     "data": {
      "image/png": "[encoded data removed]",
      "text/plain": [
       "<matplotlib.figure.Figure at 0x7fbbf6e7dd68>"
      ]
     },
     "metadata": {},
     "output_type": "display_data"
    }
   ],
   "source": [
    "def corr_analysis(daf):\n",
    "    #separate variables into new data frames\n",
    "    numeric_data = daf.select_dtypes(include=[np.number])\n",
    "    cat_data = daf.select_dtypes(exclude=[np.number])\n",
    "    print (\"There are {} numeric and {} categorical columns in train data\".format(numeric_data.shape[1],cat_data.shape[1]))\n",
    "    #correlation plot\n",
    "    plt.figure(figsize=(15,8))\n",
    "    corr = numeric_data.corr()\n",
    "    sns.heatmap(corr)\n",
    "    print (corr['response'].sort_values(ascending=False)[:15], '\\n')\n",
    "\n",
    "corr_analysis(df)"
   ]
  },
  {
   "cell_type": "markdown",
   "metadata": {},
   "source": [
    "# Importing test file"
   ]
  },
  {
   "cell_type": "code",
   "execution_count": 29,
   "metadata": {},
   "outputs": [
    {
     "data": {
      "text/html": [
       "<div>\n",
       "<style>\n",
       "    .dataframe thead tr:only-child th {\n",
       "        text-align: right;\n",
       "    }\n",
       "\n",
       "    .dataframe thead th {\n",
       "        text-align: left;\n",
       "    }\n",
       "\n",
       "    .dataframe tbody tr th {\n",
       "        vertical-align: top;\n",
       "    }\n",
       "</style>\n",
       "<table border=\"1\" class=\"dataframe\">\n",
       "  <thead>\n",
       "    <tr style=\"text-align: right;\">\n",
       "      <th></th>\n",
       "      <th>id</th>\n",
       "      <th>alcohol_consumption</th>\n",
       "      <th>location_class</th>\n",
       "      <th>workstatus</th>\n",
       "      <th>score</th>\n",
       "      <th>divorce</th>\n",
       "      <th>widowed</th>\n",
       "      <th>education</th>\n",
       "      <th>residence_region</th>\n",
       "      <th>babies</th>\n",
       "      <th>preteen</th>\n",
       "      <th>teens</th>\n",
       "      <th>income</th>\n",
       "      <th>engagement_religion</th>\n",
       "      <th>x1</th>\n",
       "      <th>tvhours</th>\n",
       "      <th>gender</th>\n",
       "    </tr>\n",
       "  </thead>\n",
       "  <tbody>\n",
       "    <tr>\n",
       "      <th>0</th>\n",
       "      <td>citzen1</td>\n",
       "      <td>2 - 3 times a month</td>\n",
       "      <td>A</td>\n",
       "      <td>working fulltime</td>\n",
       "      <td>43.0</td>\n",
       "      <td>NaN</td>\n",
       "      <td>no</td>\n",
       "      <td>12.0</td>\n",
       "      <td>e. nor. central</td>\n",
       "      <td>0.0</td>\n",
       "      <td>0.0</td>\n",
       "      <td>0.0</td>\n",
       "      <td>NaN</td>\n",
       "      <td>once a year</td>\n",
       "      <td>2</td>\n",
       "      <td>3.0</td>\n",
       "      <td>0</td>\n",
       "    </tr>\n",
       "    <tr>\n",
       "      <th>1</th>\n",
       "      <td>citzen100</td>\n",
       "      <td>2 - 3 times a month</td>\n",
       "      <td>NaN</td>\n",
       "      <td>working fulltime</td>\n",
       "      <td>42.0</td>\n",
       "      <td>yes</td>\n",
       "      <td>no</td>\n",
       "      <td>12.0</td>\n",
       "      <td>south atlantic</td>\n",
       "      <td>0.0</td>\n",
       "      <td>0.0</td>\n",
       "      <td>0.0</td>\n",
       "      <td>$25000 or more</td>\n",
       "      <td>sevrl times a yr</td>\n",
       "      <td>2</td>\n",
       "      <td>3.0</td>\n",
       "      <td>0</td>\n",
       "    </tr>\n",
       "    <tr>\n",
       "      <th>2</th>\n",
       "      <td>citzen10007</td>\n",
       "      <td>Once a week</td>\n",
       "      <td>B</td>\n",
       "      <td>keeping house</td>\n",
       "      <td>21.0</td>\n",
       "      <td>yes</td>\n",
       "      <td>yes</td>\n",
       "      <td>13.0</td>\n",
       "      <td>e. nor. central</td>\n",
       "      <td>0.0</td>\n",
       "      <td>0.0</td>\n",
       "      <td>0.0</td>\n",
       "      <td>$10000 - 14999</td>\n",
       "      <td>never</td>\n",
       "      <td>3</td>\n",
       "      <td>NaN</td>\n",
       "      <td>1</td>\n",
       "    </tr>\n",
       "    <tr>\n",
       "      <th>3</th>\n",
       "      <td>citzen10010</td>\n",
       "      <td>2 - 3 times a month</td>\n",
       "      <td>A</td>\n",
       "      <td>working fulltime</td>\n",
       "      <td>46.0</td>\n",
       "      <td>yes</td>\n",
       "      <td>NaN</td>\n",
       "      <td>12.0</td>\n",
       "      <td>south atlantic</td>\n",
       "      <td>0.0</td>\n",
       "      <td>0.0</td>\n",
       "      <td>0.0</td>\n",
       "      <td>$25000 or more</td>\n",
       "      <td>once a year</td>\n",
       "      <td>1</td>\n",
       "      <td>1.0</td>\n",
       "      <td>1</td>\n",
       "    </tr>\n",
       "    <tr>\n",
       "      <th>4</th>\n",
       "      <td>citzen10023</td>\n",
       "      <td>Multiple times in a week</td>\n",
       "      <td>F</td>\n",
       "      <td>working parttime</td>\n",
       "      <td>36.0</td>\n",
       "      <td>NaN</td>\n",
       "      <td>NaN</td>\n",
       "      <td>12.0</td>\n",
       "      <td>south atlantic</td>\n",
       "      <td>0.0</td>\n",
       "      <td>0.0</td>\n",
       "      <td>0.0</td>\n",
       "      <td>$25000 or more</td>\n",
       "      <td>never</td>\n",
       "      <td>2</td>\n",
       "      <td>4.0</td>\n",
       "      <td>0</td>\n",
       "    </tr>\n",
       "  </tbody>\n",
       "</table>\n",
       "</div>"
      ],
      "text/plain": [
       "            id       alcohol_consumption location_class        workstatus  \\\n",
       "0      citzen1       2 - 3 times a month              A  working fulltime   \n",
       "1    citzen100       2 - 3 times a month            NaN  working fulltime   \n",
       "2  citzen10007               Once a week              B     keeping house   \n",
       "3  citzen10010       2 - 3 times a month              A  working fulltime   \n",
       "4  citzen10023  Multiple times in a week              F  working parttime   \n",
       "\n",
       "   score divorce widowed  education residence_region  babies  preteen  teens  \\\n",
       "0   43.0     NaN      no       12.0  e. nor. central     0.0      0.0    0.0   \n",
       "1   42.0     yes      no       12.0   south atlantic     0.0      0.0    0.0   \n",
       "2   21.0     yes     yes       13.0  e. nor. central     0.0      0.0    0.0   \n",
       "3   46.0     yes     NaN       12.0   south atlantic     0.0      0.0    0.0   \n",
       "4   36.0     NaN     NaN       12.0   south atlantic     0.0      0.0    0.0   \n",
       "\n",
       "           income engagement_religion  x1  tvhours  gender  \n",
       "0             NaN         once a year   2      3.0       0  \n",
       "1  $25000 or more    sevrl times a yr   2      3.0       0  \n",
       "2  $10000 - 14999               never   3      NaN       1  \n",
       "3  $25000 or more         once a year   1      1.0       1  \n",
       "4  $25000 or more               never   2      4.0       0  "
      ]
     },
     "execution_count": 29,
     "metadata": {},
     "output_type": "execute_result"
    }
   ],
   "source": [
    "test = pd.read_csv('test.csv')\n",
    "test.head()"
   ]
  },
  {
   "cell_type": "code",
   "execution_count": 30,
   "metadata": {},
   "outputs": [
    {
     "name": "stdout",
     "output_type": "stream",
     "text": [
      "The training data has 3105 rows and 17 columns\n",
      "\n",
      "The columns in the dataset are : \n",
      "['id' 'alcohol_consumption' 'location_class' 'workstatus' 'score' 'divorce'\n",
      " 'widowed' 'education' 'residence_region' 'babies' 'preteen' 'teens'\n",
      " 'income' 'engagement_religion' 'x1' 'tvhours' 'gender']\n",
      "\n",
      "All ID values are unique .\n",
      "===========================================================\n",
      "<class 'pandas.core.frame.DataFrame'>\n",
      "RangeIndex: 3105 entries, 0 to 3104\n",
      "Data columns (total 17 columns):\n",
      "id                     3105 non-null object\n",
      "alcohol_consumption    2939 non-null object\n",
      "location_class         3037 non-null object\n",
      "workstatus             3105 non-null object\n",
      "score                  2945 non-null float64\n",
      "divorce                1763 non-null object\n",
      "widowed                1977 non-null object\n",
      "education              3053 non-null float64\n",
      "residence_region       3105 non-null object\n",
      "babies                 3090 non-null float64\n",
      "preteen                3089 non-null float64\n",
      "teens                  3092 non-null float64\n",
      "income                 2742 non-null object\n",
      "engagement_religion    3068 non-null object\n",
      "x1                     3105 non-null int64\n",
      "tvhours                2151 non-null float64\n",
      "gender                 3105 non-null int64\n",
      "dtypes: float64(6), int64(2), object(9)\n",
      "memory usage: 412.5+ KB\n",
      "\n",
      " None \n",
      "\n",
      "\n",
      "All kinds of values in each columns are :\n",
      "===========================================================\n",
      "Once a month                495\n",
      "Once a week                 479\n",
      "Rarely                      457\n",
      "Never                       437\n",
      "Occassional                 434\n",
      "2 - 3 times a month         433\n",
      "Multiple times in a week    204\n",
      "NaN                         166\n",
      "Name: alcohol_consumption, dtype: int64\n",
      "===========================================================\n",
      "A      553\n",
      "G      546\n",
      "C      496\n",
      "B      490\n",
      "D      468\n",
      "E      249\n",
      "F      235\n",
      "NaN     68\n",
      "Name: location_class, dtype: int64\n",
      "===========================================================\n",
      "working fulltime    1705\n",
      "retired              423\n",
      "keeping house        361\n",
      "working parttime     318\n",
      "school                96\n",
      "unempl, laid off      80\n",
      "other                 65\n",
      "temp not working      57\n",
      "Name: workstatus, dtype: int64\n",
      "===========================================================\n",
      " 51.0    284\n",
      "NaN      160\n",
      " 42.0    119\n",
      " 36.0    116\n",
      " 30.0    113\n",
      " 47.0    112\n",
      " 29.0    102\n",
      " 66.0     97\n",
      " 46.0     96\n",
      " 44.0     96\n",
      " 32.0     91\n",
      " 49.0     85\n",
      " 40.0     82\n",
      " 35.0     80\n",
      " 64.0     77\n",
      " 22.0     77\n",
      " 39.0     71\n",
      " 34.0     71\n",
      " 28.0     70\n",
      " 33.0     70\n",
      " 31.0     64\n",
      " 23.0     60\n",
      " 43.0     55\n",
      " 60.0     55\n",
      " 69.0     52\n",
      " 52.0     50\n",
      " 74.0     50\n",
      " 65.0     49\n",
      " 24.0     48\n",
      " 61.0     43\n",
      " 45.0     40\n",
      " 50.0     34\n",
      " 59.0     33\n",
      " 53.0     31\n",
      " 27.0     30\n",
      " 38.0     28\n",
      " 57.0     28\n",
      " 20.0     26\n",
      " 48.0     26\n",
      " 25.0     24\n",
      " 41.0     24\n",
      " 54.0     23\n",
      " 37.0     17\n",
      " 63.0     16\n",
      " 58.0     14\n",
      " 21.0     14\n",
      " 17.0     13\n",
      " 75.0     13\n",
      " 55.0     12\n",
      " 73.0     12\n",
      " 68.0     10\n",
      " 71.0      8\n",
      " 86.0      8\n",
      " 56.0      7\n",
      " 62.0      7\n",
      " 26.0      6\n",
      " 19.0      4\n",
      " 72.0      2\n",
      "Name: score, dtype: int64\n",
      "===========================================================\n",
      "no     1372\n",
      "NaN    1342\n",
      "yes     391\n",
      "Name: divorce, dtype: int64\n",
      "===========================================================\n",
      "no     1912\n",
      "NaN    1128\n",
      "yes      65\n",
      "Name: widowed, dtype: int64\n",
      "===========================================================\n",
      " 12.0    894\n",
      " 16.0    456\n",
      " 14.0    398\n",
      " 13.0    268\n",
      " 15.0    170\n",
      " 11.0    165\n",
      " 18.0    146\n",
      " 10.0    102\n",
      " 17.0     96\n",
      " 8.0      88\n",
      " 9.0      72\n",
      " 20.0     64\n",
      "NaN       52\n",
      " 19.0     38\n",
      " 6.0      30\n",
      " 7.0      22\n",
      " 5.0      12\n",
      " 3.0       9\n",
      " 0.0       9\n",
      " 2.0       8\n",
      " 4.0       5\n",
      " 1.0       1\n",
      "Name: education, dtype: int64\n",
      "===========================================================\n",
      "e. nor. central    565\n",
      "south atlantic     491\n",
      "middle atlantic    462\n",
      "w. sou. central    319\n",
      "pacific            313\n",
      "foreign            231\n",
      "w. nor. central    220\n",
      "e. sou. central    191\n",
      "new england        164\n",
      "mountain           149\n",
      "Name: residence_region, dtype: int64\n",
      "===========================================================\n",
      " 0.0    2628\n",
      " 1.0     315\n",
      " 2.0     127\n",
      " 3.0      19\n",
      "NaN       15\n",
      " 4.0       1\n",
      "Name: babies, dtype: int64\n",
      "===========================================================\n",
      " 0.0    2521\n",
      " 1.0     366\n",
      " 2.0     163\n",
      " 3.0      33\n",
      "NaN       16\n",
      " 4.0       4\n",
      " 6.0       1\n",
      " 5.0       1\n",
      "Name: preteen, dtype: int64\n",
      "===========================================================\n",
      " 0.0    2669\n",
      " 1.0     308\n",
      " 2.0      98\n",
      " 3.0      14\n",
      "NaN       13\n",
      " 4.0       3\n",
      "Name: teens, dtype: int64\n",
      "===========================================================\n",
      "$25000 or more    1773\n",
      "NaN                363\n",
      "$10000 - 14999     226\n",
      "$15000 - 19999     218\n",
      "$20000 - 24999     217\n",
      "$8000 to 9999       76\n",
      "$6000 to 6999       46\n",
      "$7000 to 7999       36\n",
      "$4000 to 4999       35\n",
      "$5000 to 5999       31\n",
      "lt $1000            31\n",
      "$3000 to 3999       27\n",
      "$1000 to 2999       26\n",
      "Name: income, dtype: int64\n",
      "===========================================================\n",
      "never               577\n",
      "every week          572\n",
      "once a year         413\n",
      "sevrl times a yr    395\n",
      "2-3x a month        277\n",
      "more thn once wk    234\n",
      "lt once a year      230\n",
      "once a month        216\n",
      "nrly every week     154\n",
      "NaN                  37\n",
      "Name: engagement_religion, dtype: int64\n",
      "===========================================================\n",
      "1    1271\n",
      "2    1071\n",
      "3     763\n",
      "Name: x1, dtype: int64\n",
      "===========================================================\n",
      "NaN      954\n",
      " 2.0     616\n",
      " 1.0     467\n",
      " 3.0     368\n",
      " 4.0     277\n",
      " 5.0     122\n",
      " 0.0      98\n",
      " 6.0      85\n",
      " 8.0      46\n",
      " 7.0      22\n",
      " 12.0     16\n",
      " 10.0     13\n",
      " 9.0       5\n",
      " 15.0      4\n",
      " 14.0      3\n",
      " 20.0      3\n",
      " 11.0      3\n",
      " 18.0      2\n",
      " 13.0      1\n",
      "Name: tvhours, dtype: int64\n",
      "===========================================================\n",
      "1    1739\n",
      "0    1366\n",
      "Name: gender, dtype: int64\n",
      "The percentage of missing values in the dataset is :\n",
      "teens                  0.004187\n",
      "babies                 0.004831\n",
      "preteen                0.005153\n",
      "engagement_religion    0.011916\n",
      "education              0.016747\n",
      "location_class         0.021900\n",
      "score                  0.051530\n",
      "alcohol_consumption    0.053462\n",
      "income                 0.116908\n",
      "tvhours                0.307246\n",
      "widowed                0.363285\n",
      "divorce                0.432206\n",
      "dtype: float64\n",
      "\n",
      "Graphical visualisation of missing values :\n"
     ]
    },
    {
     "data": {
      "image/png": "[encoded data removed]",
      "text/plain": [
       "<matplotlib.figure.Figure at 0x7fbbf776ec50>"
      ]
     },
     "metadata": {},
     "output_type": "display_data"
    }
   ],
   "source": [
    "data_detail(test)\n",
    "missing_data(test)"
   ]
  },
  {
   "cell_type": "markdown",
   "metadata": {},
   "source": [
    "# Data Preprocessing"
   ]
  },
  {
   "cell_type": "code",
   "execution_count": 31,
   "metadata": {},
   "outputs": [
    {
     "name": "stdout",
     "output_type": "stream",
     "text": [
      "\n",
      "Income data has been cleaned.\n",
      "\n",
      "Religion column has been cleaned.\n",
      "\n",
      "Alhocol column modified\n",
      "TV data column fixed\n",
      "Score data column fixed\n",
      "Education data column fixed\n",
      "Divorce data column modified.\n",
      "Widowed data column modified.\n",
      "Work Status column modified\n",
      "Region column modified.\n",
      "Location_class column modified.\n",
      "Data types of column changed\n",
      "Preprocessing complete.\n"
     ]
    }
   ],
   "source": [
    "test = fix_income_data(test)\n",
    "test = fix_kids_column(test)\n",
    "test = fix_religion_data(test)\n",
    "test = fix_alcohol_data(test)\n",
    "test = fix_tv_data(test)\n",
    "test = fix_score_data(test)\n",
    "test = fix_edu_data(test)\n",
    "test = fix_divorce_widow_data(test)\n",
    "test = fix_work_status(test)\n",
    "test = fix_region_data(test)\n",
    "test = fix_location_data(test)\n",
    "test = change_dtype_cols(test)\n",
    "test = preprocess_data(test)"
   ]
  },
  {
   "cell_type": "markdown",
   "metadata": {},
   "source": [
    "# training classifers"
   ]
  },
  {
   "cell_type": "code",
   "execution_count": 32,
   "metadata": {
    "collapsed": true
   },
   "outputs": [],
   "source": [
    "X_1 = test.drop(['id','widowed','divorce'],axis=1)\n",
    "#selecting train and response apart\n",
    "X = df.drop(['id','response','widowed','divorce'],axis=1)\n",
    "y = df['response']"
   ]
  },
  {
   "cell_type": "code",
   "execution_count": 54,
   "metadata": {
    "collapsed": true
   },
   "outputs": [],
   "source": [
    "from sklearn.model_selection import GridSearchCV\n",
    "from sklearn.ensemble import RandomForestClassifier\n",
    "from sklearn.neighbors import KNeighborsClassifier\n",
    "from sklearn.linear_model import LogisticRegression\n",
    "from sklearn.svm import SVC\n",
    "from sklearn.naive_bayes import MultinomialNB,GaussianNB\n",
    "from sklearn.tree import DecisionTreeClassifier\n",
    "from sklearn.ensemble import RandomForestClassifier, BaggingClassifier, AdaBoostClassifier, GradientBoostingClassifier , VotingClassifier "
   ]
  },
  {
   "cell_type": "markdown",
   "metadata": {},
   "source": [
    "# 1.Random Forest"
   ]
  },
  {
   "cell_type": "code",
   "execution_count": null,
   "metadata": {},
   "outputs": [],
   "source": [
    "param_grid = [{'max_depth':np.arange(5,15),'min_samples_leaf':np.arange(1,10),'min_samples_split':np.arange(2,5)}]\n",
    "rf_clf = RandomForestClassifier()\n",
    "rf_cv = GridSearchCV(rf_clf,param_grid,cv=5,verbose=3)\n",
    "rf_cv.fit(X,y)"
   ]
  },
  {
   "cell_type": "code",
   "execution_count": null,
   "metadata": {},
   "outputs": [],
   "source": [
    "print(rf_cv.best_score_)\n",
    "print(rf_cv.best_estimator_)"
   ]
  },
  {
   "cell_type": "code",
   "execution_count": null,
   "metadata": {},
   "outputs": [],
   "source": [
    "rf_clf = RandomForestClassifier(random_state=42,n_jobs=4,max_depth=8,min_samples_leaf=7,min_samples_split=3)\n",
    "rf_clf.fit(X,y)\n",
    "y_pred_rf = rf_clf.predict(X_1)\n",
    "output_rf = pd.DataFrame(data={'id':test['id'], 'response':y_pred_rf})\n",
    "output_rf['response'].replace(0,\"Pretty Happy\",inplace=True)\n",
    "output_rf['response'].replace(1,\"Very Happy\",inplace=True)\n",
    "output_rf['response'].replace(-1,\"Not Happy\",inplace=True)\n",
    "output_rf.to_csv(\"output/result_rf.csv\",index=False)"
   ]
  },
  {
   "cell_type": "markdown",
   "metadata": {},
   "source": [
    "# 2.AdaBoost Classifier"
   ]
  },
  {
   "cell_type": "code",
   "execution_count": null,
   "metadata": {},
   "outputs": [],
   "source": [
    "param_grid = [{'n_estimators':np.arange(50,200,20),'learning_rate':np.arange(0.3,1,0.05)}]\n",
    "ab_clf = AdaBoostClassifier()\n",
    "ab_cv = GridSearchCV(ab_clf,param_grid,cv=5,verbose=3)\n",
    "ab_cv.fit(X,y)"
   ]
  },
  {
   "cell_type": "code",
   "execution_count": null,
   "metadata": {},
   "outputs": [],
   "source": [
    "print(ab_cv.best_params_)\n",
    "print(ab_cv.best_score_)\n",
    "print(ab_cv.best_estimator_)"
   ]
  },
  {
   "cell_type": "code",
   "execution_count": null,
   "metadata": {
    "collapsed": true
   },
   "outputs": [],
   "source": [
    "ab_clf = AdaBoostClassifier(n_estimators=170,learning_rate=0.75,random_state=42)\n",
    "ab_clf.fit(X,y)\n",
    "ab_pred = ab_clf.predict(X_1)\n",
    "output_ab = pd.DataFrame(data={'id':test['id'], 'response':ab_pred})\n",
    "output_ab['response'].replace(0,\"Pretty Happy\",inplace=True)\n",
    "output_ab['response'].replace(1,\"Very Happy\",inplace=True)\n",
    "output_ab['response'].replace(-1,\"Not Happy\",inplace=True)\n",
    "output_ab.to_csv(\"output/resul_ab.csv\",index=False)"
   ]
  },
  {
   "cell_type": "markdown",
   "metadata": {},
   "source": [
    "# 3.Gradient Boost"
   ]
  },
  {
   "cell_type": "code",
   "execution_count": null,
   "metadata": {},
   "outputs": [],
   "source": [
    "param_grid = [{'learning_rate':np.arange(0.3,1,0.5),'n_estimators':np.arange(50,100,10),'min_samples_split':np.arange(2,8)}]\n",
    "gb_clf = GradientBoostingClassifier()\n",
    "gb_cv = GridSearchCV(gb_clf,param_grid,cv=5,verbose=3)\n",
    "gb_cv.fit(X,y)"
   ]
  },
  {
   "cell_type": "code",
   "execution_count": null,
   "metadata": {},
   "outputs": [],
   "source": [
    "print(gb_cv.best_params_)\n",
    "print(gb_cv.best_score_)\n",
    "print(gb_cv.best_estimator_)"
   ]
  },
  {
   "cell_type": "code",
   "execution_count": null,
   "metadata": {
    "collapsed": true
   },
   "outputs": [],
   "source": [
    "gb_clf = GradientBoostingClassifier(n_estimators=50,learning_rate=0.3,min_samples_split=6 ,random_state=42)\n",
    "gb_clf.fit(X,y)\n",
    "gb_pred = gb_clf.predict(X_1)\n",
    "output_gb = pd.DataFrame(data={'id':test['id'], 'response':gb_pred})\n",
    "output_gb['response'].replace(0,\"Pretty Happy\",inplace=True)\n",
    "output_gb['response'].replace(1,\"Very Happy\",inplace=True)\n",
    "output_gb['response'].replace(-1,\"Not Happy\",inplace=True)\n",
    "output_gb.to_csv(\"output/resul_gb.csv\",index=False)"
   ]
  },
  {
   "cell_type": "markdown",
   "metadata": {},
   "source": [
    "# 4. K Neighbour"
   ]
  },
  {
   "cell_type": "code",
   "execution_count": null,
   "metadata": {},
   "outputs": [],
   "source": [
    "param_grid = [{'weights':['uniform','distance'],'n_neighbors':np.arange(1,20)}]\n",
    "kn_clf = KNeighborsClassifier()\n",
    "kn_cv = GridSearchCV(kn_clf,param_grid,cv=5,verbose=3)\n",
    "kn_cv.fit(X,y)"
   ]
  },
  {
   "cell_type": "code",
   "execution_count": null,
   "metadata": {},
   "outputs": [],
   "source": [
    "print(kn_cv.best_params_)\n",
    "print(kn_cv.best_estimator_)\n",
    "print(kn_cv.best_score_)"
   ]
  },
  {
   "cell_type": "code",
   "execution_count": null,
   "metadata": {
    "collapsed": true
   },
   "outputs": [],
   "source": [
    "kn_clf = KNeighborsClassifier(n_neighbors=18 , weights='uniform',leaf_size=30 )\n",
    "kn_clf.fit(X,y)\n",
    "kn_pred = kn_clf.predict(X_1)\n",
    "output_kn = pd.DataFrame(data={'id':test['id'], 'response':kn_pred})\n",
    "output_kn['response'].replace(0,\"Pretty Happy\",inplace=True)\n",
    "output_kn['response'].replace(1,\"Very Happy\",inplace=True)\n",
    "output_kn['response'].replace(-1,\"Not Happy\",inplace=True)\n",
    "output_kn.to_csv(\"output/resul_kn.csv\",index=False)"
   ]
  },
  {
   "cell_type": "markdown",
   "metadata": {},
   "source": [
    "# 5.Logistics Regression"
   ]
  },
  {
   "cell_type": "code",
   "execution_count": null,
   "metadata": {},
   "outputs": [],
   "source": [
    "param_grid = [{'solver':['newton-cg','lbfgs'],'max_iter':np.arange(1,100)}]\n",
    "lr_clf = LogisticRegression()\n",
    "lr_cv = GridSearchCV(lr_clf,param_grid,cv=5,verbose=3)\n",
    "lr_cv.fit(X,y)"
   ]
  },
  {
   "cell_type": "code",
   "execution_count": null,
   "metadata": {},
   "outputs": [],
   "source": [
    "print(lr_cv.best_params_)\n",
    "print(lr_cv.best_estimator_)\n",
    "print(lr_cv.best_score_)"
   ]
  },
  {
   "cell_type": "code",
   "execution_count": null,
   "metadata": {
    "collapsed": true
   },
   "outputs": [],
   "source": [
    "lr_clf = LogisticRegression(solver='lbfgs', max_iter=4 )\n",
    "lr_clf.fit(X,y)\n",
    "lr_pred = lr_clf.predict(X_1)\n",
    "output_lr = pd.DataFrame(data={'id':test['id'], 'response':lr_pred})\n",
    "output_lr['response'].replace(0,\"Pretty Happy\",inplace=True)\n",
    "output_lr['response'].replace(1,\"Very Happy\",inplace=True)\n",
    "output_lr['response'].replace(-1,\"Not Happy\",inplace=True)\n",
    "output_lr.to_csv(\"output/resul_lr.csv\",index=False)"
   ]
  },
  {
   "cell_type": "markdown",
   "metadata": {},
   "source": [
    "# 6.SVM"
   ]
  },
  {
   "cell_type": "code",
   "execution_count": 40,
   "metadata": {},
   "outputs": [
    {
     "name": "stdout",
     "output_type": "stream",
     "text": [
      "Fitting 5 folds for each of 16 candidates, totalling 80 fits\n",
      "[CV] C=1, gamma=1 ....................................................\n",
      "[CV] ........... C=1, gamma=1, score=0.5571625344352618, total=   3.3s\n",
      "[CV] C=1, gamma=1 ....................................................\n"
     ]
    },
    {
     "name": "stderr",
     "output_type": "stream",
     "text": [
      "[Parallel(n_jobs=1)]: Done   1 out of   1 | elapsed:    4.7s remaining:    0.0s\n"
     ]
    },
    {
     "name": "stdout",
     "output_type": "stream",
     "text": [
      "[CV] ........... C=1, gamma=1, score=0.5626721763085399, total=   3.5s\n",
      "[CV] C=1, gamma=1 ....................................................\n"
     ]
    },
    {
     "name": "stderr",
     "output_type": "stream",
     "text": [
      "[Parallel(n_jobs=1)]: Done   2 out of   2 | elapsed:    9.7s remaining:    0.0s\n"
     ]
    },
    {
     "name": "stdout",
     "output_type": "stream",
     "text": [
      "[CV] ........... C=1, gamma=1, score=0.5606896551724138, total=   3.5s\n",
      "[CV] C=1, gamma=1 ....................................................\n",
      "[CV] ........... C=1, gamma=1, score=0.5700483091787439, total=   3.2s\n",
      "[CV] C=1, gamma=1 ....................................................\n",
      "[CV] ........... C=1, gamma=1, score=0.5700483091787439, total=   3.6s\n",
      "[CV] C=1, gamma=2 ....................................................\n",
      "[CV] ........... C=1, gamma=2, score=0.5695592286501377, total=   4.3s\n",
      "[CV] C=1, gamma=2 ....................................................\n"
     ]
    },
    {
     "ename": "KeyboardInterrupt",
     "evalue": "",
     "output_type": "error",
     "traceback": [
      "\u001b[0;31m--------------------------------------------------------------------------\u001b[0m",
      "\u001b[0;31mKeyboardInterrupt\u001b[0m                        Traceback (most recent call last)",
      "\u001b[0;32m<ipython-input-40-4de5387fa6d7>\u001b[0m in \u001b[0;36m<module>\u001b[0;34m()\u001b[0m\n\u001b[1;32m      2\u001b[0m \u001b[0msvm_clf\u001b[0m \u001b[0;34m=\u001b[0m \u001b[0mSVC\u001b[0m\u001b[0;34m(\u001b[0m\u001b[0mrandom_state\u001b[0m\u001b[0;34m=\u001b[0m\u001b[0;36m42\u001b[0m\u001b[0;34m)\u001b[0m\u001b[0;34m\u001b[0m\u001b[0m\n\u001b[1;32m      3\u001b[0m \u001b[0msvm_cv\u001b[0m \u001b[0;34m=\u001b[0m \u001b[0mGridSearchCV\u001b[0m\u001b[0;34m(\u001b[0m\u001b[0msvm_clf\u001b[0m\u001b[0;34m,\u001b[0m\u001b[0mparam_grid\u001b[0m\u001b[0;34m,\u001b[0m\u001b[0mcv\u001b[0m\u001b[0;34m=\u001b[0m\u001b[0;36m5\u001b[0m\u001b[0;34m,\u001b[0m\u001b[0mverbose\u001b[0m\u001b[0;34m=\u001b[0m\u001b[0;36m3\u001b[0m\u001b[0;34m)\u001b[0m\u001b[0;34m\u001b[0m\u001b[0m\n\u001b[0;32m----> 4\u001b[0;31m \u001b[0msvm_cv\u001b[0m\u001b[0;34m.\u001b[0m\u001b[0mfit\u001b[0m\u001b[0;34m(\u001b[0m\u001b[0mX\u001b[0m\u001b[0;34m,\u001b[0m\u001b[0my\u001b[0m\u001b[0;34m)\u001b[0m\u001b[0;34m\u001b[0m\u001b[0m\n\u001b[0m",
      "\u001b[0;32m/home/d2/anaconda3/lib/python3.6/site-packages/sklearn/model_selection/_search.py\u001b[0m in \u001b[0;36mfit\u001b[0;34m(self, X, y, groups, **fit_params)\u001b[0m\n\u001b[1;32m    636\u001b[0m                                   error_score=self.error_score)\n\u001b[1;32m    637\u001b[0m           for parameters, (train, test) in product(candidate_params,\n\u001b[0;32m--> 638\u001b[0;31m                                                    cv.split(X, y, groups)))\n\u001b[0m\u001b[1;32m    639\u001b[0m \u001b[0;34m\u001b[0m\u001b[0m\n\u001b[1;32m    640\u001b[0m         \u001b[0;31m# if one choose to see train score, \"out\" will contain train score info\u001b[0m\u001b[0;34m\u001b[0m\u001b[0;34m\u001b[0m\u001b[0m\n",
      "\u001b[0;32m/home/d2/anaconda3/lib/python3.6/site-packages/sklearn/externals/joblib/parallel.py\u001b[0m in \u001b[0;36m__call__\u001b[0;34m(self, iterable)\u001b[0m\n\u001b[1;32m    777\u001b[0m             \u001b[0;31m# was dispatched. In particular this covers the edge\u001b[0m\u001b[0;34m\u001b[0m\u001b[0;34m\u001b[0m\u001b[0m\n\u001b[1;32m    778\u001b[0m             \u001b[0;31m# case of Parallel used with an exhausted iterator.\u001b[0m\u001b[0;34m\u001b[0m\u001b[0;34m\u001b[0m\u001b[0m\n\u001b[0;32m--> 779\u001b[0;31m             \u001b[0;32mwhile\u001b[0m \u001b[0mself\u001b[0m\u001b[0;34m.\u001b[0m\u001b[0mdispatch_one_batch\u001b[0m\u001b[0;34m(\u001b[0m\u001b[0miterator\u001b[0m\u001b[0;34m)\u001b[0m\u001b[0;34m:\u001b[0m\u001b[0;34m\u001b[0m\u001b[0m\n\u001b[0m\u001b[1;32m    780\u001b[0m                 \u001b[0mself\u001b[0m\u001b[0;34m.\u001b[0m\u001b[0m_iterating\u001b[0m \u001b[0;34m=\u001b[0m \u001b[0;32mTrue\u001b[0m\u001b[0;34m\u001b[0m\u001b[0m\n\u001b[1;32m    781\u001b[0m             \u001b[0;32melse\u001b[0m\u001b[0;34m:\u001b[0m\u001b[0;34m\u001b[0m\u001b[0m\n",
      "\u001b[0;32m/home/d2/anaconda3/lib/python3.6/site-packages/sklearn/externals/joblib/parallel.py\u001b[0m in \u001b[0;36mdispatch_one_batch\u001b[0;34m(self, iterator)\u001b[0m\n\u001b[1;32m    623\u001b[0m                 \u001b[0;32mreturn\u001b[0m \u001b[0;32mFalse\u001b[0m\u001b[0;34m\u001b[0m\u001b[0m\n\u001b[1;32m    624\u001b[0m             \u001b[0;32melse\u001b[0m\u001b[0;34m:\u001b[0m\u001b[0;34m\u001b[0m\u001b[0m\n\u001b[0;32m--> 625\u001b[0;31m                 \u001b[0mself\u001b[0m\u001b[0;34m.\u001b[0m\u001b[0m_dispatch\u001b[0m\u001b[0;34m(\u001b[0m\u001b[0mtasks\u001b[0m\u001b[0;34m)\u001b[0m\u001b[0;34m\u001b[0m\u001b[0m\n\u001b[0m\u001b[1;32m    626\u001b[0m                 \u001b[0;32mreturn\u001b[0m \u001b[0;32mTrue\u001b[0m\u001b[0;34m\u001b[0m\u001b[0m\n\u001b[1;32m    627\u001b[0m \u001b[0;34m\u001b[0m\u001b[0m\n",
      "\u001b[0;32m/home/d2/anaconda3/lib/python3.6/site-packages/sklearn/externals/joblib/parallel.py\u001b[0m in \u001b[0;36m_dispatch\u001b[0;34m(self, batch)\u001b[0m\n\u001b[1;32m    586\u001b[0m         \u001b[0mdispatch_timestamp\u001b[0m \u001b[0;34m=\u001b[0m \u001b[0mtime\u001b[0m\u001b[0;34m.\u001b[0m\u001b[0mtime\u001b[0m\u001b[0;34m(\u001b[0m\u001b[0;34m)\u001b[0m\u001b[0;34m\u001b[0m\u001b[0m\n\u001b[1;32m    587\u001b[0m         \u001b[0mcb\u001b[0m \u001b[0;34m=\u001b[0m \u001b[0mBatchCompletionCallBack\u001b[0m\u001b[0;34m(\u001b[0m\u001b[0mdispatch_timestamp\u001b[0m\u001b[0;34m,\u001b[0m \u001b[0mlen\u001b[0m\u001b[0;34m(\u001b[0m\u001b[0mbatch\u001b[0m\u001b[0;34m)\u001b[0m\u001b[0;34m,\u001b[0m \u001b[0mself\u001b[0m\u001b[0;34m)\u001b[0m\u001b[0;34m\u001b[0m\u001b[0m\n\u001b[0;32m--> 588\u001b[0;31m         \u001b[0mjob\u001b[0m \u001b[0;34m=\u001b[0m \u001b[0mself\u001b[0m\u001b[0;34m.\u001b[0m\u001b[0m_backend\u001b[0m\u001b[0;34m.\u001b[0m\u001b[0mapply_async\u001b[0m\u001b[0;34m(\u001b[0m\u001b[0mbatch\u001b[0m\u001b[0;34m,\u001b[0m \u001b[0mcallback\u001b[0m\u001b[0;34m=\u001b[0m\u001b[0mcb\u001b[0m\u001b[0;34m)\u001b[0m\u001b[0;34m\u001b[0m\u001b[0m\n\u001b[0m\u001b[1;32m    589\u001b[0m         \u001b[0mself\u001b[0m\u001b[0;34m.\u001b[0m\u001b[0m_jobs\u001b[0m\u001b[0;34m.\u001b[0m\u001b[0mappend\u001b[0m\u001b[0;34m(\u001b[0m\u001b[0mjob\u001b[0m\u001b[0;34m)\u001b[0m\u001b[0;34m\u001b[0m\u001b[0m\n\u001b[1;32m    590\u001b[0m \u001b[0;34m\u001b[0m\u001b[0m\n",
      "\u001b[0;32m/home/d2/anaconda3/lib/python3.6/site-packages/sklearn/externals/joblib/_parallel_backends.py\u001b[0m in \u001b[0;36mapply_async\u001b[0;34m(self, func, callback)\u001b[0m\n\u001b[1;32m    109\u001b[0m     \u001b[0;32mdef\u001b[0m \u001b[0mapply_async\u001b[0m\u001b[0;34m(\u001b[0m\u001b[0mself\u001b[0m\u001b[0;34m,\u001b[0m \u001b[0mfunc\u001b[0m\u001b[0;34m,\u001b[0m \u001b[0mcallback\u001b[0m\u001b[0;34m=\u001b[0m\u001b[0;32mNone\u001b[0m\u001b[0;34m)\u001b[0m\u001b[0;34m:\u001b[0m\u001b[0;34m\u001b[0m\u001b[0m\n\u001b[1;32m    110\u001b[0m         \u001b[0;34m\"\"\"Schedule a func to be run\"\"\"\u001b[0m\u001b[0;34m\u001b[0m\u001b[0m\n\u001b[0;32m--> 111\u001b[0;31m         \u001b[0mresult\u001b[0m \u001b[0;34m=\u001b[0m \u001b[0mImmediateResult\u001b[0m\u001b[0;34m(\u001b[0m\u001b[0mfunc\u001b[0m\u001b[0;34m)\u001b[0m\u001b[0;34m\u001b[0m\u001b[0m\n\u001b[0m\u001b[1;32m    112\u001b[0m         \u001b[0;32mif\u001b[0m \u001b[0mcallback\u001b[0m\u001b[0;34m:\u001b[0m\u001b[0;34m\u001b[0m\u001b[0m\n\u001b[1;32m    113\u001b[0m             \u001b[0mcallback\u001b[0m\u001b[0;34m(\u001b[0m\u001b[0mresult\u001b[0m\u001b[0;34m)\u001b[0m\u001b[0;34m\u001b[0m\u001b[0m\n",
      "\u001b[0;32m/home/d2/anaconda3/lib/python3.6/site-packages/sklearn/externals/joblib/_parallel_backends.py\u001b[0m in \u001b[0;36m__init__\u001b[0;34m(self, batch)\u001b[0m\n\u001b[1;32m    330\u001b[0m         \u001b[0;31m# Don't delay the application, to avoid keeping the input\u001b[0m\u001b[0;34m\u001b[0m\u001b[0;34m\u001b[0m\u001b[0m\n\u001b[1;32m    331\u001b[0m         \u001b[0;31m# arguments in memory\u001b[0m\u001b[0;34m\u001b[0m\u001b[0;34m\u001b[0m\u001b[0m\n\u001b[0;32m--> 332\u001b[0;31m         \u001b[0mself\u001b[0m\u001b[0;34m.\u001b[0m\u001b[0mresults\u001b[0m \u001b[0;34m=\u001b[0m \u001b[0mbatch\u001b[0m\u001b[0;34m(\u001b[0m\u001b[0;34m)\u001b[0m\u001b[0;34m\u001b[0m\u001b[0m\n\u001b[0m\u001b[1;32m    333\u001b[0m \u001b[0;34m\u001b[0m\u001b[0m\n\u001b[1;32m    334\u001b[0m     \u001b[0;32mdef\u001b[0m \u001b[0mget\u001b[0m\u001b[0;34m(\u001b[0m\u001b[0mself\u001b[0m\u001b[0;34m)\u001b[0m\u001b[0;34m:\u001b[0m\u001b[0;34m\u001b[0m\u001b[0m\n",
      "\u001b[0;32m/home/d2/anaconda3/lib/python3.6/site-packages/sklearn/externals/joblib/parallel.py\u001b[0m in \u001b[0;36m__call__\u001b[0;34m(self)\u001b[0m\n\u001b[1;32m    129\u001b[0m \u001b[0;34m\u001b[0m\u001b[0m\n\u001b[1;32m    130\u001b[0m     \u001b[0;32mdef\u001b[0m \u001b[0m__call__\u001b[0m\u001b[0;34m(\u001b[0m\u001b[0mself\u001b[0m\u001b[0;34m)\u001b[0m\u001b[0;34m:\u001b[0m\u001b[0;34m\u001b[0m\u001b[0m\n\u001b[0;32m--> 131\u001b[0;31m         \u001b[0;32mreturn\u001b[0m \u001b[0;34m[\u001b[0m\u001b[0mfunc\u001b[0m\u001b[0;34m(\u001b[0m\u001b[0;34m*\u001b[0m\u001b[0margs\u001b[0m\u001b[0;34m,\u001b[0m \u001b[0;34m**\u001b[0m\u001b[0mkwargs\u001b[0m\u001b[0;34m)\u001b[0m \u001b[0;32mfor\u001b[0m \u001b[0mfunc\u001b[0m\u001b[0;34m,\u001b[0m \u001b[0margs\u001b[0m\u001b[0;34m,\u001b[0m \u001b[0mkwargs\u001b[0m \u001b[0;32min\u001b[0m \u001b[0mself\u001b[0m\u001b[0;34m.\u001b[0m\u001b[0mitems\u001b[0m\u001b[0;34m]\u001b[0m\u001b[0;34m\u001b[0m\u001b[0m\n\u001b[0m\u001b[1;32m    132\u001b[0m \u001b[0;34m\u001b[0m\u001b[0m\n\u001b[1;32m    133\u001b[0m     \u001b[0;32mdef\u001b[0m \u001b[0m__len__\u001b[0m\u001b[0;34m(\u001b[0m\u001b[0mself\u001b[0m\u001b[0;34m)\u001b[0m\u001b[0;34m:\u001b[0m\u001b[0;34m\u001b[0m\u001b[0m\n",
      "\u001b[0;32m/home/d2/anaconda3/lib/python3.6/site-packages/sklearn/externals/joblib/parallel.py\u001b[0m in \u001b[0;36m<listcomp>\u001b[0;34m(.0)\u001b[0m\n\u001b[1;32m    129\u001b[0m \u001b[0;34m\u001b[0m\u001b[0m\n\u001b[1;32m    130\u001b[0m     \u001b[0;32mdef\u001b[0m \u001b[0m__call__\u001b[0m\u001b[0;34m(\u001b[0m\u001b[0mself\u001b[0m\u001b[0;34m)\u001b[0m\u001b[0;34m:\u001b[0m\u001b[0;34m\u001b[0m\u001b[0m\n\u001b[0;32m--> 131\u001b[0;31m         \u001b[0;32mreturn\u001b[0m \u001b[0;34m[\u001b[0m\u001b[0mfunc\u001b[0m\u001b[0;34m(\u001b[0m\u001b[0;34m*\u001b[0m\u001b[0margs\u001b[0m\u001b[0;34m,\u001b[0m \u001b[0;34m**\u001b[0m\u001b[0mkwargs\u001b[0m\u001b[0;34m)\u001b[0m \u001b[0;32mfor\u001b[0m \u001b[0mfunc\u001b[0m\u001b[0;34m,\u001b[0m \u001b[0margs\u001b[0m\u001b[0;34m,\u001b[0m \u001b[0mkwargs\u001b[0m \u001b[0;32min\u001b[0m \u001b[0mself\u001b[0m\u001b[0;34m.\u001b[0m\u001b[0mitems\u001b[0m\u001b[0;34m]\u001b[0m\u001b[0;34m\u001b[0m\u001b[0m\n\u001b[0m\u001b[1;32m    132\u001b[0m \u001b[0;34m\u001b[0m\u001b[0m\n\u001b[1;32m    133\u001b[0m     \u001b[0;32mdef\u001b[0m \u001b[0m__len__\u001b[0m\u001b[0;34m(\u001b[0m\u001b[0mself\u001b[0m\u001b[0;34m)\u001b[0m\u001b[0;34m:\u001b[0m\u001b[0;34m\u001b[0m\u001b[0m\n",
      "\u001b[0;32m/home/d2/anaconda3/lib/python3.6/site-packages/sklearn/model_selection/_validation.py\u001b[0m in \u001b[0;36m_fit_and_score\u001b[0;34m(estimator, X, y, scorer, train, test, verbose, parameters, fit_params, return_train_score, return_parameters, return_n_test_samples, return_times, error_score)\u001b[0m\n\u001b[1;32m    435\u001b[0m             \u001b[0mestimator\u001b[0m\u001b[0;34m.\u001b[0m\u001b[0mfit\u001b[0m\u001b[0;34m(\u001b[0m\u001b[0mX_train\u001b[0m\u001b[0;34m,\u001b[0m \u001b[0;34m**\u001b[0m\u001b[0mfit_params\u001b[0m\u001b[0;34m)\u001b[0m\u001b[0;34m\u001b[0m\u001b[0m\n\u001b[1;32m    436\u001b[0m         \u001b[0;32melse\u001b[0m\u001b[0;34m:\u001b[0m\u001b[0;34m\u001b[0m\u001b[0m\n\u001b[0;32m--> 437\u001b[0;31m             \u001b[0mestimator\u001b[0m\u001b[0;34m.\u001b[0m\u001b[0mfit\u001b[0m\u001b[0;34m(\u001b[0m\u001b[0mX_train\u001b[0m\u001b[0;34m,\u001b[0m \u001b[0my_train\u001b[0m\u001b[0;34m,\u001b[0m \u001b[0;34m**\u001b[0m\u001b[0mfit_params\u001b[0m\u001b[0;34m)\u001b[0m\u001b[0;34m\u001b[0m\u001b[0m\n\u001b[0m\u001b[1;32m    438\u001b[0m \u001b[0;34m\u001b[0m\u001b[0m\n\u001b[1;32m    439\u001b[0m     \u001b[0;32mexcept\u001b[0m \u001b[0mException\u001b[0m \u001b[0;32mas\u001b[0m \u001b[0me\u001b[0m\u001b[0;34m:\u001b[0m\u001b[0;34m\u001b[0m\u001b[0m\n",
      "\u001b[0;32m/home/d2/anaconda3/lib/python3.6/site-packages/sklearn/svm/base.py\u001b[0m in \u001b[0;36mfit\u001b[0;34m(self, X, y, sample_weight)\u001b[0m\n\u001b[1;32m    185\u001b[0m \u001b[0;34m\u001b[0m\u001b[0m\n\u001b[1;32m    186\u001b[0m         \u001b[0mseed\u001b[0m \u001b[0;34m=\u001b[0m \u001b[0mrnd\u001b[0m\u001b[0;34m.\u001b[0m\u001b[0mrandint\u001b[0m\u001b[0;34m(\u001b[0m\u001b[0mnp\u001b[0m\u001b[0;34m.\u001b[0m\u001b[0miinfo\u001b[0m\u001b[0;34m(\u001b[0m\u001b[0;34m'i'\u001b[0m\u001b[0;34m)\u001b[0m\u001b[0;34m.\u001b[0m\u001b[0mmax\u001b[0m\u001b[0;34m)\u001b[0m\u001b[0;34m\u001b[0m\u001b[0m\n\u001b[0;32m--> 187\u001b[0;31m         \u001b[0mfit\u001b[0m\u001b[0;34m(\u001b[0m\u001b[0mX\u001b[0m\u001b[0;34m,\u001b[0m \u001b[0my\u001b[0m\u001b[0;34m,\u001b[0m \u001b[0msample_weight\u001b[0m\u001b[0;34m,\u001b[0m \u001b[0msolver_type\u001b[0m\u001b[0;34m,\u001b[0m \u001b[0mkernel\u001b[0m\u001b[0;34m,\u001b[0m \u001b[0mrandom_seed\u001b[0m\u001b[0;34m=\u001b[0m\u001b[0mseed\u001b[0m\u001b[0;34m)\u001b[0m\u001b[0;34m\u001b[0m\u001b[0m\n\u001b[0m\u001b[1;32m    188\u001b[0m         \u001b[0;31m# see comment on the other call to np.iinfo in this file\u001b[0m\u001b[0;34m\u001b[0m\u001b[0;34m\u001b[0m\u001b[0m\n\u001b[1;32m    189\u001b[0m \u001b[0;34m\u001b[0m\u001b[0m\n",
      "\u001b[0;32m/home/d2/anaconda3/lib/python3.6/site-packages/sklearn/svm/base.py\u001b[0m in \u001b[0;36m_dense_fit\u001b[0;34m(self, X, y, sample_weight, solver_type, kernel, random_seed)\u001b[0m\n\u001b[1;32m    252\u001b[0m                 \u001b[0mcache_size\u001b[0m\u001b[0;34m=\u001b[0m\u001b[0mself\u001b[0m\u001b[0;34m.\u001b[0m\u001b[0mcache_size\u001b[0m\u001b[0;34m,\u001b[0m \u001b[0mcoef0\u001b[0m\u001b[0;34m=\u001b[0m\u001b[0mself\u001b[0m\u001b[0;34m.\u001b[0m\u001b[0mcoef0\u001b[0m\u001b[0;34m,\u001b[0m\u001b[0;34m\u001b[0m\u001b[0m\n\u001b[1;32m    253\u001b[0m                 \u001b[0mgamma\u001b[0m\u001b[0;34m=\u001b[0m\u001b[0mself\u001b[0m\u001b[0;34m.\u001b[0m\u001b[0m_gamma\u001b[0m\u001b[0;34m,\u001b[0m \u001b[0mepsilon\u001b[0m\u001b[0;34m=\u001b[0m\u001b[0mself\u001b[0m\u001b[0;34m.\u001b[0m\u001b[0mepsilon\u001b[0m\u001b[0;34m,\u001b[0m\u001b[0;34m\u001b[0m\u001b[0m\n\u001b[0;32m--> 254\u001b[0;31m                 max_iter=self.max_iter, random_seed=random_seed)\n\u001b[0m\u001b[1;32m    255\u001b[0m \u001b[0;34m\u001b[0m\u001b[0m\n\u001b[1;32m    256\u001b[0m         \u001b[0mself\u001b[0m\u001b[0;34m.\u001b[0m\u001b[0m_warn_from_fit_status\u001b[0m\u001b[0;34m(\u001b[0m\u001b[0;34m)\u001b[0m\u001b[0;34m\u001b[0m\u001b[0m\n",
      "\u001b[0;31mKeyboardInterrupt\u001b[0m: "
     ]
    }
   ],
   "source": [
    "param_grid = [{'C':np.arange(1,5),'gamma':np.arange(1,5)}]\n",
    "svm_clf = SVC(random_state=42)\n",
    "svm_cv = GridSearchCV(svm_clf,param_grid,cv=5,verbose=3)\n",
    "svm_cv.fit(X,y)"
   ]
  },
  {
   "cell_type": "markdown",
   "metadata": {},
   "source": [
    "# 7.Voting Classifier"
   ]
  },
  {
   "cell_type": "code",
   "execution_count": 64,
   "metadata": {},
   "outputs": [],
   "source": [
    "rf = RandomForestClassifier(random_state=42,n_jobs=4,max_depth=8,min_samples_leaf=7,min_samples_split=3)\n",
    "ab = AdaBoostClassifier(n_estimators=170,learning_rate=0.75,random_state=42)\n",
    "gb = GradientBoostingClassifier(n_estimators=50,learning_rate=0.3,min_samples_split=6 ,random_state=42)\n",
    "kn = KNeighborsClassifier(n_neighbors=18 , weights='uniform',leaf_size=30 )\n",
    "lr = LogisticRegression(solver='lbfgs', max_iter=4 )\n",
    "sv = SVC(random_state=42)\n",
    "bc = BaggingClassifier(n_estimators=50,max_samples=90,max_features=6)\n",
    "\n",
    "eclf = VotingClassifier(estimators=[('rf',rf),('ab',ab),('gb',gb),('sv',sv),('bc',bc)],voting='hard')\n",
    "eclf.fit(X,y)\n",
    "eclf_pred = eclf.predict(X_1)\n",
    "output_eclf = pd.DataFrame(data={'id':test['id'], 'response':eclf_pred})\n",
    "output_eclf['response'].replace(0,\"Pretty Happy\",inplace=True)\n",
    "output_eclf['response'].replace(1,\"Very Happy\",inplace=True)\n",
    "output_eclf['response'].replace(-1,\"Not Happy\",inplace=True)\n",
    "output_eclf.to_csv(\"output/resul_eclf.csv\",index=False)"
   ]
  },
  {
   "cell_type": "markdown",
   "metadata": {},
   "source": [
    "# 8. Bagging Classifier"
   ]
  },
  {
   "cell_type": "code",
   "execution_count": 62,
   "metadata": {},
   "outputs": [
    {
     "name": "stdout",
     "output_type": "stream",
     "text": [
      "Fitting 5 folds for each of 600 candidates, totalling 3000 fits\n",
      "[CV] max_features=2, max_samples=50, n_estimators=40 .................\n",
      "[CV]  max_features=2, max_samples=50, n_estimators=40, score=0.5606060606060606, total=   0.1s\n",
      "[CV] max_features=2, max_samples=50, n_estimators=40 .................\n"
     ]
    },
    {
     "name": "stderr",
     "output_type": "stream",
     "text": [
      "[Parallel(n_jobs=1)]: Done   1 out of   1 | elapsed:    0.1s remaining:    0.0s\n",
      "[Parallel(n_jobs=1)]: Done   2 out of   2 | elapsed:    0.3s remaining:    0.0s\n"
     ]
    },
    {
     "name": "stdout",
     "output_type": "stream",
     "text": [
      "[CV]  max_features=2, max_samples=50, n_estimators=40, score=0.5681818181818182, total=   0.1s\n",
      "[CV] max_features=2, max_samples=50, n_estimators=40 .................\n",
      "[CV]  max_features=2, max_samples=50, n_estimators=40, score=0.5682758620689655, total=   0.1s\n",
      "[CV] max_features=2, max_samples=50, n_estimators=40 .................\n",
      "[CV]  max_features=2, max_samples=50, n_estimators=40, score=0.5700483091787439, total=   0.1s\n",
      "[CV] max_features=2, max_samples=50, n_estimators=40 .................\n",
      "[CV]  max_features=2, max_samples=50, n_estimators=40, score=0.5686680469289165, total=   0.1s\n",
      "[CV] max_features=2, max_samples=50, n_estimators=41 .................\n",
      "[CV]  max_features=2, max_samples=50, n_estimators=41, score=0.5640495867768595, total=   0.1s\n",
      "[CV] max_features=2, max_samples=50, n_estimators=41 .................\n",
      "[CV]  max_features=2, max_samples=50, n_estimators=41, score=0.5709366391184573, total=   0.1s\n",
      "[CV] max_features=2, max_samples=50, n_estimators=41 .................\n",
      "[CV]  max_features=2, max_samples=50, n_estimators=41, score=0.5689655172413793, total=   0.1s\n",
      "[CV] max_features=2, max_samples=50, n_estimators=41 .................\n",
      "[CV]  max_features=2, max_samples=50, n_estimators=41, score=0.5714285714285714, total=   0.1s\n",
      "[CV] max_features=2, max_samples=50, n_estimators=41 .................\n",
      "[CV]  max_features=2, max_samples=50, n_estimators=41, score=0.5679779158040028, total=   0.1s\n",
      "[CV] max_features=2, max_samples=50, n_estimators=42 .................\n",
      "[CV]  max_features=2, max_samples=50, n_estimators=42, score=0.5626721763085399, total=   0.1s\n",
      "[CV] max_features=2, max_samples=50, n_estimators=42 .................\n",
      "[CV]  max_features=2, max_samples=50, n_estimators=42, score=0.5695592286501377, total=   0.1s\n",
      "[CV] max_features=2, max_samples=50, n_estimators=42 .................\n",
      "[CV]  max_features=2, max_samples=50, n_estimators=42, score=0.5675862068965517, total=   0.1s\n",
      "[CV] max_features=2, max_samples=50, n_estimators=42 .................\n",
      "[CV]  max_features=2, max_samples=50, n_estimators=42, score=0.5714285714285714, total=   0.1s\n",
      "[CV] max_features=2, max_samples=50, n_estimators=42 .................\n",
      "[CV]  max_features=2, max_samples=50, n_estimators=42, score=0.5686680469289165, total=   0.1s\n",
      "[CV] max_features=2, max_samples=50, n_estimators=43 .................\n",
      "[CV]  max_features=2, max_samples=50, n_estimators=43, score=0.5626721763085399, total=   0.1s\n",
      "[CV] max_features=2, max_samples=50, n_estimators=43 .................\n",
      "[CV]  max_features=2, max_samples=50, n_estimators=43, score=0.568870523415978, total=   0.1s\n",
      "[CV] max_features=2, max_samples=50, n_estimators=43 .................\n",
      "[CV]  max_features=2, max_samples=50, n_estimators=43, score=0.5675862068965517, total=   0.1s\n",
      "[CV] max_features=2, max_samples=50, n_estimators=43 .................\n",
      "[CV]  max_features=2, max_samples=50, n_estimators=43, score=0.5700483091787439, total=   0.1s\n",
      "[CV] max_features=2, max_samples=50, n_estimators=43 .................\n",
      "[CV]  max_features=2, max_samples=50, n_estimators=43, score=0.5693581780538303, total=   0.1s\n",
      "[CV] max_features=2, max_samples=50, n_estimators=44 .................\n",
      "[CV]  max_features=2, max_samples=50, n_estimators=44, score=0.5626721763085399, total=   0.1s\n",
      "[CV] max_features=2, max_samples=50, n_estimators=44 .................\n",
      "[CV]  max_features=2, max_samples=50, n_estimators=44, score=0.5695592286501377, total=   0.1s\n",
      "[CV] max_features=2, max_samples=50, n_estimators=44 .................\n",
      "[CV]  max_features=2, max_samples=50, n_estimators=44, score=0.5689655172413793, total=   0.1s\n",
      "[CV] max_features=2, max_samples=50, n_estimators=44 .................\n",
      "[CV]  max_features=2, max_samples=50, n_estimators=44, score=0.5700483091787439, total=   0.1s\n",
      "[CV] max_features=2, max_samples=50, n_estimators=44 .................\n",
      "[CV]  max_features=2, max_samples=50, n_estimators=44, score=0.5693581780538303, total=   0.1s\n",
      "[CV] max_features=2, max_samples=50, n_estimators=45 .................\n",
      "[CV]  max_features=2, max_samples=50, n_estimators=45, score=0.5633608815426997, total=   0.1s\n",
      "[CV] max_features=2, max_samples=50, n_estimators=45 .................\n",
      "[CV]  max_features=2, max_samples=50, n_estimators=45, score=0.5723140495867769, total=   0.1s\n",
      "[CV] max_features=2, max_samples=50, n_estimators=45 .................\n",
      "[CV]  max_features=2, max_samples=50, n_estimators=45, score=0.5696551724137932, total=   0.1s\n",
      "[CV] max_features=2, max_samples=50, n_estimators=45 .................\n",
      "[CV]  max_features=2, max_samples=50, n_estimators=45, score=0.5693581780538303, total=   0.1s\n",
      "[CV] max_features=2, max_samples=50, n_estimators=45 .................\n",
      "[CV]  max_features=2, max_samples=50, n_estimators=45, score=0.5686680469289165, total=   0.1s\n",
      "[CV] max_features=2, max_samples=50, n_estimators=46 .................\n",
      "[CV]  max_features=2, max_samples=50, n_estimators=46, score=0.5647382920110193, total=   0.1s\n",
      "[CV] max_features=2, max_samples=50, n_estimators=46 .................\n",
      "[CV]  max_features=2, max_samples=50, n_estimators=46, score=0.571625344352617, total=   0.1s\n",
      "[CV] max_features=2, max_samples=50, n_estimators=46 .................\n",
      "[CV]  max_features=2, max_samples=50, n_estimators=46, score=0.5703448275862069, total=   0.1s\n",
      "[CV] max_features=2, max_samples=50, n_estimators=46 .................\n",
      "[CV]  max_features=2, max_samples=50, n_estimators=46, score=0.5707384403036577, total=   0.1s\n",
      "[CV] max_features=2, max_samples=50, n_estimators=46 .................\n",
      "[CV]  max_features=2, max_samples=50, n_estimators=46, score=0.5693581780538303, total=   0.1s\n",
      "[CV] max_features=2, max_samples=50, n_estimators=47 .................\n",
      "[CV]  max_features=2, max_samples=50, n_estimators=47, score=0.5633608815426997, total=   0.1s\n",
      "[CV] max_features=2, max_samples=50, n_estimators=47 .................\n",
      "[CV]  max_features=2, max_samples=50, n_estimators=47, score=0.5702479338842975, total=   0.1s\n",
      "[CV] max_features=2, max_samples=50, n_estimators=47 .................\n",
      "[CV]  max_features=2, max_samples=50, n_estimators=47, score=0.5703448275862069, total=   0.1s\n",
      "[CV] max_features=2, max_samples=50, n_estimators=47 .................\n",
      "[CV]  max_features=2, max_samples=50, n_estimators=47, score=0.5707384403036577, total=   0.1s\n",
      "[CV] max_features=2, max_samples=50, n_estimators=47 .................\n",
      "[CV]  max_features=2, max_samples=50, n_estimators=47, score=0.5693581780538303, total=   0.1s\n",
      "[CV] max_features=2, max_samples=50, n_estimators=48 .................\n",
      "[CV]  max_features=2, max_samples=50, n_estimators=48, score=0.5640495867768595, total=   0.1s\n",
      "[CV] max_features=2, max_samples=50, n_estimators=48 .................\n",
      "[CV]  max_features=2, max_samples=50, n_estimators=48, score=0.5702479338842975, total=   0.1s\n",
      "[CV] max_features=2, max_samples=50, n_estimators=48 .................\n",
      "[CV]  max_features=2, max_samples=50, n_estimators=48, score=0.5696551724137932, total=   0.1s\n",
      "[CV] max_features=2, max_samples=50, n_estimators=48 .................\n",
      "[CV]  max_features=2, max_samples=50, n_estimators=48, score=0.5693581780538303, total=   0.1s\n",
      "[CV] max_features=2, max_samples=50, n_estimators=48 .................\n",
      "[CV]  max_features=2, max_samples=50, n_estimators=48, score=0.5700483091787439, total=   0.1s\n",
      "[CV] max_features=2, max_samples=50, n_estimators=49 .................\n",
      "[CV]  max_features=2, max_samples=50, n_estimators=49, score=0.5633608815426997, total=   0.1s\n",
      "[CV] max_features=2, max_samples=50, n_estimators=49 .................\n",
      "[CV]  max_features=2, max_samples=50, n_estimators=49, score=0.5681818181818182, total=   0.1s\n",
      "[CV] max_features=2, max_samples=50, n_estimators=49 .................\n",
      "[CV]  max_features=2, max_samples=50, n_estimators=49, score=0.5717241379310345, total=   0.1s\n",
      "[CV] max_features=2, max_samples=50, n_estimators=49 .................\n",
      "[CV]  max_features=2, max_samples=50, n_estimators=49, score=0.5707384403036577, total=   0.1s\n",
      "[CV] max_features=2, max_samples=50, n_estimators=49 .................\n",
      "[CV]  max_features=2, max_samples=50, n_estimators=49, score=0.5700483091787439, total=   0.1s\n",
      "[CV] max_features=2, max_samples=50, n_estimators=50 .................\n",
      "[CV]  max_features=2, max_samples=50, n_estimators=50, score=0.5647382920110193, total=   0.1s\n",
      "[CV] max_features=2, max_samples=50, n_estimators=50 .................\n"
     ]
    },
    {
     "name": "stdout",
     "output_type": "stream",
     "text": [
      "[CV]  max_features=2, max_samples=50, n_estimators=50, score=0.5681818181818182, total=   0.1s\n",
      "[CV] max_features=2, max_samples=50, n_estimators=50 .................\n",
      "[CV]  max_features=2, max_samples=50, n_estimators=50, score=0.5710344827586207, total=   0.1s\n",
      "[CV] max_features=2, max_samples=50, n_estimators=50 .................\n",
      "[CV]  max_features=2, max_samples=50, n_estimators=50, score=0.5707384403036577, total=   0.1s\n",
      "[CV] max_features=2, max_samples=50, n_estimators=50 .................\n",
      "[CV]  max_features=2, max_samples=50, n_estimators=50, score=0.5707384403036577, total=   0.1s\n",
      "[CV] max_features=2, max_samples=50, n_estimators=51 .................\n",
      "[CV]  max_features=2, max_samples=50, n_estimators=51, score=0.5654269972451791, total=   0.1s\n",
      "[CV] max_features=2, max_samples=50, n_estimators=51 .................\n",
      "[CV]  max_features=2, max_samples=50, n_estimators=51, score=0.5681818181818182, total=   0.1s\n",
      "[CV] max_features=2, max_samples=50, n_estimators=51 .................\n",
      "[CV]  max_features=2, max_samples=50, n_estimators=51, score=0.5696551724137932, total=   0.1s\n",
      "[CV] max_features=2, max_samples=50, n_estimators=51 .................\n",
      "[CV]  max_features=2, max_samples=50, n_estimators=51, score=0.5700483091787439, total=   0.1s\n",
      "[CV] max_features=2, max_samples=50, n_estimators=51 .................\n",
      "[CV]  max_features=2, max_samples=50, n_estimators=51, score=0.5700483091787439, total=   0.1s\n",
      "[CV] max_features=2, max_samples=50, n_estimators=52 .................\n",
      "[CV]  max_features=2, max_samples=50, n_estimators=52, score=0.5654269972451791, total=   0.1s\n",
      "[CV] max_features=2, max_samples=50, n_estimators=52 .................\n",
      "[CV]  max_features=2, max_samples=50, n_estimators=52, score=0.5674931129476584, total=   0.1s\n",
      "[CV] max_features=2, max_samples=50, n_estimators=52 .................\n",
      "[CV]  max_features=2, max_samples=50, n_estimators=52, score=0.5696551724137932, total=   0.1s\n",
      "[CV] max_features=2, max_samples=50, n_estimators=52 .................\n",
      "[CV]  max_features=2, max_samples=50, n_estimators=52, score=0.5707384403036577, total=   0.1s\n",
      "[CV] max_features=2, max_samples=50, n_estimators=52 .................\n",
      "[CV]  max_features=2, max_samples=50, n_estimators=52, score=0.5700483091787439, total=   0.1s\n",
      "[CV] max_features=2, max_samples=50, n_estimators=53 .................\n",
      "[CV]  max_features=2, max_samples=50, n_estimators=53, score=0.5654269972451791, total=   0.1s\n",
      "[CV] max_features=2, max_samples=50, n_estimators=53 .................\n",
      "[CV]  max_features=2, max_samples=50, n_estimators=53, score=0.5674931129476584, total=   0.1s\n",
      "[CV] max_features=2, max_samples=50, n_estimators=53 .................\n",
      "[CV]  max_features=2, max_samples=50, n_estimators=53, score=0.5689655172413793, total=   0.1s\n",
      "[CV] max_features=2, max_samples=50, n_estimators=53 .................\n",
      "[CV]  max_features=2, max_samples=50, n_estimators=53, score=0.5700483091787439, total=   0.1s\n",
      "[CV] max_features=2, max_samples=50, n_estimators=53 .................\n",
      "[CV]  max_features=2, max_samples=50, n_estimators=53, score=0.5693581780538303, total=   0.1s\n",
      "[CV] max_features=2, max_samples=50, n_estimators=54 .................\n",
      "[CV]  max_features=2, max_samples=50, n_estimators=54, score=0.5640495867768595, total=   0.1s\n",
      "[CV] max_features=2, max_samples=50, n_estimators=54 .................\n",
      "[CV]  max_features=2, max_samples=50, n_estimators=54, score=0.5695592286501377, total=   0.1s\n",
      "[CV] max_features=2, max_samples=50, n_estimators=54 .................\n",
      "[CV]  max_features=2, max_samples=50, n_estimators=54, score=0.5696551724137932, total=   0.1s\n",
      "[CV] max_features=2, max_samples=50, n_estimators=54 .................\n",
      "[CV]  max_features=2, max_samples=50, n_estimators=54, score=0.5700483091787439, total=   0.1s\n",
      "[CV] max_features=2, max_samples=50, n_estimators=54 .................\n",
      "[CV]  max_features=2, max_samples=50, n_estimators=54, score=0.5707384403036577, total=   0.1s\n",
      "[CV] max_features=2, max_samples=50, n_estimators=55 .................\n",
      "[CV]  max_features=2, max_samples=50, n_estimators=55, score=0.5668044077134986, total=   0.1s\n",
      "[CV] max_features=2, max_samples=50, n_estimators=55 .................\n",
      "[CV]  max_features=2, max_samples=50, n_estimators=55, score=0.5709366391184573, total=   0.1s\n",
      "[CV] max_features=2, max_samples=50, n_estimators=55 .................\n",
      "[CV]  max_features=2, max_samples=50, n_estimators=55, score=0.5696551724137932, total=   0.1s\n",
      "[CV] max_features=2, max_samples=50, n_estimators=55 .................\n",
      "[CV]  max_features=2, max_samples=50, n_estimators=55, score=0.5707384403036577, total=   0.1s\n",
      "[CV] max_features=2, max_samples=50, n_estimators=55 .................\n",
      "[CV]  max_features=2, max_samples=50, n_estimators=55, score=0.5707384403036577, total=   0.1s\n",
      "[CV] max_features=2, max_samples=50, n_estimators=56 .................\n",
      "[CV]  max_features=2, max_samples=50, n_estimators=56, score=0.5681818181818182, total=   0.1s\n",
      "[CV] max_features=2, max_samples=50, n_estimators=56 .................\n",
      "[CV]  max_features=2, max_samples=50, n_estimators=56, score=0.5702479338842975, total=   0.1s\n",
      "[CV] max_features=2, max_samples=50, n_estimators=56 .................\n",
      "[CV]  max_features=2, max_samples=50, n_estimators=56, score=0.5689655172413793, total=   0.1s\n",
      "[CV] max_features=2, max_samples=50, n_estimators=56 .................\n",
      "[CV]  max_features=2, max_samples=50, n_estimators=56, score=0.5707384403036577, total=   0.1s\n",
      "[CV] max_features=2, max_samples=50, n_estimators=56 .................\n",
      "[CV]  max_features=2, max_samples=50, n_estimators=56, score=0.5700483091787439, total=   0.1s\n",
      "[CV] max_features=2, max_samples=50, n_estimators=57 .................\n",
      "[CV]  max_features=2, max_samples=50, n_estimators=57, score=0.568870523415978, total=   0.1s\n",
      "[CV] max_features=2, max_samples=50, n_estimators=57 .................\n",
      "[CV]  max_features=2, max_samples=50, n_estimators=57, score=0.5695592286501377, total=   0.1s\n",
      "[CV] max_features=2, max_samples=50, n_estimators=57 .................\n",
      "[CV]  max_features=2, max_samples=50, n_estimators=57, score=0.5710344827586207, total=   0.1s\n",
      "[CV] max_features=2, max_samples=50, n_estimators=57 .................\n",
      "[CV]  max_features=2, max_samples=50, n_estimators=57, score=0.5707384403036577, total=   0.1s\n",
      "[CV] max_features=2, max_samples=50, n_estimators=57 .................\n",
      "[CV]  max_features=2, max_samples=50, n_estimators=57, score=0.5700483091787439, total=   0.1s\n",
      "[CV] max_features=2, max_samples=50, n_estimators=58 .................\n",
      "[CV]  max_features=2, max_samples=50, n_estimators=58, score=0.5695592286501377, total=   0.1s\n",
      "[CV] max_features=2, max_samples=50, n_estimators=58 .................\n",
      "[CV]  max_features=2, max_samples=50, n_estimators=58, score=0.5695592286501377, total=   0.1s\n",
      "[CV] max_features=2, max_samples=50, n_estimators=58 .................\n",
      "[CV]  max_features=2, max_samples=50, n_estimators=58, score=0.5710344827586207, total=   0.1s\n",
      "[CV] max_features=2, max_samples=50, n_estimators=58 .................\n",
      "[CV]  max_features=2, max_samples=50, n_estimators=58, score=0.5707384403036577, total=   0.1s\n",
      "[CV] max_features=2, max_samples=50, n_estimators=58 .................\n",
      "[CV]  max_features=2, max_samples=50, n_estimators=58, score=0.5700483091787439, total=   0.1s\n",
      "[CV] max_features=2, max_samples=50, n_estimators=59 .................\n",
      "[CV]  max_features=2, max_samples=50, n_estimators=59, score=0.568870523415978, total=   0.1s\n",
      "[CV] max_features=2, max_samples=50, n_estimators=59 .................\n",
      "[CV]  max_features=2, max_samples=50, n_estimators=59, score=0.568870523415978, total=   0.1s\n",
      "[CV] max_features=2, max_samples=50, n_estimators=59 .................\n",
      "[CV]  max_features=2, max_samples=50, n_estimators=59, score=0.5710344827586207, total=   0.1s\n",
      "[CV] max_features=2, max_samples=50, n_estimators=59 .................\n",
      "[CV]  max_features=2, max_samples=50, n_estimators=59, score=0.5707384403036577, total=   0.1s\n",
      "[CV] max_features=2, max_samples=50, n_estimators=59 .................\n",
      "[CV]  max_features=2, max_samples=50, n_estimators=59, score=0.5714285714285714, total=   0.1s\n",
      "[CV] max_features=2, max_samples=50, n_estimators=60 .................\n",
      "[CV]  max_features=2, max_samples=50, n_estimators=60, score=0.568870523415978, total=   0.1s\n",
      "[CV] max_features=2, max_samples=50, n_estimators=60 .................\n"
     ]
    },
    {
     "name": "stdout",
     "output_type": "stream",
     "text": [
      "[CV]  max_features=2, max_samples=50, n_estimators=60, score=0.568870523415978, total=   0.2s\n",
      "[CV] max_features=2, max_samples=50, n_estimators=60 .................\n",
      "[CV]  max_features=2, max_samples=50, n_estimators=60, score=0.5710344827586207, total=   0.2s\n",
      "[CV] max_features=2, max_samples=50, n_estimators=60 .................\n",
      "[CV]  max_features=2, max_samples=50, n_estimators=60, score=0.5707384403036577, total=   0.2s\n",
      "[CV] max_features=2, max_samples=50, n_estimators=60 .................\n",
      "[CV]  max_features=2, max_samples=50, n_estimators=60, score=0.5707384403036577, total=   0.3s\n",
      "[CV] max_features=2, max_samples=50, n_estimators=61 .................\n",
      "[CV]  max_features=2, max_samples=50, n_estimators=61, score=0.568870523415978, total=   0.2s\n",
      "[CV] max_features=2, max_samples=50, n_estimators=61 .................\n",
      "[CV]  max_features=2, max_samples=50, n_estimators=61, score=0.5674931129476584, total=   0.2s\n",
      "[CV] max_features=2, max_samples=50, n_estimators=61 .................\n",
      "[CV]  max_features=2, max_samples=50, n_estimators=61, score=0.5710344827586207, total=   0.2s\n",
      "[CV] max_features=2, max_samples=50, n_estimators=61 .................\n",
      "[CV]  max_features=2, max_samples=50, n_estimators=61, score=0.5700483091787439, total=   0.2s\n",
      "[CV] max_features=2, max_samples=50, n_estimators=61 .................\n",
      "[CV]  max_features=2, max_samples=50, n_estimators=61, score=0.5707384403036577, total=   0.2s\n",
      "[CV] max_features=2, max_samples=50, n_estimators=62 .................\n",
      "[CV]  max_features=2, max_samples=50, n_estimators=62, score=0.568870523415978, total=   0.2s\n",
      "[CV] max_features=2, max_samples=50, n_estimators=62 .................\n",
      "[CV]  max_features=2, max_samples=50, n_estimators=62, score=0.5674931129476584, total=   0.1s\n",
      "[CV] max_features=2, max_samples=50, n_estimators=62 .................\n",
      "[CV]  max_features=2, max_samples=50, n_estimators=62, score=0.5703448275862069, total=   0.1s\n",
      "[CV] max_features=2, max_samples=50, n_estimators=62 .................\n",
      "[CV]  max_features=2, max_samples=50, n_estimators=62, score=0.5707384403036577, total=   0.2s\n",
      "[CV] max_features=2, max_samples=50, n_estimators=62 .................\n",
      "[CV]  max_features=2, max_samples=50, n_estimators=62, score=0.5714285714285714, total=   0.2s\n",
      "[CV] max_features=2, max_samples=50, n_estimators=63 .................\n",
      "[CV]  max_features=2, max_samples=50, n_estimators=63, score=0.5702479338842975, total=   0.1s\n",
      "[CV] max_features=2, max_samples=50, n_estimators=63 .................\n",
      "[CV]  max_features=2, max_samples=50, n_estimators=63, score=0.568870523415978, total=   0.1s\n",
      "[CV] max_features=2, max_samples=50, n_estimators=63 .................\n",
      "[CV]  max_features=2, max_samples=50, n_estimators=63, score=0.5696551724137932, total=   0.1s\n",
      "[CV] max_features=2, max_samples=50, n_estimators=63 .................\n",
      "[CV]  max_features=2, max_samples=50, n_estimators=63, score=0.5700483091787439, total=   0.1s\n",
      "[CV] max_features=2, max_samples=50, n_estimators=63 .................\n",
      "[CV]  max_features=2, max_samples=50, n_estimators=63, score=0.5714285714285714, total=   0.1s\n",
      "[CV] max_features=2, max_samples=50, n_estimators=64 .................\n",
      "[CV]  max_features=2, max_samples=50, n_estimators=64, score=0.5702479338842975, total=   0.1s\n",
      "[CV] max_features=2, max_samples=50, n_estimators=64 .................\n",
      "[CV]  max_features=2, max_samples=50, n_estimators=64, score=0.5681818181818182, total=   0.1s\n",
      "[CV] max_features=2, max_samples=50, n_estimators=64 .................\n",
      "[CV]  max_features=2, max_samples=50, n_estimators=64, score=0.5703448275862069, total=   0.1s\n",
      "[CV] max_features=2, max_samples=50, n_estimators=64 .................\n",
      "[CV]  max_features=2, max_samples=50, n_estimators=64, score=0.5714285714285714, total=   0.1s\n",
      "[CV] max_features=2, max_samples=50, n_estimators=64 .................\n",
      "[CV]  max_features=2, max_samples=50, n_estimators=64, score=0.5700483091787439, total=   0.2s\n",
      "[CV] max_features=2, max_samples=50, n_estimators=65 .................\n",
      "[CV]  max_features=2, max_samples=50, n_estimators=65, score=0.568870523415978, total=   0.1s\n",
      "[CV] max_features=2, max_samples=50, n_estimators=65 .................\n",
      "[CV]  max_features=2, max_samples=50, n_estimators=65, score=0.5668044077134986, total=   0.1s\n",
      "[CV] max_features=2, max_samples=50, n_estimators=65 .................\n",
      "[CV]  max_features=2, max_samples=50, n_estimators=65, score=0.5710344827586207, total=   0.1s\n",
      "[CV] max_features=2, max_samples=50, n_estimators=65 .................\n",
      "[CV]  max_features=2, max_samples=50, n_estimators=65, score=0.5707384403036577, total=   0.2s\n",
      "[CV] max_features=2, max_samples=50, n_estimators=65 .................\n",
      "[CV]  max_features=2, max_samples=50, n_estimators=65, score=0.5714285714285714, total=   0.2s\n",
      "[CV] max_features=2, max_samples=50, n_estimators=66 .................\n",
      "[CV]  max_features=2, max_samples=50, n_estimators=66, score=0.5695592286501377, total=   0.2s\n",
      "[CV] max_features=2, max_samples=50, n_estimators=66 .................\n",
      "[CV]  max_features=2, max_samples=50, n_estimators=66, score=0.5674931129476584, total=   0.2s\n",
      "[CV] max_features=2, max_samples=50, n_estimators=66 .................\n",
      "[CV]  max_features=2, max_samples=50, n_estimators=66, score=0.5710344827586207, total=   0.1s\n",
      "[CV] max_features=2, max_samples=50, n_estimators=66 .................\n",
      "[CV]  max_features=2, max_samples=50, n_estimators=66, score=0.5714285714285714, total=   0.1s\n",
      "[CV] max_features=2, max_samples=50, n_estimators=66 .................\n",
      "[CV]  max_features=2, max_samples=50, n_estimators=66, score=0.5700483091787439, total=   0.1s\n",
      "[CV] max_features=2, max_samples=50, n_estimators=67 .................\n",
      "[CV]  max_features=2, max_samples=50, n_estimators=67, score=0.5695592286501377, total=   0.2s\n",
      "[CV] max_features=2, max_samples=50, n_estimators=67 .................\n",
      "[CV]  max_features=2, max_samples=50, n_estimators=67, score=0.568870523415978, total=   0.1s\n",
      "[CV] max_features=2, max_samples=50, n_estimators=67 .................\n",
      "[CV]  max_features=2, max_samples=50, n_estimators=67, score=0.5703448275862069, total=   0.2s\n",
      "[CV] max_features=2, max_samples=50, n_estimators=67 .................\n",
      "[CV]  max_features=2, max_samples=50, n_estimators=67, score=0.5707384403036577, total=   0.2s\n",
      "[CV] max_features=2, max_samples=50, n_estimators=67 .................\n",
      "[CV]  max_features=2, max_samples=50, n_estimators=67, score=0.5700483091787439, total=   0.2s\n",
      "[CV] max_features=2, max_samples=50, n_estimators=68 .................\n",
      "[CV]  max_features=2, max_samples=50, n_estimators=68, score=0.5681818181818182, total=   0.2s\n",
      "[CV] max_features=2, max_samples=50, n_estimators=68 .................\n",
      "[CV]  max_features=2, max_samples=50, n_estimators=68, score=0.5695592286501377, total=   0.2s\n",
      "[CV] max_features=2, max_samples=50, n_estimators=68 .................\n",
      "[CV]  max_features=2, max_samples=50, n_estimators=68, score=0.5703448275862069, total=   0.2s\n",
      "[CV] max_features=2, max_samples=50, n_estimators=68 .................\n",
      "[CV]  max_features=2, max_samples=50, n_estimators=68, score=0.5707384403036577, total=   0.2s\n",
      "[CV] max_features=2, max_samples=50, n_estimators=68 .................\n",
      "[CV]  max_features=2, max_samples=50, n_estimators=68, score=0.5700483091787439, total=   0.2s\n",
      "[CV] max_features=2, max_samples=50, n_estimators=69 .................\n",
      "[CV]  max_features=2, max_samples=50, n_estimators=69, score=0.5681818181818182, total=   0.2s\n",
      "[CV] max_features=2, max_samples=50, n_estimators=69 .................\n",
      "[CV]  max_features=2, max_samples=50, n_estimators=69, score=0.568870523415978, total=   0.2s\n",
      "[CV] max_features=2, max_samples=50, n_estimators=69 .................\n",
      "[CV]  max_features=2, max_samples=50, n_estimators=69, score=0.5703448275862069, total=   0.2s\n",
      "[CV] max_features=2, max_samples=50, n_estimators=69 .................\n",
      "[CV]  max_features=2, max_samples=50, n_estimators=69, score=0.5707384403036577, total=   0.2s\n",
      "[CV] max_features=2, max_samples=50, n_estimators=69 .................\n",
      "[CV]  max_features=2, max_samples=50, n_estimators=69, score=0.5700483091787439, total=   0.2s\n",
      "[CV] max_features=2, max_samples=50, n_estimators=70 .................\n",
      "[CV]  max_features=2, max_samples=50, n_estimators=70, score=0.5709366391184573, total=   0.2s\n",
      "[CV] max_features=2, max_samples=50, n_estimators=70 .................\n"
     ]
    },
    {
     "name": "stdout",
     "output_type": "stream",
     "text": [
      "[CV]  max_features=2, max_samples=50, n_estimators=70, score=0.5702479338842975, total=   0.2s\n",
      "[CV] max_features=2, max_samples=50, n_estimators=70 .................\n",
      "[CV]  max_features=2, max_samples=50, n_estimators=70, score=0.5703448275862069, total=   0.2s\n",
      "[CV] max_features=2, max_samples=50, n_estimators=70 .................\n",
      "[CV]  max_features=2, max_samples=50, n_estimators=70, score=0.5714285714285714, total=   0.2s\n",
      "[CV] max_features=2, max_samples=50, n_estimators=70 .................\n",
      "[CV]  max_features=2, max_samples=50, n_estimators=70, score=0.5700483091787439, total=   0.2s\n",
      "[CV] max_features=2, max_samples=50, n_estimators=71 .................\n",
      "[CV]  max_features=2, max_samples=50, n_estimators=71, score=0.5709366391184573, total=   0.2s\n",
      "[CV] max_features=2, max_samples=50, n_estimators=71 .................\n",
      "[CV]  max_features=2, max_samples=50, n_estimators=71, score=0.5702479338842975, total=   0.2s\n",
      "[CV] max_features=2, max_samples=50, n_estimators=71 .................\n",
      "[CV]  max_features=2, max_samples=50, n_estimators=71, score=0.5703448275862069, total=   0.2s\n",
      "[CV] max_features=2, max_samples=50, n_estimators=71 .................\n",
      "[CV]  max_features=2, max_samples=50, n_estimators=71, score=0.5714285714285714, total=   0.1s\n",
      "[CV] max_features=2, max_samples=50, n_estimators=71 .................\n",
      "[CV]  max_features=2, max_samples=50, n_estimators=71, score=0.5700483091787439, total=   0.1s\n",
      "[CV] max_features=2, max_samples=50, n_estimators=72 .................\n",
      "[CV]  max_features=2, max_samples=50, n_estimators=72, score=0.5695592286501377, total=   0.1s\n",
      "[CV] max_features=2, max_samples=50, n_estimators=72 .................\n",
      "[CV]  max_features=2, max_samples=50, n_estimators=72, score=0.568870523415978, total=   0.1s\n",
      "[CV] max_features=2, max_samples=50, n_estimators=72 .................\n",
      "[CV]  max_features=2, max_samples=50, n_estimators=72, score=0.5703448275862069, total=   0.1s\n",
      "[CV] max_features=2, max_samples=50, n_estimators=72 .................\n",
      "[CV]  max_features=2, max_samples=50, n_estimators=72, score=0.5707384403036577, total=   0.2s\n",
      "[CV] max_features=2, max_samples=50, n_estimators=72 .................\n",
      "[CV]  max_features=2, max_samples=50, n_estimators=72, score=0.5700483091787439, total=   0.2s\n",
      "[CV] max_features=2, max_samples=50, n_estimators=73 .................\n",
      "[CV]  max_features=2, max_samples=50, n_estimators=73, score=0.5709366391184573, total=   0.2s\n",
      "[CV] max_features=2, max_samples=50, n_estimators=73 .................\n",
      "[CV]  max_features=2, max_samples=50, n_estimators=73, score=0.5681818181818182, total=   0.2s\n",
      "[CV] max_features=2, max_samples=50, n_estimators=73 .................\n",
      "[CV]  max_features=2, max_samples=50, n_estimators=73, score=0.5703448275862069, total=   0.2s\n",
      "[CV] max_features=2, max_samples=50, n_estimators=73 .................\n",
      "[CV]  max_features=2, max_samples=50, n_estimators=73, score=0.5714285714285714, total=   0.2s\n",
      "[CV] max_features=2, max_samples=50, n_estimators=73 .................\n",
      "[CV]  max_features=2, max_samples=50, n_estimators=73, score=0.5707384403036577, total=   0.2s\n",
      "[CV] max_features=2, max_samples=50, n_estimators=74 .................\n",
      "[CV]  max_features=2, max_samples=50, n_estimators=74, score=0.5709366391184573, total=   0.2s\n",
      "[CV] max_features=2, max_samples=50, n_estimators=74 .................\n",
      "[CV]  max_features=2, max_samples=50, n_estimators=74, score=0.568870523415978, total=   0.2s\n",
      "[CV] max_features=2, max_samples=50, n_estimators=74 .................\n",
      "[CV]  max_features=2, max_samples=50, n_estimators=74, score=0.5703448275862069, total=   0.2s\n",
      "[CV] max_features=2, max_samples=50, n_estimators=74 .................\n",
      "[CV]  max_features=2, max_samples=50, n_estimators=74, score=0.5714285714285714, total=   0.2s\n",
      "[CV] max_features=2, max_samples=50, n_estimators=74 .................\n",
      "[CV]  max_features=2, max_samples=50, n_estimators=74, score=0.5700483091787439, total=   0.2s\n",
      "[CV] max_features=2, max_samples=50, n_estimators=75 .................\n",
      "[CV]  max_features=2, max_samples=50, n_estimators=75, score=0.5709366391184573, total=   0.2s\n",
      "[CV] max_features=2, max_samples=50, n_estimators=75 .................\n",
      "[CV]  max_features=2, max_samples=50, n_estimators=75, score=0.568870523415978, total=   0.2s\n",
      "[CV] max_features=2, max_samples=50, n_estimators=75 .................\n",
      "[CV]  max_features=2, max_samples=50, n_estimators=75, score=0.5703448275862069, total=   0.1s\n",
      "[CV] max_features=2, max_samples=50, n_estimators=75 .................\n",
      "[CV]  max_features=2, max_samples=50, n_estimators=75, score=0.5714285714285714, total=   0.2s\n",
      "[CV] max_features=2, max_samples=50, n_estimators=75 .................\n",
      "[CV]  max_features=2, max_samples=50, n_estimators=75, score=0.5700483091787439, total=   0.1s\n",
      "[CV] max_features=2, max_samples=50, n_estimators=76 .................\n",
      "[CV]  max_features=2, max_samples=50, n_estimators=76, score=0.571625344352617, total=   0.2s\n",
      "[CV] max_features=2, max_samples=50, n_estimators=76 .................\n",
      "[CV]  max_features=2, max_samples=50, n_estimators=76, score=0.5702479338842975, total=   0.1s\n",
      "[CV] max_features=2, max_samples=50, n_estimators=76 .................\n",
      "[CV]  max_features=2, max_samples=50, n_estimators=76, score=0.5703448275862069, total=   0.2s\n",
      "[CV] max_features=2, max_samples=50, n_estimators=76 .................\n",
      "[CV]  max_features=2, max_samples=50, n_estimators=76, score=0.5714285714285714, total=   0.1s\n",
      "[CV] max_features=2, max_samples=50, n_estimators=76 .................\n",
      "[CV]  max_features=2, max_samples=50, n_estimators=76, score=0.5707384403036577, total=   0.2s\n",
      "[CV] max_features=2, max_samples=50, n_estimators=77 .................\n",
      "[CV]  max_features=2, max_samples=50, n_estimators=77, score=0.571625344352617, total=   0.1s\n",
      "[CV] max_features=2, max_samples=50, n_estimators=77 .................\n",
      "[CV]  max_features=2, max_samples=50, n_estimators=77, score=0.5702479338842975, total=   0.2s\n",
      "[CV] max_features=2, max_samples=50, n_estimators=77 .................\n",
      "[CV]  max_features=2, max_samples=50, n_estimators=77, score=0.5703448275862069, total=   0.1s\n",
      "[CV] max_features=2, max_samples=50, n_estimators=77 .................\n",
      "[CV]  max_features=2, max_samples=50, n_estimators=77, score=0.5714285714285714, total=   0.2s\n",
      "[CV] max_features=2, max_samples=50, n_estimators=77 .................\n",
      "[CV]  max_features=2, max_samples=50, n_estimators=77, score=0.5700483091787439, total=   0.1s\n",
      "[CV] max_features=2, max_samples=50, n_estimators=78 .................\n",
      "[CV]  max_features=2, max_samples=50, n_estimators=78, score=0.571625344352617, total=   0.2s\n",
      "[CV] max_features=2, max_samples=50, n_estimators=78 .................\n",
      "[CV]  max_features=2, max_samples=50, n_estimators=78, score=0.5709366391184573, total=   0.1s\n",
      "[CV] max_features=2, max_samples=50, n_estimators=78 .................\n",
      "[CV]  max_features=2, max_samples=50, n_estimators=78, score=0.5703448275862069, total=   0.2s\n",
      "[CV] max_features=2, max_samples=50, n_estimators=78 .................\n",
      "[CV]  max_features=2, max_samples=50, n_estimators=78, score=0.5714285714285714, total=   0.2s\n",
      "[CV] max_features=2, max_samples=50, n_estimators=78 .................\n",
      "[CV]  max_features=2, max_samples=50, n_estimators=78, score=0.5707384403036577, total=   0.2s\n",
      "[CV] max_features=2, max_samples=50, n_estimators=79 .................\n",
      "[CV]  max_features=2, max_samples=50, n_estimators=79, score=0.571625344352617, total=   0.2s\n",
      "[CV] max_features=2, max_samples=50, n_estimators=79 .................\n",
      "[CV]  max_features=2, max_samples=50, n_estimators=79, score=0.5709366391184573, total=   0.2s\n",
      "[CV] max_features=2, max_samples=50, n_estimators=79 .................\n",
      "[CV]  max_features=2, max_samples=50, n_estimators=79, score=0.5703448275862069, total=   0.2s\n",
      "[CV] max_features=2, max_samples=50, n_estimators=79 .................\n",
      "[CV]  max_features=2, max_samples=50, n_estimators=79, score=0.5714285714285714, total=   0.2s\n",
      "[CV] max_features=2, max_samples=50, n_estimators=79 .................\n",
      "[CV]  max_features=2, max_samples=50, n_estimators=79, score=0.5707384403036577, total=   0.3s\n",
      "[CV] max_features=2, max_samples=70, n_estimators=40 .................\n",
      "[CV]  max_features=2, max_samples=70, n_estimators=40, score=0.5661157024793388, total=   0.1s\n",
      "[CV] max_features=2, max_samples=70, n_estimators=40 .................\n"
     ]
    },
    {
     "name": "stdout",
     "output_type": "stream",
     "text": [
      "[CV]  max_features=2, max_samples=70, n_estimators=40, score=0.568870523415978, total=   0.1s\n",
      "[CV] max_features=2, max_samples=70, n_estimators=40 .................\n",
      "[CV]  max_features=2, max_samples=70, n_estimators=40, score=0.5662068965517242, total=   0.1s\n",
      "[CV] max_features=2, max_samples=70, n_estimators=40 .................\n",
      "[CV]  max_features=2, max_samples=70, n_estimators=40, score=0.5714285714285714, total=   0.1s\n",
      "[CV] max_features=2, max_samples=70, n_estimators=40 .................\n",
      "[CV]  max_features=2, max_samples=70, n_estimators=40, score=0.5700483091787439, total=   0.1s\n",
      "[CV] max_features=2, max_samples=70, n_estimators=41 .................\n",
      "[CV]  max_features=2, max_samples=70, n_estimators=41, score=0.5647382920110193, total=   0.1s\n",
      "[CV] max_features=2, max_samples=70, n_estimators=41 .................\n",
      "[CV]  max_features=2, max_samples=70, n_estimators=41, score=0.5702479338842975, total=   0.1s\n",
      "[CV] max_features=2, max_samples=70, n_estimators=41 .................\n",
      "[CV]  max_features=2, max_samples=70, n_estimators=41, score=0.5675862068965517, total=   0.1s\n",
      "[CV] max_features=2, max_samples=70, n_estimators=41 .................\n",
      "[CV]  max_features=2, max_samples=70, n_estimators=41, score=0.5714285714285714, total=   0.1s\n",
      "[CV] max_features=2, max_samples=70, n_estimators=41 .................\n",
      "[CV]  max_features=2, max_samples=70, n_estimators=41, score=0.5700483091787439, total=   0.1s\n",
      "[CV] max_features=2, max_samples=70, n_estimators=42 .................\n",
      "[CV]  max_features=2, max_samples=70, n_estimators=42, score=0.5654269972451791, total=   0.1s\n",
      "[CV] max_features=2, max_samples=70, n_estimators=42 .................\n",
      "[CV]  max_features=2, max_samples=70, n_estimators=42, score=0.5702479338842975, total=   0.1s\n",
      "[CV] max_features=2, max_samples=70, n_estimators=42 .................\n",
      "[CV]  max_features=2, max_samples=70, n_estimators=42, score=0.5662068965517242, total=   0.1s\n",
      "[CV] max_features=2, max_samples=70, n_estimators=42 .................\n",
      "[CV]  max_features=2, max_samples=70, n_estimators=42, score=0.5721187025534852, total=   0.1s\n",
      "[CV] max_features=2, max_samples=70, n_estimators=42 .................\n",
      "[CV]  max_features=2, max_samples=70, n_estimators=42, score=0.5693581780538303, total=   0.1s\n",
      "[CV] max_features=2, max_samples=70, n_estimators=43 .................\n",
      "[CV]  max_features=2, max_samples=70, n_estimators=43, score=0.5654269972451791, total=   0.1s\n",
      "[CV] max_features=2, max_samples=70, n_estimators=43 .................\n",
      "[CV]  max_features=2, max_samples=70, n_estimators=43, score=0.5702479338842975, total=   0.1s\n",
      "[CV] max_features=2, max_samples=70, n_estimators=43 .................\n",
      "[CV]  max_features=2, max_samples=70, n_estimators=43, score=0.5675862068965517, total=   0.1s\n",
      "[CV] max_features=2, max_samples=70, n_estimators=43 .................\n",
      "[CV]  max_features=2, max_samples=70, n_estimators=43, score=0.5721187025534852, total=   0.1s\n",
      "[CV] max_features=2, max_samples=70, n_estimators=43 .................\n",
      "[CV]  max_features=2, max_samples=70, n_estimators=43, score=0.5700483091787439, total=   0.1s\n",
      "[CV] max_features=2, max_samples=70, n_estimators=44 .................\n",
      "[CV]  max_features=2, max_samples=70, n_estimators=44, score=0.5668044077134986, total=   0.1s\n",
      "[CV] max_features=2, max_samples=70, n_estimators=44 .................\n",
      "[CV]  max_features=2, max_samples=70, n_estimators=44, score=0.5702479338842975, total=   0.1s\n",
      "[CV] max_features=2, max_samples=70, n_estimators=44 .................\n",
      "[CV]  max_features=2, max_samples=70, n_estimators=44, score=0.5689655172413793, total=   0.1s\n",
      "[CV] max_features=2, max_samples=70, n_estimators=44 .................\n",
      "[CV]  max_features=2, max_samples=70, n_estimators=44, score=0.5721187025534852, total=   0.1s\n",
      "[CV] max_features=2, max_samples=70, n_estimators=44 .................\n",
      "[CV]  max_features=2, max_samples=70, n_estimators=44, score=0.5700483091787439, total=   0.1s\n",
      "[CV] max_features=2, max_samples=70, n_estimators=45 .................\n",
      "[CV]  max_features=2, max_samples=70, n_estimators=45, score=0.5681818181818182, total=   0.1s\n",
      "[CV] max_features=2, max_samples=70, n_estimators=45 .................\n",
      "[CV]  max_features=2, max_samples=70, n_estimators=45, score=0.5702479338842975, total=   0.1s\n",
      "[CV] max_features=2, max_samples=70, n_estimators=45 .................\n",
      "[CV]  max_features=2, max_samples=70, n_estimators=45, score=0.5675862068965517, total=   0.1s\n",
      "[CV] max_features=2, max_samples=70, n_estimators=45 .................\n",
      "[CV]  max_features=2, max_samples=70, n_estimators=45, score=0.5700483091787439, total=   0.1s\n",
      "[CV] max_features=2, max_samples=70, n_estimators=45 .................\n",
      "[CV]  max_features=2, max_samples=70, n_estimators=45, score=0.5707384403036577, total=   0.1s\n",
      "[CV] max_features=2, max_samples=70, n_estimators=46 .................\n",
      "[CV]  max_features=2, max_samples=70, n_estimators=46, score=0.5702479338842975, total=   0.1s\n",
      "[CV] max_features=2, max_samples=70, n_estimators=46 .................\n",
      "[CV]  max_features=2, max_samples=70, n_estimators=46, score=0.5695592286501377, total=   0.1s\n",
      "[CV] max_features=2, max_samples=70, n_estimators=46 .................\n",
      "[CV]  max_features=2, max_samples=70, n_estimators=46, score=0.5675862068965517, total=   0.1s\n",
      "[CV] max_features=2, max_samples=70, n_estimators=46 .................\n",
      "[CV]  max_features=2, max_samples=70, n_estimators=46, score=0.5707384403036577, total=   0.1s\n",
      "[CV] max_features=2, max_samples=70, n_estimators=46 .................\n",
      "[CV]  max_features=2, max_samples=70, n_estimators=46, score=0.5714285714285714, total=   0.1s\n",
      "[CV] max_features=2, max_samples=70, n_estimators=47 .................\n",
      "[CV]  max_features=2, max_samples=70, n_estimators=47, score=0.5681818181818182, total=   0.1s\n",
      "[CV] max_features=2, max_samples=70, n_estimators=47 .................\n",
      "[CV]  max_features=2, max_samples=70, n_estimators=47, score=0.5723140495867769, total=   0.2s\n",
      "[CV] max_features=2, max_samples=70, n_estimators=47 .................\n",
      "[CV]  max_features=2, max_samples=70, n_estimators=47, score=0.5675862068965517, total=   0.1s\n",
      "[CV] max_features=2, max_samples=70, n_estimators=47 .................\n",
      "[CV]  max_features=2, max_samples=70, n_estimators=47, score=0.5721187025534852, total=   0.1s\n",
      "[CV] max_features=2, max_samples=70, n_estimators=47 .................\n",
      "[CV]  max_features=2, max_samples=70, n_estimators=47, score=0.5721187025534852, total=   0.1s\n",
      "[CV] max_features=2, max_samples=70, n_estimators=48 .................\n",
      "[CV]  max_features=2, max_samples=70, n_estimators=48, score=0.568870523415978, total=   0.1s\n",
      "[CV] max_features=2, max_samples=70, n_estimators=48 .................\n",
      "[CV]  max_features=2, max_samples=70, n_estimators=48, score=0.5723140495867769, total=   0.1s\n",
      "[CV] max_features=2, max_samples=70, n_estimators=48 .................\n",
      "[CV]  max_features=2, max_samples=70, n_estimators=48, score=0.5703448275862069, total=   0.2s\n",
      "[CV] max_features=2, max_samples=70, n_estimators=48 .................\n",
      "[CV]  max_features=2, max_samples=70, n_estimators=48, score=0.5714285714285714, total=   0.1s\n",
      "[CV] max_features=2, max_samples=70, n_estimators=48 .................\n",
      "[CV]  max_features=2, max_samples=70, n_estimators=48, score=0.5714285714285714, total=   0.1s\n",
      "[CV] max_features=2, max_samples=70, n_estimators=49 .................\n",
      "[CV]  max_features=2, max_samples=70, n_estimators=49, score=0.568870523415978, total=   0.2s\n",
      "[CV] max_features=2, max_samples=70, n_estimators=49 .................\n",
      "[CV]  max_features=2, max_samples=70, n_estimators=49, score=0.5709366391184573, total=   0.2s\n",
      "[CV] max_features=2, max_samples=70, n_estimators=49 .................\n",
      "[CV]  max_features=2, max_samples=70, n_estimators=49, score=0.5703448275862069, total=   0.2s\n",
      "[CV] max_features=2, max_samples=70, n_estimators=49 .................\n",
      "[CV]  max_features=2, max_samples=70, n_estimators=49, score=0.5707384403036577, total=   0.2s\n",
      "[CV] max_features=2, max_samples=70, n_estimators=49 .................\n",
      "[CV]  max_features=2, max_samples=70, n_estimators=49, score=0.5721187025534852, total=   0.1s\n",
      "[CV] max_features=2, max_samples=70, n_estimators=50 .................\n",
      "[CV]  max_features=2, max_samples=70, n_estimators=50, score=0.5681818181818182, total=   0.2s\n",
      "[CV] max_features=2, max_samples=70, n_estimators=50 .................\n",
      "[CV]  max_features=2, max_samples=70, n_estimators=50, score=0.5709366391184573, total=   0.2s\n",
      "[CV] max_features=2, max_samples=70, n_estimators=50 .................\n"
     ]
    },
    {
     "name": "stdout",
     "output_type": "stream",
     "text": [
      "[CV]  max_features=2, max_samples=70, n_estimators=50, score=0.5710344827586207, total=   0.1s\n",
      "[CV] max_features=2, max_samples=70, n_estimators=50 .................\n",
      "[CV]  max_features=2, max_samples=70, n_estimators=50, score=0.5707384403036577, total=   0.2s\n",
      "[CV] max_features=2, max_samples=70, n_estimators=50 .................\n",
      "[CV]  max_features=2, max_samples=70, n_estimators=50, score=0.5707384403036577, total=   0.2s\n",
      "[CV] max_features=2, max_samples=70, n_estimators=51 .................\n",
      "[CV]  max_features=2, max_samples=70, n_estimators=51, score=0.5681818181818182, total=   0.1s\n",
      "[CV] max_features=2, max_samples=70, n_estimators=51 .................\n",
      "[CV]  max_features=2, max_samples=70, n_estimators=51, score=0.5702479338842975, total=   0.2s\n",
      "[CV] max_features=2, max_samples=70, n_estimators=51 .................\n",
      "[CV]  max_features=2, max_samples=70, n_estimators=51, score=0.5703448275862069, total=   0.2s\n",
      "[CV] max_features=2, max_samples=70, n_estimators=51 .................\n",
      "[CV]  max_features=2, max_samples=70, n_estimators=51, score=0.5714285714285714, total=   0.1s\n",
      "[CV] max_features=2, max_samples=70, n_estimators=51 .................\n",
      "[CV]  max_features=2, max_samples=70, n_estimators=51, score=0.5700483091787439, total=   0.2s\n",
      "[CV] max_features=2, max_samples=70, n_estimators=52 .................\n",
      "[CV]  max_features=2, max_samples=70, n_estimators=52, score=0.5674931129476584, total=   0.1s\n",
      "[CV] max_features=2, max_samples=70, n_estimators=52 .................\n",
      "[CV]  max_features=2, max_samples=70, n_estimators=52, score=0.5709366391184573, total=   0.1s\n",
      "[CV] max_features=2, max_samples=70, n_estimators=52 .................\n",
      "[CV]  max_features=2, max_samples=70, n_estimators=52, score=0.5696551724137932, total=   0.2s\n",
      "[CV] max_features=2, max_samples=70, n_estimators=52 .................\n",
      "[CV]  max_features=2, max_samples=70, n_estimators=52, score=0.5714285714285714, total=   0.2s\n",
      "[CV] max_features=2, max_samples=70, n_estimators=52 .................\n",
      "[CV]  max_features=2, max_samples=70, n_estimators=52, score=0.5693581780538303, total=   0.1s\n",
      "[CV] max_features=2, max_samples=70, n_estimators=53 .................\n",
      "[CV]  max_features=2, max_samples=70, n_estimators=53, score=0.5695592286501377, total=   0.1s\n",
      "[CV] max_features=2, max_samples=70, n_estimators=53 .................\n",
      "[CV]  max_features=2, max_samples=70, n_estimators=53, score=0.5695592286501377, total=   0.1s\n",
      "[CV] max_features=2, max_samples=70, n_estimators=53 .................\n",
      "[CV]  max_features=2, max_samples=70, n_estimators=53, score=0.5696551724137932, total=   0.1s\n",
      "[CV] max_features=2, max_samples=70, n_estimators=53 .................\n",
      "[CV]  max_features=2, max_samples=70, n_estimators=53, score=0.5714285714285714, total=   0.1s\n",
      "[CV] max_features=2, max_samples=70, n_estimators=53 .................\n",
      "[CV]  max_features=2, max_samples=70, n_estimators=53, score=0.5700483091787439, total=   0.1s\n",
      "[CV] max_features=2, max_samples=70, n_estimators=54 .................\n",
      "[CV]  max_features=2, max_samples=70, n_estimators=54, score=0.568870523415978, total=   0.1s\n",
      "[CV] max_features=2, max_samples=70, n_estimators=54 .................\n",
      "[CV]  max_features=2, max_samples=70, n_estimators=54, score=0.5702479338842975, total=   0.1s\n",
      "[CV] max_features=2, max_samples=70, n_estimators=54 .................\n",
      "[CV]  max_features=2, max_samples=70, n_estimators=54, score=0.5703448275862069, total=   0.1s\n",
      "[CV] max_features=2, max_samples=70, n_estimators=54 .................\n",
      "[CV]  max_features=2, max_samples=70, n_estimators=54, score=0.5714285714285714, total=   0.1s\n",
      "[CV] max_features=2, max_samples=70, n_estimators=54 .................\n",
      "[CV]  max_features=2, max_samples=70, n_estimators=54, score=0.5707384403036577, total=   0.1s\n",
      "[CV] max_features=2, max_samples=70, n_estimators=55 .................\n",
      "[CV]  max_features=2, max_samples=70, n_estimators=55, score=0.5681818181818182, total=   0.1s\n",
      "[CV] max_features=2, max_samples=70, n_estimators=55 .................\n",
      "[CV]  max_features=2, max_samples=70, n_estimators=55, score=0.5702479338842975, total=   0.1s\n",
      "[CV] max_features=2, max_samples=70, n_estimators=55 .................\n",
      "[CV]  max_features=2, max_samples=70, n_estimators=55, score=0.5710344827586207, total=   0.1s\n",
      "[CV] max_features=2, max_samples=70, n_estimators=55 .................\n",
      "[CV]  max_features=2, max_samples=70, n_estimators=55, score=0.5721187025534852, total=   0.1s\n",
      "[CV] max_features=2, max_samples=70, n_estimators=55 .................\n",
      "[CV]  max_features=2, max_samples=70, n_estimators=55, score=0.5707384403036577, total=   0.2s\n",
      "[CV] max_features=2, max_samples=70, n_estimators=56 .................\n",
      "[CV]  max_features=2, max_samples=70, n_estimators=56, score=0.568870523415978, total=   0.2s\n",
      "[CV] max_features=2, max_samples=70, n_estimators=56 .................\n",
      "[CV]  max_features=2, max_samples=70, n_estimators=56, score=0.5702479338842975, total=   0.2s\n",
      "[CV] max_features=2, max_samples=70, n_estimators=56 .................\n",
      "[CV]  max_features=2, max_samples=70, n_estimators=56, score=0.5710344827586207, total=   0.2s\n",
      "[CV] max_features=2, max_samples=70, n_estimators=56 .................\n",
      "[CV]  max_features=2, max_samples=70, n_estimators=56, score=0.5721187025534852, total=   0.2s\n",
      "[CV] max_features=2, max_samples=70, n_estimators=56 .................\n",
      "[CV]  max_features=2, max_samples=70, n_estimators=56, score=0.5707384403036577, total=   0.2s\n",
      "[CV] max_features=2, max_samples=70, n_estimators=57 .................\n",
      "[CV]  max_features=2, max_samples=70, n_estimators=57, score=0.568870523415978, total=   0.1s\n",
      "[CV] max_features=2, max_samples=70, n_estimators=57 .................\n",
      "[CV]  max_features=2, max_samples=70, n_estimators=57, score=0.5702479338842975, total=   0.2s\n",
      "[CV] max_features=2, max_samples=70, n_estimators=57 .................\n",
      "[CV]  max_features=2, max_samples=70, n_estimators=57, score=0.5710344827586207, total=   0.2s\n",
      "[CV] max_features=2, max_samples=70, n_estimators=57 .................\n",
      "[CV]  max_features=2, max_samples=70, n_estimators=57, score=0.5721187025534852, total=   0.1s\n",
      "[CV] max_features=2, max_samples=70, n_estimators=57 .................\n",
      "[CV]  max_features=2, max_samples=70, n_estimators=57, score=0.5707384403036577, total=   0.2s\n",
      "[CV] max_features=2, max_samples=70, n_estimators=58 .................\n",
      "[CV]  max_features=2, max_samples=70, n_estimators=58, score=0.5695592286501377, total=   0.1s\n",
      "[CV] max_features=2, max_samples=70, n_estimators=58 .................\n",
      "[CV]  max_features=2, max_samples=70, n_estimators=58, score=0.5702479338842975, total=   0.1s\n",
      "[CV] max_features=2, max_samples=70, n_estimators=58 .................\n",
      "[CV]  max_features=2, max_samples=70, n_estimators=58, score=0.5703448275862069, total=   0.1s\n",
      "[CV] max_features=2, max_samples=70, n_estimators=58 .................\n",
      "[CV]  max_features=2, max_samples=70, n_estimators=58, score=0.5721187025534852, total=   0.1s\n",
      "[CV] max_features=2, max_samples=70, n_estimators=58 .................\n",
      "[CV]  max_features=2, max_samples=70, n_estimators=58, score=0.5707384403036577, total=   0.1s\n",
      "[CV] max_features=2, max_samples=70, n_estimators=59 .................\n",
      "[CV]  max_features=2, max_samples=70, n_estimators=59, score=0.5695592286501377, total=   0.1s\n",
      "[CV] max_features=2, max_samples=70, n_estimators=59 .................\n",
      "[CV]  max_features=2, max_samples=70, n_estimators=59, score=0.5702479338842975, total=   0.1s\n",
      "[CV] max_features=2, max_samples=70, n_estimators=59 .................\n",
      "[CV]  max_features=2, max_samples=70, n_estimators=59, score=0.5703448275862069, total=   0.1s\n",
      "[CV] max_features=2, max_samples=70, n_estimators=59 .................\n",
      "[CV]  max_features=2, max_samples=70, n_estimators=59, score=0.5721187025534852, total=   0.1s\n",
      "[CV] max_features=2, max_samples=70, n_estimators=59 .................\n",
      "[CV]  max_features=2, max_samples=70, n_estimators=59, score=0.5714285714285714, total=   0.1s\n",
      "[CV] max_features=2, max_samples=70, n_estimators=60 .................\n",
      "[CV]  max_features=2, max_samples=70, n_estimators=60, score=0.5695592286501377, total=   0.1s\n",
      "[CV] max_features=2, max_samples=70, n_estimators=60 .................\n",
      "[CV]  max_features=2, max_samples=70, n_estimators=60, score=0.5709366391184573, total=   0.1s\n",
      "[CV] max_features=2, max_samples=70, n_estimators=60 .................\n",
      "[CV]  max_features=2, max_samples=70, n_estimators=60, score=0.5696551724137932, total=   0.1s\n",
      "[CV] max_features=2, max_samples=70, n_estimators=60 .................\n"
     ]
    },
    {
     "name": "stdout",
     "output_type": "stream",
     "text": [
      "[CV]  max_features=2, max_samples=70, n_estimators=60, score=0.5721187025534852, total=   0.1s\n",
      "[CV] max_features=2, max_samples=70, n_estimators=60 .................\n",
      "[CV]  max_features=2, max_samples=70, n_estimators=60, score=0.5707384403036577, total=   0.1s\n",
      "[CV] max_features=2, max_samples=70, n_estimators=61 .................\n",
      "[CV]  max_features=2, max_samples=70, n_estimators=61, score=0.5695592286501377, total=   0.1s\n",
      "[CV] max_features=2, max_samples=70, n_estimators=61 .................\n",
      "[CV]  max_features=2, max_samples=70, n_estimators=61, score=0.5709366391184573, total=   0.1s\n",
      "[CV] max_features=2, max_samples=70, n_estimators=61 .................\n",
      "[CV]  max_features=2, max_samples=70, n_estimators=61, score=0.5689655172413793, total=   0.1s\n",
      "[CV] max_features=2, max_samples=70, n_estimators=61 .................\n",
      "[CV]  max_features=2, max_samples=70, n_estimators=61, score=0.5714285714285714, total=   0.1s\n",
      "[CV] max_features=2, max_samples=70, n_estimators=61 .................\n",
      "[CV]  max_features=2, max_samples=70, n_estimators=61, score=0.5707384403036577, total=   0.2s\n",
      "[CV] max_features=2, max_samples=70, n_estimators=62 .................\n",
      "[CV]  max_features=2, max_samples=70, n_estimators=62, score=0.5681818181818182, total=   0.1s\n",
      "[CV] max_features=2, max_samples=70, n_estimators=62 .................\n",
      "[CV]  max_features=2, max_samples=70, n_estimators=62, score=0.5702479338842975, total=   0.2s\n",
      "[CV] max_features=2, max_samples=70, n_estimators=62 .................\n",
      "[CV]  max_features=2, max_samples=70, n_estimators=62, score=0.5689655172413793, total=   0.1s\n",
      "[CV] max_features=2, max_samples=70, n_estimators=62 .................\n",
      "[CV]  max_features=2, max_samples=70, n_estimators=62, score=0.5721187025534852, total=   0.1s\n",
      "[CV] max_features=2, max_samples=70, n_estimators=62 .................\n",
      "[CV]  max_features=2, max_samples=70, n_estimators=62, score=0.5714285714285714, total=   0.1s\n",
      "[CV] max_features=2, max_samples=70, n_estimators=63 .................\n"
     ]
    },
    {
     "ename": "KeyboardInterrupt",
     "evalue": "",
     "output_type": "error",
     "traceback": [
      "\u001b[0;31m--------------------------------------------------------------------------\u001b[0m",
      "\u001b[0;31mKeyboardInterrupt\u001b[0m                        Traceback (most recent call last)",
      "\u001b[0;32m<ipython-input-62-7a9a4b9abf74>\u001b[0m in \u001b[0;36m<module>\u001b[0;34m()\u001b[0m\n\u001b[1;32m      2\u001b[0m \u001b[0mbc_clf\u001b[0m \u001b[0;34m=\u001b[0m \u001b[0mBaggingClassifier\u001b[0m\u001b[0;34m(\u001b[0m\u001b[0mrandom_state\u001b[0m\u001b[0;34m=\u001b[0m\u001b[0;36m42\u001b[0m\u001b[0;34m)\u001b[0m\u001b[0;34m\u001b[0m\u001b[0m\n\u001b[1;32m      3\u001b[0m \u001b[0mbc_cv\u001b[0m \u001b[0;34m=\u001b[0m \u001b[0mGridSearchCV\u001b[0m\u001b[0;34m(\u001b[0m\u001b[0mbc_clf\u001b[0m\u001b[0;34m,\u001b[0m\u001b[0mparam_grid\u001b[0m\u001b[0;34m,\u001b[0m\u001b[0mcv\u001b[0m\u001b[0;34m=\u001b[0m\u001b[0;36m5\u001b[0m\u001b[0;34m,\u001b[0m\u001b[0mverbose\u001b[0m\u001b[0;34m=\u001b[0m\u001b[0;36m3\u001b[0m\u001b[0;34m)\u001b[0m\u001b[0;34m\u001b[0m\u001b[0m\n\u001b[0;32m----> 4\u001b[0;31m \u001b[0mbc_cv\u001b[0m\u001b[0;34m.\u001b[0m\u001b[0mfit\u001b[0m\u001b[0;34m(\u001b[0m\u001b[0mX\u001b[0m\u001b[0;34m,\u001b[0m\u001b[0my\u001b[0m\u001b[0;34m)\u001b[0m\u001b[0;34m\u001b[0m\u001b[0m\n\u001b[0m",
      "\u001b[0;32m/home/d2/anaconda3/lib/python3.6/site-packages/sklearn/model_selection/_search.py\u001b[0m in \u001b[0;36mfit\u001b[0;34m(self, X, y, groups, **fit_params)\u001b[0m\n\u001b[1;32m    636\u001b[0m                                   error_score=self.error_score)\n\u001b[1;32m    637\u001b[0m           for parameters, (train, test) in product(candidate_params,\n\u001b[0;32m--> 638\u001b[0;31m                                                    cv.split(X, y, groups)))\n\u001b[0m\u001b[1;32m    639\u001b[0m \u001b[0;34m\u001b[0m\u001b[0m\n\u001b[1;32m    640\u001b[0m         \u001b[0;31m# if one choose to see train score, \"out\" will contain train score info\u001b[0m\u001b[0;34m\u001b[0m\u001b[0;34m\u001b[0m\u001b[0m\n",
      "\u001b[0;32m/home/d2/anaconda3/lib/python3.6/site-packages/sklearn/externals/joblib/parallel.py\u001b[0m in \u001b[0;36m__call__\u001b[0;34m(self, iterable)\u001b[0m\n\u001b[1;32m    777\u001b[0m             \u001b[0;31m# was dispatched. In particular this covers the edge\u001b[0m\u001b[0;34m\u001b[0m\u001b[0;34m\u001b[0m\u001b[0m\n\u001b[1;32m    778\u001b[0m             \u001b[0;31m# case of Parallel used with an exhausted iterator.\u001b[0m\u001b[0;34m\u001b[0m\u001b[0;34m\u001b[0m\u001b[0m\n\u001b[0;32m--> 779\u001b[0;31m             \u001b[0;32mwhile\u001b[0m \u001b[0mself\u001b[0m\u001b[0;34m.\u001b[0m\u001b[0mdispatch_one_batch\u001b[0m\u001b[0;34m(\u001b[0m\u001b[0miterator\u001b[0m\u001b[0;34m)\u001b[0m\u001b[0;34m:\u001b[0m\u001b[0;34m\u001b[0m\u001b[0m\n\u001b[0m\u001b[1;32m    780\u001b[0m                 \u001b[0mself\u001b[0m\u001b[0;34m.\u001b[0m\u001b[0m_iterating\u001b[0m \u001b[0;34m=\u001b[0m \u001b[0;32mTrue\u001b[0m\u001b[0;34m\u001b[0m\u001b[0m\n\u001b[1;32m    781\u001b[0m             \u001b[0;32melse\u001b[0m\u001b[0;34m:\u001b[0m\u001b[0;34m\u001b[0m\u001b[0m\n",
      "\u001b[0;32m/home/d2/anaconda3/lib/python3.6/site-packages/sklearn/externals/joblib/parallel.py\u001b[0m in \u001b[0;36mdispatch_one_batch\u001b[0;34m(self, iterator)\u001b[0m\n\u001b[1;32m    623\u001b[0m                 \u001b[0;32mreturn\u001b[0m \u001b[0;32mFalse\u001b[0m\u001b[0;34m\u001b[0m\u001b[0m\n\u001b[1;32m    624\u001b[0m             \u001b[0;32melse\u001b[0m\u001b[0;34m:\u001b[0m\u001b[0;34m\u001b[0m\u001b[0m\n\u001b[0;32m--> 625\u001b[0;31m                 \u001b[0mself\u001b[0m\u001b[0;34m.\u001b[0m\u001b[0m_dispatch\u001b[0m\u001b[0;34m(\u001b[0m\u001b[0mtasks\u001b[0m\u001b[0;34m)\u001b[0m\u001b[0;34m\u001b[0m\u001b[0m\n\u001b[0m\u001b[1;32m    626\u001b[0m                 \u001b[0;32mreturn\u001b[0m \u001b[0;32mTrue\u001b[0m\u001b[0;34m\u001b[0m\u001b[0m\n\u001b[1;32m    627\u001b[0m \u001b[0;34m\u001b[0m\u001b[0m\n",
      "\u001b[0;32m/home/d2/anaconda3/lib/python3.6/site-packages/sklearn/externals/joblib/parallel.py\u001b[0m in \u001b[0;36m_dispatch\u001b[0;34m(self, batch)\u001b[0m\n\u001b[1;32m    586\u001b[0m         \u001b[0mdispatch_timestamp\u001b[0m \u001b[0;34m=\u001b[0m \u001b[0mtime\u001b[0m\u001b[0;34m.\u001b[0m\u001b[0mtime\u001b[0m\u001b[0;34m(\u001b[0m\u001b[0;34m)\u001b[0m\u001b[0;34m\u001b[0m\u001b[0m\n\u001b[1;32m    587\u001b[0m         \u001b[0mcb\u001b[0m \u001b[0;34m=\u001b[0m \u001b[0mBatchCompletionCallBack\u001b[0m\u001b[0;34m(\u001b[0m\u001b[0mdispatch_timestamp\u001b[0m\u001b[0;34m,\u001b[0m \u001b[0mlen\u001b[0m\u001b[0;34m(\u001b[0m\u001b[0mbatch\u001b[0m\u001b[0;34m)\u001b[0m\u001b[0;34m,\u001b[0m \u001b[0mself\u001b[0m\u001b[0;34m)\u001b[0m\u001b[0;34m\u001b[0m\u001b[0m\n\u001b[0;32m--> 588\u001b[0;31m         \u001b[0mjob\u001b[0m \u001b[0;34m=\u001b[0m \u001b[0mself\u001b[0m\u001b[0;34m.\u001b[0m\u001b[0m_backend\u001b[0m\u001b[0;34m.\u001b[0m\u001b[0mapply_async\u001b[0m\u001b[0;34m(\u001b[0m\u001b[0mbatch\u001b[0m\u001b[0;34m,\u001b[0m \u001b[0mcallback\u001b[0m\u001b[0;34m=\u001b[0m\u001b[0mcb\u001b[0m\u001b[0;34m)\u001b[0m\u001b[0;34m\u001b[0m\u001b[0m\n\u001b[0m\u001b[1;32m    589\u001b[0m         \u001b[0mself\u001b[0m\u001b[0;34m.\u001b[0m\u001b[0m_jobs\u001b[0m\u001b[0;34m.\u001b[0m\u001b[0mappend\u001b[0m\u001b[0;34m(\u001b[0m\u001b[0mjob\u001b[0m\u001b[0;34m)\u001b[0m\u001b[0;34m\u001b[0m\u001b[0m\n\u001b[1;32m    590\u001b[0m \u001b[0;34m\u001b[0m\u001b[0m\n",
      "\u001b[0;32m/home/d2/anaconda3/lib/python3.6/site-packages/sklearn/externals/joblib/_parallel_backends.py\u001b[0m in \u001b[0;36mapply_async\u001b[0;34m(self, func, callback)\u001b[0m\n\u001b[1;32m    109\u001b[0m     \u001b[0;32mdef\u001b[0m \u001b[0mapply_async\u001b[0m\u001b[0;34m(\u001b[0m\u001b[0mself\u001b[0m\u001b[0;34m,\u001b[0m \u001b[0mfunc\u001b[0m\u001b[0;34m,\u001b[0m \u001b[0mcallback\u001b[0m\u001b[0;34m=\u001b[0m\u001b[0;32mNone\u001b[0m\u001b[0;34m)\u001b[0m\u001b[0;34m:\u001b[0m\u001b[0;34m\u001b[0m\u001b[0m\n\u001b[1;32m    110\u001b[0m         \u001b[0;34m\"\"\"Schedule a func to be run\"\"\"\u001b[0m\u001b[0;34m\u001b[0m\u001b[0m\n\u001b[0;32m--> 111\u001b[0;31m         \u001b[0mresult\u001b[0m \u001b[0;34m=\u001b[0m \u001b[0mImmediateResult\u001b[0m\u001b[0;34m(\u001b[0m\u001b[0mfunc\u001b[0m\u001b[0;34m)\u001b[0m\u001b[0;34m\u001b[0m\u001b[0m\n\u001b[0m\u001b[1;32m    112\u001b[0m         \u001b[0;32mif\u001b[0m \u001b[0mcallback\u001b[0m\u001b[0;34m:\u001b[0m\u001b[0;34m\u001b[0m\u001b[0m\n\u001b[1;32m    113\u001b[0m             \u001b[0mcallback\u001b[0m\u001b[0;34m(\u001b[0m\u001b[0mresult\u001b[0m\u001b[0;34m)\u001b[0m\u001b[0;34m\u001b[0m\u001b[0m\n",
      "\u001b[0;32m/home/d2/anaconda3/lib/python3.6/site-packages/sklearn/externals/joblib/_parallel_backends.py\u001b[0m in \u001b[0;36m__init__\u001b[0;34m(self, batch)\u001b[0m\n\u001b[1;32m    330\u001b[0m         \u001b[0;31m# Don't delay the application, to avoid keeping the input\u001b[0m\u001b[0;34m\u001b[0m\u001b[0;34m\u001b[0m\u001b[0m\n\u001b[1;32m    331\u001b[0m         \u001b[0;31m# arguments in memory\u001b[0m\u001b[0;34m\u001b[0m\u001b[0;34m\u001b[0m\u001b[0m\n\u001b[0;32m--> 332\u001b[0;31m         \u001b[0mself\u001b[0m\u001b[0;34m.\u001b[0m\u001b[0mresults\u001b[0m \u001b[0;34m=\u001b[0m \u001b[0mbatch\u001b[0m\u001b[0;34m(\u001b[0m\u001b[0;34m)\u001b[0m\u001b[0;34m\u001b[0m\u001b[0m\n\u001b[0m\u001b[1;32m    333\u001b[0m \u001b[0;34m\u001b[0m\u001b[0m\n\u001b[1;32m    334\u001b[0m     \u001b[0;32mdef\u001b[0m \u001b[0mget\u001b[0m\u001b[0;34m(\u001b[0m\u001b[0mself\u001b[0m\u001b[0;34m)\u001b[0m\u001b[0;34m:\u001b[0m\u001b[0;34m\u001b[0m\u001b[0m\n",
      "\u001b[0;32m/home/d2/anaconda3/lib/python3.6/site-packages/sklearn/externals/joblib/parallel.py\u001b[0m in \u001b[0;36m__call__\u001b[0;34m(self)\u001b[0m\n\u001b[1;32m    129\u001b[0m \u001b[0;34m\u001b[0m\u001b[0m\n\u001b[1;32m    130\u001b[0m     \u001b[0;32mdef\u001b[0m \u001b[0m__call__\u001b[0m\u001b[0;34m(\u001b[0m\u001b[0mself\u001b[0m\u001b[0;34m)\u001b[0m\u001b[0;34m:\u001b[0m\u001b[0;34m\u001b[0m\u001b[0m\n\u001b[0;32m--> 131\u001b[0;31m         \u001b[0;32mreturn\u001b[0m \u001b[0;34m[\u001b[0m\u001b[0mfunc\u001b[0m\u001b[0;34m(\u001b[0m\u001b[0;34m*\u001b[0m\u001b[0margs\u001b[0m\u001b[0;34m,\u001b[0m \u001b[0;34m**\u001b[0m\u001b[0mkwargs\u001b[0m\u001b[0;34m)\u001b[0m \u001b[0;32mfor\u001b[0m \u001b[0mfunc\u001b[0m\u001b[0;34m,\u001b[0m \u001b[0margs\u001b[0m\u001b[0;34m,\u001b[0m \u001b[0mkwargs\u001b[0m \u001b[0;32min\u001b[0m \u001b[0mself\u001b[0m\u001b[0;34m.\u001b[0m\u001b[0mitems\u001b[0m\u001b[0;34m]\u001b[0m\u001b[0;34m\u001b[0m\u001b[0m\n\u001b[0m\u001b[1;32m    132\u001b[0m \u001b[0;34m\u001b[0m\u001b[0m\n\u001b[1;32m    133\u001b[0m     \u001b[0;32mdef\u001b[0m \u001b[0m__len__\u001b[0m\u001b[0;34m(\u001b[0m\u001b[0mself\u001b[0m\u001b[0;34m)\u001b[0m\u001b[0;34m:\u001b[0m\u001b[0;34m\u001b[0m\u001b[0m\n",
      "\u001b[0;32m/home/d2/anaconda3/lib/python3.6/site-packages/sklearn/externals/joblib/parallel.py\u001b[0m in \u001b[0;36m<listcomp>\u001b[0;34m(.0)\u001b[0m\n\u001b[1;32m    129\u001b[0m \u001b[0;34m\u001b[0m\u001b[0m\n\u001b[1;32m    130\u001b[0m     \u001b[0;32mdef\u001b[0m \u001b[0m__call__\u001b[0m\u001b[0;34m(\u001b[0m\u001b[0mself\u001b[0m\u001b[0;34m)\u001b[0m\u001b[0;34m:\u001b[0m\u001b[0;34m\u001b[0m\u001b[0m\n\u001b[0;32m--> 131\u001b[0;31m         \u001b[0;32mreturn\u001b[0m \u001b[0;34m[\u001b[0m\u001b[0mfunc\u001b[0m\u001b[0;34m(\u001b[0m\u001b[0;34m*\u001b[0m\u001b[0margs\u001b[0m\u001b[0;34m,\u001b[0m \u001b[0;34m**\u001b[0m\u001b[0mkwargs\u001b[0m\u001b[0;34m)\u001b[0m \u001b[0;32mfor\u001b[0m \u001b[0mfunc\u001b[0m\u001b[0;34m,\u001b[0m \u001b[0margs\u001b[0m\u001b[0;34m,\u001b[0m \u001b[0mkwargs\u001b[0m \u001b[0;32min\u001b[0m \u001b[0mself\u001b[0m\u001b[0;34m.\u001b[0m\u001b[0mitems\u001b[0m\u001b[0;34m]\u001b[0m\u001b[0;34m\u001b[0m\u001b[0m\n\u001b[0m\u001b[1;32m    132\u001b[0m \u001b[0;34m\u001b[0m\u001b[0m\n\u001b[1;32m    133\u001b[0m     \u001b[0;32mdef\u001b[0m \u001b[0m__len__\u001b[0m\u001b[0;34m(\u001b[0m\u001b[0mself\u001b[0m\u001b[0;34m)\u001b[0m\u001b[0;34m:\u001b[0m\u001b[0;34m\u001b[0m\u001b[0m\n",
      "\u001b[0;32m/home/d2/anaconda3/lib/python3.6/site-packages/sklearn/model_selection/_validation.py\u001b[0m in \u001b[0;36m_fit_and_score\u001b[0;34m(estimator, X, y, scorer, train, test, verbose, parameters, fit_params, return_train_score, return_parameters, return_n_test_samples, return_times, error_score)\u001b[0m\n\u001b[1;32m    435\u001b[0m             \u001b[0mestimator\u001b[0m\u001b[0;34m.\u001b[0m\u001b[0mfit\u001b[0m\u001b[0;34m(\u001b[0m\u001b[0mX_train\u001b[0m\u001b[0;34m,\u001b[0m \u001b[0;34m**\u001b[0m\u001b[0mfit_params\u001b[0m\u001b[0;34m)\u001b[0m\u001b[0;34m\u001b[0m\u001b[0m\n\u001b[1;32m    436\u001b[0m         \u001b[0;32melse\u001b[0m\u001b[0;34m:\u001b[0m\u001b[0;34m\u001b[0m\u001b[0m\n\u001b[0;32m--> 437\u001b[0;31m             \u001b[0mestimator\u001b[0m\u001b[0;34m.\u001b[0m\u001b[0mfit\u001b[0m\u001b[0;34m(\u001b[0m\u001b[0mX_train\u001b[0m\u001b[0;34m,\u001b[0m \u001b[0my_train\u001b[0m\u001b[0;34m,\u001b[0m \u001b[0;34m**\u001b[0m\u001b[0mfit_params\u001b[0m\u001b[0;34m)\u001b[0m\u001b[0;34m\u001b[0m\u001b[0m\n\u001b[0m\u001b[1;32m    438\u001b[0m \u001b[0;34m\u001b[0m\u001b[0m\n\u001b[1;32m    439\u001b[0m     \u001b[0;32mexcept\u001b[0m \u001b[0mException\u001b[0m \u001b[0;32mas\u001b[0m \u001b[0me\u001b[0m\u001b[0;34m:\u001b[0m\u001b[0;34m\u001b[0m\u001b[0m\n",
      "\u001b[0;32m/home/d2/anaconda3/lib/python3.6/site-packages/sklearn/ensemble/bagging.py\u001b[0m in \u001b[0;36mfit\u001b[0;34m(self, X, y, sample_weight)\u001b[0m\n\u001b[1;32m    245\u001b[0m             \u001b[0mReturns\u001b[0m \u001b[0mself\u001b[0m\u001b[0;34m.\u001b[0m\u001b[0;34m\u001b[0m\u001b[0m\n\u001b[1;32m    246\u001b[0m         \"\"\"\n\u001b[0;32m--> 247\u001b[0;31m         \u001b[0;32mreturn\u001b[0m \u001b[0mself\u001b[0m\u001b[0;34m.\u001b[0m\u001b[0m_fit\u001b[0m\u001b[0;34m(\u001b[0m\u001b[0mX\u001b[0m\u001b[0;34m,\u001b[0m \u001b[0my\u001b[0m\u001b[0;34m,\u001b[0m \u001b[0mself\u001b[0m\u001b[0;34m.\u001b[0m\u001b[0mmax_samples\u001b[0m\u001b[0;34m,\u001b[0m \u001b[0msample_weight\u001b[0m\u001b[0;34m=\u001b[0m\u001b[0msample_weight\u001b[0m\u001b[0;34m)\u001b[0m\u001b[0;34m\u001b[0m\u001b[0m\n\u001b[0m\u001b[1;32m    248\u001b[0m \u001b[0;34m\u001b[0m\u001b[0m\n\u001b[1;32m    249\u001b[0m     \u001b[0;32mdef\u001b[0m \u001b[0m_fit\u001b[0m\u001b[0;34m(\u001b[0m\u001b[0mself\u001b[0m\u001b[0;34m,\u001b[0m \u001b[0mX\u001b[0m\u001b[0;34m,\u001b[0m \u001b[0my\u001b[0m\u001b[0;34m,\u001b[0m \u001b[0mmax_samples\u001b[0m\u001b[0;34m=\u001b[0m\u001b[0;32mNone\u001b[0m\u001b[0;34m,\u001b[0m \u001b[0mmax_depth\u001b[0m\u001b[0;34m=\u001b[0m\u001b[0;32mNone\u001b[0m\u001b[0;34m,\u001b[0m \u001b[0msample_weight\u001b[0m\u001b[0;34m=\u001b[0m\u001b[0;32mNone\u001b[0m\u001b[0;34m)\u001b[0m\u001b[0;34m:\u001b[0m\u001b[0;34m\u001b[0m\u001b[0m\n",
      "\u001b[0;32m/home/d2/anaconda3/lib/python3.6/site-packages/sklearn/ensemble/bagging.py\u001b[0m in \u001b[0;36m_fit\u001b[0;34m(self, X, y, max_samples, max_depth, sample_weight)\u001b[0m\n\u001b[1;32m    373\u001b[0m                 \u001b[0mtotal_n_estimators\u001b[0m\u001b[0;34m,\u001b[0m\u001b[0;34m\u001b[0m\u001b[0m\n\u001b[1;32m    374\u001b[0m                 verbose=self.verbose)\n\u001b[0;32m--> 375\u001b[0;31m             for i in range(n_jobs))\n\u001b[0m\u001b[1;32m    376\u001b[0m \u001b[0;34m\u001b[0m\u001b[0m\n\u001b[1;32m    377\u001b[0m         \u001b[0;31m# Reduce\u001b[0m\u001b[0;34m\u001b[0m\u001b[0;34m\u001b[0m\u001b[0m\n",
      "\u001b[0;32m/home/d2/anaconda3/lib/python3.6/site-packages/sklearn/externals/joblib/parallel.py\u001b[0m in \u001b[0;36m__call__\u001b[0;34m(self, iterable)\u001b[0m\n\u001b[1;32m    777\u001b[0m             \u001b[0;31m# was dispatched. In particular this covers the edge\u001b[0m\u001b[0;34m\u001b[0m\u001b[0;34m\u001b[0m\u001b[0m\n\u001b[1;32m    778\u001b[0m             \u001b[0;31m# case of Parallel used with an exhausted iterator.\u001b[0m\u001b[0;34m\u001b[0m\u001b[0;34m\u001b[0m\u001b[0m\n\u001b[0;32m--> 779\u001b[0;31m             \u001b[0;32mwhile\u001b[0m \u001b[0mself\u001b[0m\u001b[0;34m.\u001b[0m\u001b[0mdispatch_one_batch\u001b[0m\u001b[0;34m(\u001b[0m\u001b[0miterator\u001b[0m\u001b[0;34m)\u001b[0m\u001b[0;34m:\u001b[0m\u001b[0;34m\u001b[0m\u001b[0m\n\u001b[0m\u001b[1;32m    780\u001b[0m                 \u001b[0mself\u001b[0m\u001b[0;34m.\u001b[0m\u001b[0m_iterating\u001b[0m \u001b[0;34m=\u001b[0m \u001b[0;32mTrue\u001b[0m\u001b[0;34m\u001b[0m\u001b[0m\n\u001b[1;32m    781\u001b[0m             \u001b[0;32melse\u001b[0m\u001b[0;34m:\u001b[0m\u001b[0;34m\u001b[0m\u001b[0m\n",
      "\u001b[0;32m/home/d2/anaconda3/lib/python3.6/site-packages/sklearn/externals/joblib/parallel.py\u001b[0m in \u001b[0;36mdispatch_one_batch\u001b[0;34m(self, iterator)\u001b[0m\n\u001b[1;32m    623\u001b[0m                 \u001b[0;32mreturn\u001b[0m \u001b[0;32mFalse\u001b[0m\u001b[0;34m\u001b[0m\u001b[0m\n\u001b[1;32m    624\u001b[0m             \u001b[0;32melse\u001b[0m\u001b[0;34m:\u001b[0m\u001b[0;34m\u001b[0m\u001b[0m\n\u001b[0;32m--> 625\u001b[0;31m                 \u001b[0mself\u001b[0m\u001b[0;34m.\u001b[0m\u001b[0m_dispatch\u001b[0m\u001b[0;34m(\u001b[0m\u001b[0mtasks\u001b[0m\u001b[0;34m)\u001b[0m\u001b[0;34m\u001b[0m\u001b[0m\n\u001b[0m\u001b[1;32m    626\u001b[0m                 \u001b[0;32mreturn\u001b[0m \u001b[0;32mTrue\u001b[0m\u001b[0;34m\u001b[0m\u001b[0m\n\u001b[1;32m    627\u001b[0m \u001b[0;34m\u001b[0m\u001b[0m\n",
      "\u001b[0;32m/home/d2/anaconda3/lib/python3.6/site-packages/sklearn/externals/joblib/parallel.py\u001b[0m in \u001b[0;36m_dispatch\u001b[0;34m(self, batch)\u001b[0m\n\u001b[1;32m    586\u001b[0m         \u001b[0mdispatch_timestamp\u001b[0m \u001b[0;34m=\u001b[0m \u001b[0mtime\u001b[0m\u001b[0;34m.\u001b[0m\u001b[0mtime\u001b[0m\u001b[0;34m(\u001b[0m\u001b[0;34m)\u001b[0m\u001b[0;34m\u001b[0m\u001b[0m\n\u001b[1;32m    587\u001b[0m         \u001b[0mcb\u001b[0m \u001b[0;34m=\u001b[0m \u001b[0mBatchCompletionCallBack\u001b[0m\u001b[0;34m(\u001b[0m\u001b[0mdispatch_timestamp\u001b[0m\u001b[0;34m,\u001b[0m \u001b[0mlen\u001b[0m\u001b[0;34m(\u001b[0m\u001b[0mbatch\u001b[0m\u001b[0;34m)\u001b[0m\u001b[0;34m,\u001b[0m \u001b[0mself\u001b[0m\u001b[0;34m)\u001b[0m\u001b[0;34m\u001b[0m\u001b[0m\n\u001b[0;32m--> 588\u001b[0;31m         \u001b[0mjob\u001b[0m \u001b[0;34m=\u001b[0m \u001b[0mself\u001b[0m\u001b[0;34m.\u001b[0m\u001b[0m_backend\u001b[0m\u001b[0;34m.\u001b[0m\u001b[0mapply_async\u001b[0m\u001b[0;34m(\u001b[0m\u001b[0mbatch\u001b[0m\u001b[0;34m,\u001b[0m \u001b[0mcallback\u001b[0m\u001b[0;34m=\u001b[0m\u001b[0mcb\u001b[0m\u001b[0;34m)\u001b[0m\u001b[0;34m\u001b[0m\u001b[0m\n\u001b[0m\u001b[1;32m    589\u001b[0m         \u001b[0mself\u001b[0m\u001b[0;34m.\u001b[0m\u001b[0m_jobs\u001b[0m\u001b[0;34m.\u001b[0m\u001b[0mappend\u001b[0m\u001b[0;34m(\u001b[0m\u001b[0mjob\u001b[0m\u001b[0;34m)\u001b[0m\u001b[0;34m\u001b[0m\u001b[0m\n\u001b[1;32m    590\u001b[0m \u001b[0;34m\u001b[0m\u001b[0m\n",
      "\u001b[0;32m/home/d2/anaconda3/lib/python3.6/site-packages/sklearn/externals/joblib/_parallel_backends.py\u001b[0m in \u001b[0;36mapply_async\u001b[0;34m(self, func, callback)\u001b[0m\n\u001b[1;32m    109\u001b[0m     \u001b[0;32mdef\u001b[0m \u001b[0mapply_async\u001b[0m\u001b[0;34m(\u001b[0m\u001b[0mself\u001b[0m\u001b[0;34m,\u001b[0m \u001b[0mfunc\u001b[0m\u001b[0;34m,\u001b[0m \u001b[0mcallback\u001b[0m\u001b[0;34m=\u001b[0m\u001b[0;32mNone\u001b[0m\u001b[0;34m)\u001b[0m\u001b[0;34m:\u001b[0m\u001b[0;34m\u001b[0m\u001b[0m\n\u001b[1;32m    110\u001b[0m         \u001b[0;34m\"\"\"Schedule a func to be run\"\"\"\u001b[0m\u001b[0;34m\u001b[0m\u001b[0m\n\u001b[0;32m--> 111\u001b[0;31m         \u001b[0mresult\u001b[0m \u001b[0;34m=\u001b[0m \u001b[0mImmediateResult\u001b[0m\u001b[0;34m(\u001b[0m\u001b[0mfunc\u001b[0m\u001b[0;34m)\u001b[0m\u001b[0;34m\u001b[0m\u001b[0m\n\u001b[0m\u001b[1;32m    112\u001b[0m         \u001b[0;32mif\u001b[0m \u001b[0mcallback\u001b[0m\u001b[0;34m:\u001b[0m\u001b[0;34m\u001b[0m\u001b[0m\n\u001b[1;32m    113\u001b[0m             \u001b[0mcallback\u001b[0m\u001b[0;34m(\u001b[0m\u001b[0mresult\u001b[0m\u001b[0;34m)\u001b[0m\u001b[0;34m\u001b[0m\u001b[0m\n",
      "\u001b[0;32m/home/d2/anaconda3/lib/python3.6/site-packages/sklearn/externals/joblib/_parallel_backends.py\u001b[0m in \u001b[0;36m__init__\u001b[0;34m(self, batch)\u001b[0m\n\u001b[1;32m    330\u001b[0m         \u001b[0;31m# Don't delay the application, to avoid keeping the input\u001b[0m\u001b[0;34m\u001b[0m\u001b[0;34m\u001b[0m\u001b[0m\n\u001b[1;32m    331\u001b[0m         \u001b[0;31m# arguments in memory\u001b[0m\u001b[0;34m\u001b[0m\u001b[0;34m\u001b[0m\u001b[0m\n\u001b[0;32m--> 332\u001b[0;31m         \u001b[0mself\u001b[0m\u001b[0;34m.\u001b[0m\u001b[0mresults\u001b[0m \u001b[0;34m=\u001b[0m \u001b[0mbatch\u001b[0m\u001b[0;34m(\u001b[0m\u001b[0;34m)\u001b[0m\u001b[0;34m\u001b[0m\u001b[0m\n\u001b[0m\u001b[1;32m    333\u001b[0m \u001b[0;34m\u001b[0m\u001b[0m\n\u001b[1;32m    334\u001b[0m     \u001b[0;32mdef\u001b[0m \u001b[0mget\u001b[0m\u001b[0;34m(\u001b[0m\u001b[0mself\u001b[0m\u001b[0;34m)\u001b[0m\u001b[0;34m:\u001b[0m\u001b[0;34m\u001b[0m\u001b[0m\n",
      "\u001b[0;32m/home/d2/anaconda3/lib/python3.6/site-packages/sklearn/externals/joblib/parallel.py\u001b[0m in \u001b[0;36m__call__\u001b[0;34m(self)\u001b[0m\n\u001b[1;32m    129\u001b[0m \u001b[0;34m\u001b[0m\u001b[0m\n\u001b[1;32m    130\u001b[0m     \u001b[0;32mdef\u001b[0m \u001b[0m__call__\u001b[0m\u001b[0;34m(\u001b[0m\u001b[0mself\u001b[0m\u001b[0;34m)\u001b[0m\u001b[0;34m:\u001b[0m\u001b[0;34m\u001b[0m\u001b[0m\n\u001b[0;32m--> 131\u001b[0;31m         \u001b[0;32mreturn\u001b[0m \u001b[0;34m[\u001b[0m\u001b[0mfunc\u001b[0m\u001b[0;34m(\u001b[0m\u001b[0;34m*\u001b[0m\u001b[0margs\u001b[0m\u001b[0;34m,\u001b[0m \u001b[0;34m**\u001b[0m\u001b[0mkwargs\u001b[0m\u001b[0;34m)\u001b[0m \u001b[0;32mfor\u001b[0m \u001b[0mfunc\u001b[0m\u001b[0;34m,\u001b[0m \u001b[0margs\u001b[0m\u001b[0;34m,\u001b[0m \u001b[0mkwargs\u001b[0m \u001b[0;32min\u001b[0m \u001b[0mself\u001b[0m\u001b[0;34m.\u001b[0m\u001b[0mitems\u001b[0m\u001b[0;34m]\u001b[0m\u001b[0;34m\u001b[0m\u001b[0m\n\u001b[0m\u001b[1;32m    132\u001b[0m \u001b[0;34m\u001b[0m\u001b[0m\n\u001b[1;32m    133\u001b[0m     \u001b[0;32mdef\u001b[0m \u001b[0m__len__\u001b[0m\u001b[0;34m(\u001b[0m\u001b[0mself\u001b[0m\u001b[0;34m)\u001b[0m\u001b[0;34m:\u001b[0m\u001b[0;34m\u001b[0m\u001b[0m\n",
      "\u001b[0;32m/home/d2/anaconda3/lib/python3.6/site-packages/sklearn/externals/joblib/parallel.py\u001b[0m in \u001b[0;36m<listcomp>\u001b[0;34m(.0)\u001b[0m\n\u001b[1;32m    129\u001b[0m \u001b[0;34m\u001b[0m\u001b[0m\n\u001b[1;32m    130\u001b[0m     \u001b[0;32mdef\u001b[0m \u001b[0m__call__\u001b[0m\u001b[0;34m(\u001b[0m\u001b[0mself\u001b[0m\u001b[0;34m)\u001b[0m\u001b[0;34m:\u001b[0m\u001b[0;34m\u001b[0m\u001b[0m\n\u001b[0;32m--> 131\u001b[0;31m         \u001b[0;32mreturn\u001b[0m \u001b[0;34m[\u001b[0m\u001b[0mfunc\u001b[0m\u001b[0;34m(\u001b[0m\u001b[0;34m*\u001b[0m\u001b[0margs\u001b[0m\u001b[0;34m,\u001b[0m \u001b[0;34m**\u001b[0m\u001b[0mkwargs\u001b[0m\u001b[0;34m)\u001b[0m \u001b[0;32mfor\u001b[0m \u001b[0mfunc\u001b[0m\u001b[0;34m,\u001b[0m \u001b[0margs\u001b[0m\u001b[0;34m,\u001b[0m \u001b[0mkwargs\u001b[0m \u001b[0;32min\u001b[0m \u001b[0mself\u001b[0m\u001b[0;34m.\u001b[0m\u001b[0mitems\u001b[0m\u001b[0;34m]\u001b[0m\u001b[0;34m\u001b[0m\u001b[0m\n\u001b[0m\u001b[1;32m    132\u001b[0m \u001b[0;34m\u001b[0m\u001b[0m\n\u001b[1;32m    133\u001b[0m     \u001b[0;32mdef\u001b[0m \u001b[0m__len__\u001b[0m\u001b[0;34m(\u001b[0m\u001b[0mself\u001b[0m\u001b[0;34m)\u001b[0m\u001b[0;34m:\u001b[0m\u001b[0;34m\u001b[0m\u001b[0m\n",
      "\u001b[0;32m/home/d2/anaconda3/lib/python3.6/site-packages/sklearn/ensemble/bagging.py\u001b[0m in \u001b[0;36m_parallel_build_estimators\u001b[0;34m(n_estimators, ensemble, X, y, sample_weight, seeds, total_n_estimators, verbose)\u001b[0m\n\u001b[1;32m     87\u001b[0m         \u001b[0mrandom_state\u001b[0m \u001b[0;34m=\u001b[0m \u001b[0mnp\u001b[0m\u001b[0;34m.\u001b[0m\u001b[0mrandom\u001b[0m\u001b[0;34m.\u001b[0m\u001b[0mRandomState\u001b[0m\u001b[0;34m(\u001b[0m\u001b[0mseeds\u001b[0m\u001b[0;34m[\u001b[0m\u001b[0mi\u001b[0m\u001b[0;34m]\u001b[0m\u001b[0;34m)\u001b[0m\u001b[0;34m\u001b[0m\u001b[0m\n\u001b[1;32m     88\u001b[0m         estimator = ensemble._make_estimator(append=False,\n\u001b[0;32m---> 89\u001b[0;31m                                              random_state=random_state)\n\u001b[0m\u001b[1;32m     90\u001b[0m \u001b[0;34m\u001b[0m\u001b[0m\n\u001b[1;32m     91\u001b[0m         \u001b[0;31m# Draw random feature, sample indices\u001b[0m\u001b[0;34m\u001b[0m\u001b[0;34m\u001b[0m\u001b[0m\n",
      "\u001b[0;32m/home/d2/anaconda3/lib/python3.6/site-packages/sklearn/ensemble/base.py\u001b[0m in \u001b[0;36m_make_estimator\u001b[0;34m(self, append, random_state)\u001b[0m\n\u001b[1;32m    123\u001b[0m         \u001b[0msub\u001b[0m\u001b[0;34m-\u001b[0m\u001b[0mestimators\u001b[0m\u001b[0;34m.\u001b[0m\u001b[0;34m\u001b[0m\u001b[0m\n\u001b[1;32m    124\u001b[0m         \"\"\"\n\u001b[0;32m--> 125\u001b[0;31m         \u001b[0mestimator\u001b[0m \u001b[0;34m=\u001b[0m \u001b[0mclone\u001b[0m\u001b[0;34m(\u001b[0m\u001b[0mself\u001b[0m\u001b[0;34m.\u001b[0m\u001b[0mbase_estimator_\u001b[0m\u001b[0;34m)\u001b[0m\u001b[0;34m\u001b[0m\u001b[0m\n\u001b[0m\u001b[1;32m    126\u001b[0m         estimator.set_params(**dict((p, getattr(self, p))\n\u001b[1;32m    127\u001b[0m                                     for p in self.estimator_params))\n",
      "\u001b[0;32m/home/d2/anaconda3/lib/python3.6/site-packages/sklearn/base.py\u001b[0m in \u001b[0;36mclone\u001b[0;34m(estimator, safe)\u001b[0m\n\u001b[1;32m     61\u001b[0m         \u001b[0mnew_object_params\u001b[0m\u001b[0;34m[\u001b[0m\u001b[0mname\u001b[0m\u001b[0;34m]\u001b[0m \u001b[0;34m=\u001b[0m \u001b[0mclone\u001b[0m\u001b[0;34m(\u001b[0m\u001b[0mparam\u001b[0m\u001b[0;34m,\u001b[0m \u001b[0msafe\u001b[0m\u001b[0;34m=\u001b[0m\u001b[0;32mFalse\u001b[0m\u001b[0;34m)\u001b[0m\u001b[0;34m\u001b[0m\u001b[0m\n\u001b[1;32m     62\u001b[0m     \u001b[0mnew_object\u001b[0m \u001b[0;34m=\u001b[0m \u001b[0mklass\u001b[0m\u001b[0;34m(\u001b[0m\u001b[0;34m**\u001b[0m\u001b[0mnew_object_params\u001b[0m\u001b[0;34m)\u001b[0m\u001b[0;34m\u001b[0m\u001b[0m\n\u001b[0;32m---> 63\u001b[0;31m     \u001b[0mparams_set\u001b[0m \u001b[0;34m=\u001b[0m \u001b[0mnew_object\u001b[0m\u001b[0;34m.\u001b[0m\u001b[0mget_params\u001b[0m\u001b[0;34m(\u001b[0m\u001b[0mdeep\u001b[0m\u001b[0;34m=\u001b[0m\u001b[0;32mFalse\u001b[0m\u001b[0;34m)\u001b[0m\u001b[0;34m\u001b[0m\u001b[0m\n\u001b[0m\u001b[1;32m     64\u001b[0m \u001b[0;34m\u001b[0m\u001b[0m\n\u001b[1;32m     65\u001b[0m     \u001b[0;31m# quick sanity check of the parameters of the clone\u001b[0m\u001b[0;34m\u001b[0m\u001b[0;34m\u001b[0m\u001b[0m\n",
      "\u001b[0;32m/home/d2/anaconda3/lib/python3.6/site-packages/sklearn/base.py\u001b[0m in \u001b[0;36mget_params\u001b[0;34m(self, deep)\u001b[0m\n\u001b[1;32m    232\u001b[0m             \u001b[0mwarnings\u001b[0m\u001b[0;34m.\u001b[0m\u001b[0msimplefilter\u001b[0m\u001b[0;34m(\u001b[0m\u001b[0;34m\"always\"\u001b[0m\u001b[0;34m,\u001b[0m \u001b[0mDeprecationWarning\u001b[0m\u001b[0;34m)\u001b[0m\u001b[0;34m\u001b[0m\u001b[0m\n\u001b[1;32m    233\u001b[0m             \u001b[0;32mtry\u001b[0m\u001b[0;34m:\u001b[0m\u001b[0;34m\u001b[0m\u001b[0m\n\u001b[0;32m--> 234\u001b[0;31m                 \u001b[0;32mwith\u001b[0m \u001b[0mwarnings\u001b[0m\u001b[0;34m.\u001b[0m\u001b[0mcatch_warnings\u001b[0m\u001b[0;34m(\u001b[0m\u001b[0mrecord\u001b[0m\u001b[0;34m=\u001b[0m\u001b[0;32mTrue\u001b[0m\u001b[0;34m)\u001b[0m \u001b[0;32mas\u001b[0m \u001b[0mw\u001b[0m\u001b[0;34m:\u001b[0m\u001b[0;34m\u001b[0m\u001b[0m\n\u001b[0m\u001b[1;32m    235\u001b[0m                     \u001b[0mvalue\u001b[0m \u001b[0;34m=\u001b[0m \u001b[0mgetattr\u001b[0m\u001b[0;34m(\u001b[0m\u001b[0mself\u001b[0m\u001b[0;34m,\u001b[0m \u001b[0mkey\u001b[0m\u001b[0;34m,\u001b[0m \u001b[0;32mNone\u001b[0m\u001b[0;34m)\u001b[0m\u001b[0;34m\u001b[0m\u001b[0m\n\u001b[1;32m    236\u001b[0m                 \u001b[0;32mif\u001b[0m \u001b[0mlen\u001b[0m\u001b[0;34m(\u001b[0m\u001b[0mw\u001b[0m\u001b[0;34m)\u001b[0m \u001b[0;32mand\u001b[0m \u001b[0mw\u001b[0m\u001b[0;34m[\u001b[0m\u001b[0;36m0\u001b[0m\u001b[0;34m]\u001b[0m\u001b[0;34m.\u001b[0m\u001b[0mcategory\u001b[0m \u001b[0;34m==\u001b[0m \u001b[0mDeprecationWarning\u001b[0m\u001b[0;34m:\u001b[0m\u001b[0;34m\u001b[0m\u001b[0m\n",
      "\u001b[0;32m/home/d2/anaconda3/lib/python3.6/warnings.py\u001b[0m in \u001b[0;36m__init__\u001b[0;34m(self, record, module)\u001b[0m\n\u001b[1;32m    426\u001b[0m     \"\"\"\n\u001b[1;32m    427\u001b[0m \u001b[0;34m\u001b[0m\u001b[0m\n\u001b[0;32m--> 428\u001b[0;31m     \u001b[0;32mdef\u001b[0m \u001b[0m__init__\u001b[0m\u001b[0;34m(\u001b[0m\u001b[0mself\u001b[0m\u001b[0;34m,\u001b[0m \u001b[0;34m*\u001b[0m\u001b[0;34m,\u001b[0m \u001b[0mrecord\u001b[0m\u001b[0;34m=\u001b[0m\u001b[0;32mFalse\u001b[0m\u001b[0;34m,\u001b[0m \u001b[0mmodule\u001b[0m\u001b[0;34m=\u001b[0m\u001b[0;32mNone\u001b[0m\u001b[0;34m)\u001b[0m\u001b[0;34m:\u001b[0m\u001b[0;34m\u001b[0m\u001b[0m\n\u001b[0m\u001b[1;32m    429\u001b[0m         \"\"\"Specify whether to record warnings and if an alternative module\n\u001b[1;32m    430\u001b[0m         \u001b[0mshould\u001b[0m \u001b[0mbe\u001b[0m \u001b[0mused\u001b[0m \u001b[0mother\u001b[0m \u001b[0mthan\u001b[0m \u001b[0msys\u001b[0m\u001b[0;34m.\u001b[0m\u001b[0mmodules\u001b[0m\u001b[0;34m[\u001b[0m\u001b[0;34m'warnings'\u001b[0m\u001b[0;34m]\u001b[0m\u001b[0;34m.\u001b[0m\u001b[0;34m\u001b[0m\u001b[0m\n",
      "\u001b[0;31mKeyboardInterrupt\u001b[0m: "
     ]
    }
   ],
   "source": [
    "param_grid = [{'n_estimators':np.arange(40,80),'max_samples':np.arange(50,100,20),'max_features':np.arange(2,7)}]\n",
    "bc_clf = BaggingClassifier(random_state=42)\n",
    "bc_cv = GridSearchCV(bc_clf,param_grid,cv=5,verbose=3)\n",
    "bc_cv.fit(X,y)"
   ]
  },
  {
   "cell_type": "code",
   "execution_count": 60,
   "metadata": {},
   "outputs": [
    {
     "name": "stdout",
     "output_type": "stream",
     "text": [
      "{'max_features': 6, 'max_samples': 90, 'n_estimators': 49}\n",
      "BaggingClassifier(base_estimator=None, bootstrap=True,\n",
      "         bootstrap_features=False, max_features=6, max_samples=90,\n",
      "         n_estimators=49, n_jobs=1, oob_score=False, random_state=42,\n",
      "         verbose=0, warm_start=False)\n",
      "0.59473248759\n"
     ]
    }
   ],
   "source": [
    "print(bc_cv.best_params_)\n",
    "print(bc_cv.best_estimator_)\n",
    "print(bc_cv.best_score_)"
   ]
  },
  {
   "cell_type": "code",
   "execution_count": 61,
   "metadata": {
    "collapsed": true
   },
   "outputs": [],
   "source": [
    "bc_clf = BaggingClassifier()\n",
    "bc_clf.fit(X,y)\n",
    "bc_pred = bc_clf.predict(X_1)\n",
    "output_bc = pd.DataFrame(data={'id':test['id'], 'response':bc_pred})\n",
    "output_bc['response'].replace(0,\"Pretty Happy\",inplace=True)\n",
    "output_bc['response'].replace(1,\"Very Happy\",inplace=True)\n",
    "output_bc['response'].replace(-1,\"Not Happy\",inplace=True)\n",
    "output_bc.to_csv(\"output/resul_bc.csv\",index=False)"
   ]
  },
  {
   "cell_type": "markdown",
   "metadata": {},
   "source": [
    "# Trying out some extra ones"
   ]
  },
  {
   "cell_type": "code",
   "execution_count": 53,
   "metadata": {},
   "outputs": [],
   "source": [
    "rf = RandomForestClassifier()\n",
    "ab = AdaBoostClassifier()\n",
    "gb = GradientBoostingClassifier()\n",
    "kn = KNeighborsClassifier()\n",
    "lr = LogisticRegression()\n",
    "sv = SVC()\n",
    "mn = MultinomialNB()\n",
    "gn = GaussianNB()\n",
    "\n",
    "eclf = VotingClassifier(estimators=[('rf',rf),('ab',ab),('gb',gb),('sv',sv),('gn',gn)],voting='hard')\n",
    "eclf.fit(X,y)\n",
    "eclf_pred = eclf.predict(X_1)\n",
    "output_eclf = pd.DataFrame(data={'id':test['id'], 'response':eclf_pred})\n",
    "output_eclf['response'].replace(0,\"Pretty Happy\",inplace=True)\n",
    "output_eclf['response'].replace(1,\"Very Happy\",inplace=True)\n",
    "output_eclf['response'].replace(-1,\"Not Happy\",inplace=True)\n",
    "output_eclf.to_csv(\"output/resul_eclf2.csv\",index=False)"
   ]
  },
  {
   "cell_type": "code",
   "execution_count": 70,
   "metadata": {},
   "outputs": [],
   "source": [
    "#random forest with AdaBoostClassifierClassifierClassifierClassifierClassifierClassifierClassifierClassifierClassifierClassifierClassifierClassifierClassifierClassifierClassifierClassifierClassifierClassifierClassifierClassifierClassifierClassifierClassifierClassifierClassifierClassifierClassifierClassifierClassifierClassifierClassifierClassifierClassifierClassifierClassifierClassifierClassifierClassifierClassifierClassifierClassifierClassifierClassifierClassifierClassifierClassifierClassifierClassifierClassifierClassifierClassifierClassifierClassifierClassifierClassifierClassifierClassifierClassifierClassifierClassifier\n",
    "ab_clf = AdaBoostClassifier(base_estimator=GradientBoostingClassifier(),n_estimators=170,learning_rate=0.75,random_state=42)\n",
    "ab_clf.fit(X,y)\n",
    "ab_pred = ab_clf.predict(X_1)\n",
    "output_ab = pd.DataFrame(data={'id':test['id'], 'response':ab_pred})\n",
    "output_ab['response'].replace(0,\"Pretty Happy\",inplace=True)\n",
    "output_ab['response'].replace(1,\"Very Happy\",inplace=True)\n",
    "output_ab['response'].replace(-1,\"Not Happy\",inplace=True)\n",
    "output_ab.to_csv(\"output/resul_ab_rf.csv\",index=False)"
   ]
  },
  {
   "cell_type": "code",
   "execution_count": null,
   "metadata": {},
   "outputs": [],
   "source": []
  },
  {
   "cell_type": "code",
   "execution_count": null,
   "metadata": {},
   "outputs": [],
   "source": []
  }
 ],
 "metadata": {
  "kernelspec": {
   "display_name": "Python 3",
   "language": "python",
   "name": "python3"
  },
  "language_info": {
   "codemirror_mode": {
    "name": "ipython",
    "version": 3
   },
   "file_extension": ".py",
   "mimetype": "text/x-python",
   "name": "python",
   "nbconvert_exporter": "python",
   "pygments_lexer": "ipython3",
   "version": "3.5.2"
  }
 },
 "nbformat": 4,
 "nbformat_minor": 2
}
